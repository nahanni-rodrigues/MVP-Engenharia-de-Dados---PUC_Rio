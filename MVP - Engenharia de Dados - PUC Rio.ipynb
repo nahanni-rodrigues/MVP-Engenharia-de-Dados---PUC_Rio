{
 "cells": [
  {
   "cell_type": "markdown",
   "metadata": {
    "application/vnd.databricks.v1+cell": {
     "cellMetadata": {
      "byteLimit": 2048000,
      "rowLimit": 10000
     },
     "inputWidgets": {},
     "nuid": "96816ed7-b08a-4ca3-abb9-f99880c3535d",
     "showTitle": false,
     "tableResultSettingsMap": {},
     "title": ""
    }
   },
   "source": [
    "\n",
    "## MVP Engenharia de Dados PUC-Rio\n",
    "\n",
    "Esse Notebook tem como objetivo a coleta, modelagem, carga, tratamento e análise de dados relacionados a candidatos da área de Ciência de dados. Todas as etapas necessária para leitura do arquivo '.csv' obtido no Kaggle, tratamentos necessários para utilização dos dados, as transformações, e visualizações de gráficos e consultas SQL estão descritas abaixo para falicitar a compreenção das análises. \n",
    "\n",
    "O objetivo do MVP é analisar um conjunto de dados sobre informações de candidatos que buscam emprego na área de ciência de dados, função que vem sendo bastante explorada atualmente, tendo em vista as mudanças que estão ocorrendo nas empresas ao redor do mundo, que é a busca por agregar valor aos dados existentes nas mesmas. O profissional de ciência de dados entra, dessa forma, sendo umas das peças chaves para a implementação do uso inteligente desses dados para os gestores, de modo a buscar melhores resultados. \n",
    "\n",
    "Algumas perguntas serão respondidas a partir dos dados presentes, sendo elas divididas por cenários como mostrado abaixo: \n",
    "1.\tPerfil dos profissionais:\n",
    "•\tQual a distribuição de gênero dos candidatos?\n",
    "•\tQual o nível de formação mais comum entre os profissionais de ciência de dados?\n",
    "•\tQual a experiência média dos candidatos?\n",
    "•\tQuantas pessoas já têm experiência relevante na área?\n",
    "\n",
    "2.\tFatores que Impactam a Contratação\n",
    "•\tO nível de educação influencia na intenção de trocar de emprego?\n",
    "•\tCandidatos que fizeram mais horas de treinamento têm mais chances de mudar de emprego?\n",
    "•\tQual o impacto do tamanho da empresa na retenção de talentos?\n",
    "•\tEmpresas privadas (Pvt Ltd) perdem mais funcionários do que startups?\n",
    "\n",
    "3.\tLocalização e Desenvolvimento do Mercado\n",
    "•\tEm quais cidades há maior concentração de profissionais de ciência de dados?\n",
    "•\tO índice de desenvolvimento da cidade (city_development_index) tem impacto na retenção de talentos?\n",
    "\n",
    "4.\tAnálises sobre Empresas\n",
    "•\tQual o porte das empresas que mais contratam profissionais de ciência de dados?\n",
    "•\tStartups contratam mais profissionais juniores ou seniores?\n",
    "•\tEmpresas grandes (5000+ funcionários) investem mais em treinamento do que empresas pequenas?\n"
   ]
  },
  {
   "cell_type": "code",
   "execution_count": 0,
   "metadata": {
    "application/vnd.databricks.v1+cell": {
     "cellMetadata": {
      "byteLimit": 2048000,
      "rowLimit": 10000
     },
     "inputWidgets": {},
     "nuid": "1081ae24-9142-40c2-8f00-8abe3216848c",
     "showTitle": true,
     "tableResultSettingsMap": {},
     "title": "Visualização das tabelas presentes no DBFS"
    }
   },
   "outputs": [
    {
     "output_type": "stream",
     "name": "stdout",
     "output_type": "stream",
     "text": [
      "Out[1]: [FileInfo(path='dbfs:/FileStore/tables/data_science_job.csv', name='data_science_job.csv', size=1909540, modificationTime=1742415019000)]"
     ]
    }
   ],
   "source": [
    "dbutils.fs.ls('dbfs:/FileStore/tables/')"
   ]
  },
  {
   "cell_type": "code",
   "execution_count": 0,
   "metadata": {
    "application/vnd.databricks.v1+cell": {
     "cellMetadata": {
      "byteLimit": 2048000,
      "rowLimit": 10000
     },
     "inputWidgets": {},
     "nuid": "6482be4c-f067-47c9-b0ac-35c938b94601",
     "showTitle": true,
     "tableResultSettingsMap": {},
     "title": "Leitura do arquivo '.csv'"
    }
   },
   "outputs": [
    {
     "output_type": "display_data",
     "data": {
      "text/html": [
       "<style scoped>\n",
       "  .table-result-container {\n",
       "    max-height: 300px;\n",
       "    overflow: auto;\n",
       "  }\n",
       "  table, th, td {\n",
       "    border: 1px solid black;\n",
       "    border-collapse: collapse;\n",
       "  }\n",
       "  th, td {\n",
       "    padding: 5px;\n",
       "  }\n",
       "  th {\n",
       "    text-align: left;\n",
       "  }\n",
       "</style><div class='table-result-container'><table class='table-result'><thead style='background-color: white'><tr><th>enrollee_id</th><th>city</th><th>city_development_index</th><th>gender</th><th>relevent_experience</th><th>enrolled_university</th><th>education_level</th><th>major_discipline</th><th>experience</th><th>company_size</th><th>company_type</th><th>training_hours</th><th>target</th></tr></thead><tbody><tr><td>8949</td><td>city_103</td><td>0.92</td><td>Male</td><td>Has relevent experience</td><td>no_enrollment</td><td>Graduate</td><td>STEM</td><td>20</td><td>null</td><td>null</td><td>36.0</td><td>1.0</td></tr><tr><td>29725</td><td>city_40</td><td>0.7759999999999999</td><td>Male</td><td>No relevent experience</td><td>no_enrollment</td><td>Graduate</td><td>STEM</td><td>15</td><td>50-99</td><td>Pvt Ltd</td><td>47.0</td><td>0.0</td></tr><tr><td>11561</td><td>city_21</td><td>0.624</td><td>null</td><td>No relevent experience</td><td>Full time course</td><td>Graduate</td><td>STEM</td><td>5</td><td>null</td><td>null</td><td>83.0</td><td>0.0</td></tr><tr><td>33241</td><td>city_115</td><td>0.789</td><td>null</td><td>No relevent experience</td><td>null</td><td>Graduate</td><td>Business Degree</td><td>0</td><td>null</td><td>Pvt Ltd</td><td>52.0</td><td>1.0</td></tr><tr><td>666</td><td>city_162</td><td>0.767</td><td>Male</td><td>Has relevent experience</td><td>no_enrollment</td><td>Masters</td><td>STEM</td><td>20</td><td>50-99</td><td>Funded Startup</td><td>8.0</td><td>0.0</td></tr><tr><td>21651</td><td>city_176</td><td>0.764</td><td>null</td><td>Has relevent experience</td><td>Part time course</td><td>Graduate</td><td>STEM</td><td>11</td><td>null</td><td>null</td><td>24.0</td><td>1.0</td></tr><tr><td>28806</td><td>city_160</td><td>0.92</td><td>Male</td><td>Has relevent experience</td><td>no_enrollment</td><td>High School</td><td>null</td><td>5</td><td>50-99</td><td>Funded Startup</td><td>24.0</td><td>0.0</td></tr><tr><td>402</td><td>city_46</td><td>0.762</td><td>Male</td><td>Has relevent experience</td><td>no_enrollment</td><td>Graduate</td><td>STEM</td><td>13</td><td><10</td><td>Pvt Ltd</td><td>18.0</td><td>1.0</td></tr><tr><td>27107</td><td>city_103</td><td>0.92</td><td>Male</td><td>Has relevent experience</td><td>no_enrollment</td><td>Graduate</td><td>STEM</td><td>7</td><td>50-99</td><td>Pvt Ltd</td><td>46.0</td><td>1.0</td></tr><tr><td>699</td><td>city_103</td><td>0.92</td><td>null</td><td>Has relevent experience</td><td>no_enrollment</td><td>Graduate</td><td>STEM</td><td>17</td><td>10000+</td><td>Pvt Ltd</td><td>123.0</td><td>0.0</td></tr></tbody></table></div>"
      ]
     },
     "metadata": {
      "application/vnd.databricks.v1+output": {
       "addedWidgets": {},
       "aggData": [],
       "aggError": "",
       "aggOverflow": false,
       "aggSchema": [],
       "aggSeriesLimitReached": false,
       "aggType": "",
       "arguments": {},
       "columnCustomDisplayInfos": {},
       "data": [
        [
         8949,
         "city_103",
         0.92,
         "Male",
         "Has relevent experience",
         "no_enrollment",
         "Graduate",
         "STEM",
         20,
         null,
         null,
         36.0,
         1.0
        ],
        [
         29725,
         "city_40",
         0.7759999999999999,
         "Male",
         "No relevent experience",
         "no_enrollment",
         "Graduate",
         "STEM",
         15,
         "50-99",
         "Pvt Ltd",
         47.0,
         0.0
        ],
        [
         11561,
         "city_21",
         0.624,
         null,
         "No relevent experience",
         "Full time course",
         "Graduate",
         "STEM",
         5,
         null,
         null,
         83.0,
         0.0
        ],
        [
         33241,
         "city_115",
         0.789,
         null,
         "No relevent experience",
         null,
         "Graduate",
         "Business Degree",
         0,
         null,
         "Pvt Ltd",
         52.0,
         1.0
        ],
        [
         666,
         "city_162",
         0.767,
         "Male",
         "Has relevent experience",
         "no_enrollment",
         "Masters",
         "STEM",
         20,
         "50-99",
         "Funded Startup",
         8.0,
         0.0
        ],
        [
         21651,
         "city_176",
         0.764,
         null,
         "Has relevent experience",
         "Part time course",
         "Graduate",
         "STEM",
         11,
         null,
         null,
         24.0,
         1.0
        ],
        [
         28806,
         "city_160",
         0.92,
         "Male",
         "Has relevent experience",
         "no_enrollment",
         "High School",
         null,
         5,
         "50-99",
         "Funded Startup",
         24.0,
         0.0
        ],
        [
         402,
         "city_46",
         0.762,
         "Male",
         "Has relevent experience",
         "no_enrollment",
         "Graduate",
         "STEM",
         13,
         "<10",
         "Pvt Ltd",
         18.0,
         1.0
        ],
        [
         27107,
         "city_103",
         0.92,
         "Male",
         "Has relevent experience",
         "no_enrollment",
         "Graduate",
         "STEM",
         7,
         "50-99",
         "Pvt Ltd",
         46.0,
         1.0
        ],
        [
         699,
         "city_103",
         0.92,
         null,
         "Has relevent experience",
         "no_enrollment",
         "Graduate",
         "STEM",
         17,
         "10000+",
         "Pvt Ltd",
         123.0,
         0.0
        ]
       ],
       "datasetInfos": [],
       "dbfsResultPath": null,
       "isJsonSchema": true,
       "metadata": {},
       "overflow": false,
       "plotOptions": {
        "customPlotOptions": {},
        "displayType": "table",
        "pivotAggregation": null,
        "pivotColumns": null,
        "xColumns": null,
        "yColumns": null
       },
       "removedWidgets": [],
       "schema": [
        {
         "metadata": "{}",
         "name": "enrollee_id",
         "type": "\"long\""
        },
        {
         "metadata": "{}",
         "name": "city",
         "type": "\"string\""
        },
        {
         "metadata": "{}",
         "name": "city_development_index",
         "type": "\"double\""
        },
        {
         "metadata": "{}",
         "name": "gender",
         "type": "\"string\""
        },
        {
         "metadata": "{}",
         "name": "relevent_experience",
         "type": "\"string\""
        },
        {
         "metadata": "{}",
         "name": "enrolled_university",
         "type": "\"string\""
        },
        {
         "metadata": "{}",
         "name": "education_level",
         "type": "\"string\""
        },
        {
         "metadata": "{}",
         "name": "major_discipline",
         "type": "\"string\""
        },
        {
         "metadata": "{}",
         "name": "experience",
         "type": "\"long\""
        },
        {
         "metadata": "{}",
         "name": "company_size",
         "type": "\"string\""
        },
        {
         "metadata": "{}",
         "name": "company_type",
         "type": "\"string\""
        },
        {
         "metadata": "{}",
         "name": "training_hours",
         "type": "\"double\""
        },
        {
         "metadata": "{}",
         "name": "target",
         "type": "\"double\""
        }
       ],
       "type": "table"
      }
     },
     "output_type": "display_data"
    }
   ],
   "source": [
    "# Localização do arquivo e o tipo\n",
    "file_location = \"/FileStore/tables/data_science_job.csv\"\n",
    "file_type = \"csv\"\n",
    "\n",
    "# Opções para leitura do arquivo CSV\n",
    "infer_schema = \"true\"\n",
    "first_row_is_header = \"true\"\n",
    "delimiter = \",\"\n",
    "\n",
    "# Leitura do arquivo CSV de acordo com as especificações para coleta correta dos dados\n",
    "df = spark.read.format(file_type) \\\n",
    "  .option(\"inferSchema\", infer_schema) \\\n",
    "  .option(\"header\", first_row_is_header) \\\n",
    "  .option(\"sep\", delimiter) \\\n",
    "  .load(file_location)\n",
    "\n",
    "# Lendo as primeiras 10 linhas do DataFrame\n",
    "display(df.head(10))\n"
   ]
  },
  {
   "cell_type": "markdown",
   "metadata": {
    "application/vnd.databricks.v1+cell": {
     "cellMetadata": {
      "byteLimit": 2048000,
      "rowLimit": 10000
     },
     "inputWidgets": {},
     "nuid": "67ab1d80-fc5f-4c97-ab4a-492d5c27496a",
     "showTitle": false,
     "tableResultSettingsMap": {},
     "title": ""
    }
   },
   "source": [
    "Algumas transformações podem ser feitas para melhorar a qualidade dos dados, como: \n",
    "- Remover possíveis valores duplicados;\n",
    "- Identificar e tratar valores faltantes para melhorar a qualidade das análises posteriores;\n",
    "- Criação de colunas derivadas das já existentes na tabela para agregar nas análises posteriores."
   ]
  },
  {
   "cell_type": "code",
   "execution_count": 0,
   "metadata": {
    "application/vnd.databricks.v1+cell": {
     "cellMetadata": {
      "byteLimit": 2048000,
      "implicitDf": true,
      "rowLimit": 10000
     },
     "inputWidgets": {},
     "nuid": "b5f66379-6f7f-42ec-8e82-d0e0926a1721",
     "showTitle": true,
     "tableResultSettingsMap": {},
     "title": "Remover duplicados"
    }
   },
   "outputs": [],
   "source": [
    "# Remoção de valores duplicados\n",
    "df = df.dropDuplicates()\n"
   ]
  },
  {
   "cell_type": "code",
   "execution_count": 0,
   "metadata": {
    "application/vnd.databricks.v1+cell": {
     "cellMetadata": {
      "byteLimit": 2048000,
      "rowLimit": 10000
     },
     "inputWidgets": {},
     "nuid": "f3ec0834-e27c-4e50-bb64-21d2497298a0",
     "showTitle": true,
     "tableResultSettingsMap": {},
     "title": "Contagem de valores nulos em cada coluna"
    }
   },
   "outputs": [
    {
     "output_type": "display_data",
     "data": {
      "text/html": [
       "<div>\n",
       "<style scoped>\n",
       "    .dataframe tbody tr th:only-of-type {\n",
       "        vertical-align: middle;\n",
       "    }\n",
       "\n",
       "    .dataframe tbody tr th {\n",
       "        vertical-align: top;\n",
       "    }\n",
       "\n",
       "    .dataframe thead th {\n",
       "        text-align: right;\n",
       "    }\n",
       "</style>\n",
       "<table border=\"1\" class=\"dataframe\">\n",
       "  <thead>\n",
       "    <tr style=\"text-align: right;\">\n",
       "      <th></th>\n",
       "      <th>Valores Faltantes</th>\n",
       "    </tr>\n",
       "  </thead>\n",
       "  <tbody>\n",
       "    <tr>\n",
       "      <th>enrollee_id</th>\n",
       "      <td>0</td>\n",
       "    </tr>\n",
       "    <tr>\n",
       "      <th>city</th>\n",
       "      <td>0</td>\n",
       "    </tr>\n",
       "    <tr>\n",
       "      <th>city_development_index</th>\n",
       "      <td>479</td>\n",
       "    </tr>\n",
       "    <tr>\n",
       "      <th>gender</th>\n",
       "      <td>4508</td>\n",
       "    </tr>\n",
       "    <tr>\n",
       "      <th>relevent_experience</th>\n",
       "      <td>0</td>\n",
       "    </tr>\n",
       "    <tr>\n",
       "      <th>enrolled_university</th>\n",
       "      <td>386</td>\n",
       "    </tr>\n",
       "    <tr>\n",
       "      <th>education_level</th>\n",
       "      <td>460</td>\n",
       "    </tr>\n",
       "    <tr>\n",
       "      <th>major_discipline</th>\n",
       "      <td>2813</td>\n",
       "    </tr>\n",
       "    <tr>\n",
       "      <th>experience</th>\n",
       "      <td>65</td>\n",
       "    </tr>\n",
       "    <tr>\n",
       "      <th>company_size</th>\n",
       "      <td>5938</td>\n",
       "    </tr>\n",
       "    <tr>\n",
       "      <th>company_type</th>\n",
       "      <td>6140</td>\n",
       "    </tr>\n",
       "    <tr>\n",
       "      <th>training_hours</th>\n",
       "      <td>766</td>\n",
       "    </tr>\n",
       "    <tr>\n",
       "      <th>target</th>\n",
       "      <td>0</td>\n",
       "    </tr>\n",
       "  </tbody>\n",
       "</table>\n",
       "</div>"
      ]
     },
     "metadata": {
      "application/vnd.databricks.v1+output": {
       "addedWidgets": {},
       "arguments": {},
       "data": "<div>\n<style scoped>\n    .dataframe tbody tr th:only-of-type {\n        vertical-align: middle;\n    }\n\n    .dataframe tbody tr th {\n        vertical-align: top;\n    }\n\n    .dataframe thead th {\n        text-align: right;\n    }\n</style>\n<table border=\"1\" class=\"dataframe\">\n  <thead>\n    <tr style=\"text-align: right;\">\n      <th></th>\n      <th>Valores Faltantes</th>\n    </tr>\n  </thead>\n  <tbody>\n    <tr>\n      <th>enrollee_id</th>\n      <td>0</td>\n    </tr>\n    <tr>\n      <th>city</th>\n      <td>0</td>\n    </tr>\n    <tr>\n      <th>city_development_index</th>\n      <td>479</td>\n    </tr>\n    <tr>\n      <th>gender</th>\n      <td>4508</td>\n    </tr>\n    <tr>\n      <th>relevent_experience</th>\n      <td>0</td>\n    </tr>\n    <tr>\n      <th>enrolled_university</th>\n      <td>386</td>\n    </tr>\n    <tr>\n      <th>education_level</th>\n      <td>460</td>\n    </tr>\n    <tr>\n      <th>major_discipline</th>\n      <td>2813</td>\n    </tr>\n    <tr>\n      <th>experience</th>\n      <td>65</td>\n    </tr>\n    <tr>\n      <th>company_size</th>\n      <td>5938</td>\n    </tr>\n    <tr>\n      <th>company_type</th>\n      <td>6140</td>\n    </tr>\n    <tr>\n      <th>training_hours</th>\n      <td>766</td>\n    </tr>\n    <tr>\n      <th>target</th>\n      <td>0</td>\n    </tr>\n  </tbody>\n</table>\n</div>",
       "datasetInfos": [],
       "metadata": {},
       "removedWidgets": [],
       "textData": null,
       "type": "htmlSandbox"
      }
     },
     "output_type": "display_data"
    }
   ],
   "source": [
    "#Importação de bibliotecas necessárias\n",
    "from pyspark.sql.functions import col, sum\n",
    "\n",
    "# Contar valores nulos em cada coluna\n",
    "missing_counts = df.select([sum(col(c).isNull().cast(\"int\")).alias(c) for c in df.columns])\n",
    "\n",
    "# Converterção para Pandas para melhor visualização dos valores faltantes\n",
    "missing_counts.toPandas().T.rename(columns={0: \"Valores Faltantes\"})\n"
   ]
  },
  {
   "cell_type": "code",
   "execution_count": 0,
   "metadata": {
    "application/vnd.databricks.v1+cell": {
     "cellMetadata": {
      "byteLimit": 2048000,
      "rowLimit": 10000
     },
     "inputWidgets": {},
     "nuid": "6795a7ce-e9d8-42cb-9ba3-a851a55d1058",
     "showTitle": true,
     "tableResultSettingsMap": {},
     "title": "Visualização da tabela"
    }
   },
   "outputs": [
    {
     "output_type": "display_data",
     "data": {
      "text/html": [
       "<style scoped>\n",
       "  .table-result-container {\n",
       "    max-height: 300px;\n",
       "    overflow: auto;\n",
       "  }\n",
       "  table, th, td {\n",
       "    border: 1px solid black;\n",
       "    border-collapse: collapse;\n",
       "  }\n",
       "  th, td {\n",
       "    padding: 5px;\n",
       "  }\n",
       "  th {\n",
       "    text-align: left;\n",
       "  }\n",
       "</style><div class='table-result-container'><table class='table-result'><thead style='background-color: white'><tr><th>enrollee_id</th><th>city</th><th>city_development_index</th><th>gender</th><th>relevent_experience</th><th>enrolled_university</th><th>education_level</th><th>major_discipline</th><th>experience</th><th>company_size</th><th>company_type</th><th>training_hours</th><th>target</th></tr></thead><tbody><tr><td>8949</td><td>city_103</td><td>0.92</td><td>Male</td><td>Has relevent experience</td><td>no_enrollment</td><td>Graduate</td><td>STEM</td><td>20</td><td>null</td><td>null</td><td>36.0</td><td>1.0</td></tr><tr><td>29725</td><td>city_40</td><td>0.7759999999999999</td><td>Male</td><td>No relevent experience</td><td>no_enrollment</td><td>Graduate</td><td>STEM</td><td>15</td><td>50-99</td><td>Pvt Ltd</td><td>47.0</td><td>0.0</td></tr><tr><td>11561</td><td>city_21</td><td>0.624</td><td>null</td><td>No relevent experience</td><td>Full time course</td><td>Graduate</td><td>STEM</td><td>5</td><td>null</td><td>null</td><td>83.0</td><td>0.0</td></tr><tr><td>33241</td><td>city_115</td><td>0.789</td><td>null</td><td>No relevent experience</td><td>null</td><td>Graduate</td><td>Business Degree</td><td>0</td><td>null</td><td>Pvt Ltd</td><td>52.0</td><td>1.0</td></tr><tr><td>666</td><td>city_162</td><td>0.767</td><td>Male</td><td>Has relevent experience</td><td>no_enrollment</td><td>Masters</td><td>STEM</td><td>20</td><td>50-99</td><td>Funded Startup</td><td>8.0</td><td>0.0</td></tr><tr><td>21651</td><td>city_176</td><td>0.764</td><td>null</td><td>Has relevent experience</td><td>Part time course</td><td>Graduate</td><td>STEM</td><td>11</td><td>null</td><td>null</td><td>24.0</td><td>1.0</td></tr><tr><td>28806</td><td>city_160</td><td>0.92</td><td>Male</td><td>Has relevent experience</td><td>no_enrollment</td><td>High School</td><td>null</td><td>5</td><td>50-99</td><td>Funded Startup</td><td>24.0</td><td>0.0</td></tr><tr><td>402</td><td>city_46</td><td>0.762</td><td>Male</td><td>Has relevent experience</td><td>no_enrollment</td><td>Graduate</td><td>STEM</td><td>13</td><td><10</td><td>Pvt Ltd</td><td>18.0</td><td>1.0</td></tr><tr><td>27107</td><td>city_103</td><td>0.92</td><td>Male</td><td>Has relevent experience</td><td>no_enrollment</td><td>Graduate</td><td>STEM</td><td>7</td><td>50-99</td><td>Pvt Ltd</td><td>46.0</td><td>1.0</td></tr><tr><td>699</td><td>city_103</td><td>0.92</td><td>null</td><td>Has relevent experience</td><td>no_enrollment</td><td>Graduate</td><td>STEM</td><td>17</td><td>10000+</td><td>Pvt Ltd</td><td>123.0</td><td>0.0</td></tr></tbody></table></div>"
      ]
     },
     "metadata": {
      "application/vnd.databricks.v1+output": {
       "addedWidgets": {},
       "aggData": [],
       "aggError": "",
       "aggOverflow": false,
       "aggSchema": [],
       "aggSeriesLimitReached": false,
       "aggType": "",
       "arguments": {},
       "columnCustomDisplayInfos": {},
       "data": [
        [
         8949,
         "city_103",
         0.92,
         "Male",
         "Has relevent experience",
         "no_enrollment",
         "Graduate",
         "STEM",
         20,
         null,
         null,
         36.0,
         1.0
        ],
        [
         29725,
         "city_40",
         0.7759999999999999,
         "Male",
         "No relevent experience",
         "no_enrollment",
         "Graduate",
         "STEM",
         15,
         "50-99",
         "Pvt Ltd",
         47.0,
         0.0
        ],
        [
         11561,
         "city_21",
         0.624,
         null,
         "No relevent experience",
         "Full time course",
         "Graduate",
         "STEM",
         5,
         null,
         null,
         83.0,
         0.0
        ],
        [
         33241,
         "city_115",
         0.789,
         null,
         "No relevent experience",
         null,
         "Graduate",
         "Business Degree",
         0,
         null,
         "Pvt Ltd",
         52.0,
         1.0
        ],
        [
         666,
         "city_162",
         0.767,
         "Male",
         "Has relevent experience",
         "no_enrollment",
         "Masters",
         "STEM",
         20,
         "50-99",
         "Funded Startup",
         8.0,
         0.0
        ],
        [
         21651,
         "city_176",
         0.764,
         null,
         "Has relevent experience",
         "Part time course",
         "Graduate",
         "STEM",
         11,
         null,
         null,
         24.0,
         1.0
        ],
        [
         28806,
         "city_160",
         0.92,
         "Male",
         "Has relevent experience",
         "no_enrollment",
         "High School",
         null,
         5,
         "50-99",
         "Funded Startup",
         24.0,
         0.0
        ],
        [
         402,
         "city_46",
         0.762,
         "Male",
         "Has relevent experience",
         "no_enrollment",
         "Graduate",
         "STEM",
         13,
         "<10",
         "Pvt Ltd",
         18.0,
         1.0
        ],
        [
         27107,
         "city_103",
         0.92,
         "Male",
         "Has relevent experience",
         "no_enrollment",
         "Graduate",
         "STEM",
         7,
         "50-99",
         "Pvt Ltd",
         46.0,
         1.0
        ],
        [
         699,
         "city_103",
         0.92,
         null,
         "Has relevent experience",
         "no_enrollment",
         "Graduate",
         "STEM",
         17,
         "10000+",
         "Pvt Ltd",
         123.0,
         0.0
        ]
       ],
       "datasetInfos": [],
       "dbfsResultPath": null,
       "isJsonSchema": true,
       "metadata": {},
       "overflow": false,
       "plotOptions": {
        "customPlotOptions": {},
        "displayType": "table",
        "pivotAggregation": null,
        "pivotColumns": null,
        "xColumns": null,
        "yColumns": null
       },
       "removedWidgets": [],
       "schema": [
        {
         "metadata": "{}",
         "name": "enrollee_id",
         "type": "\"long\""
        },
        {
         "metadata": "{}",
         "name": "city",
         "type": "\"string\""
        },
        {
         "metadata": "{}",
         "name": "city_development_index",
         "type": "\"double\""
        },
        {
         "metadata": "{}",
         "name": "gender",
         "type": "\"string\""
        },
        {
         "metadata": "{}",
         "name": "relevent_experience",
         "type": "\"string\""
        },
        {
         "metadata": "{}",
         "name": "enrolled_university",
         "type": "\"string\""
        },
        {
         "metadata": "{}",
         "name": "education_level",
         "type": "\"string\""
        },
        {
         "metadata": "{}",
         "name": "major_discipline",
         "type": "\"string\""
        },
        {
         "metadata": "{}",
         "name": "experience",
         "type": "\"long\""
        },
        {
         "metadata": "{}",
         "name": "company_size",
         "type": "\"string\""
        },
        {
         "metadata": "{}",
         "name": "company_type",
         "type": "\"string\""
        },
        {
         "metadata": "{}",
         "name": "training_hours",
         "type": "\"double\""
        },
        {
         "metadata": "{}",
         "name": "target",
         "type": "\"double\""
        }
       ],
       "type": "table"
      }
     },
     "output_type": "display_data"
    }
   ],
   "source": [
    "# Lendo as primeiras 10 linhas do DataFrame\n",
    "display(df.head(10))\n"
   ]
  },
  {
   "cell_type": "code",
   "execution_count": 0,
   "metadata": {
    "application/vnd.databricks.v1+cell": {
     "cellMetadata": {
      "byteLimit": 2048000,
      "rowLimit": 10000
     },
     "inputWidgets": {},
     "nuid": "c4d885ab-6f76-46ac-9dc8-fb8f415ce2ca",
     "showTitle": true,
     "tableResultSettingsMap": {},
     "title": "Criação de uma coluna"
    }
   },
   "outputs": [],
   "source": [
    "#Importação de bibliotecas necessárias\n",
    "from pyspark.sql.functions import col, lit\n",
    "from pyspark.sql import functions as F\n",
    "\n",
    "# Criação de uma coluna que represente os grupos de acordo com os anos de experiencia dos candidatos\n",
    "df = df.withColumn(\"experience_group\", \n",
    "                   F.when(col(\"experience\") < 3, \"Júnior\")\n",
    "                   .when((col(\"experience\") >= 3) & (col(\"experience\") < 6), \"Pleno\")\n",
    "                   .otherwise(\"Sênior\"))\n"
   ]
  },
  {
   "cell_type": "markdown",
   "metadata": {
    "application/vnd.databricks.v1+cell": {
     "cellMetadata": {
      "byteLimit": 2048000,
      "rowLimit": 10000
     },
     "inputWidgets": {},
     "nuid": "bb656752-5a72-45b9-b7b9-649d648c99b1",
     "showTitle": false,
     "tableResultSettingsMap": {},
     "title": ""
    }
   },
   "source": [
    "Visando a modelagem dos dados em forma estrela, a qual será feita a criação das tabelas dimensão e fato, é importante que as chaves primarias de todas essas tabelas sejam valores numéricos. Desse modo, a celula abaixo faz a extração da fração 'string' da coluna 'city', para que apenas os valores numéricos permaneçam e possam ser usados como o identificador único de cada cidade na tabela dim_city."
   ]
  },
  {
   "cell_type": "code",
   "execution_count": 0,
   "metadata": {
    "application/vnd.databricks.v1+cell": {
     "cellMetadata": {
      "byteLimit": 2048000,
      "rowLimit": 10000
     },
     "inputWidgets": {},
     "nuid": "e43a07ba-895c-46f8-883d-b0b156cb140a",
     "showTitle": true,
     "tableResultSettingsMap": {},
     "title": "Converter string em int"
    }
   },
   "outputs": [
    {
     "output_type": "display_data",
     "data": {
      "text/html": [
       "<style scoped>\n",
       "  .table-result-container {\n",
       "    max-height: 300px;\n",
       "    overflow: auto;\n",
       "  }\n",
       "  table, th, td {\n",
       "    border: 1px solid black;\n",
       "    border-collapse: collapse;\n",
       "  }\n",
       "  th, td {\n",
       "    padding: 5px;\n",
       "  }\n",
       "  th {\n",
       "    text-align: left;\n",
       "  }\n",
       "</style><div class='table-result-container'><table class='table-result'><thead style='background-color: white'><tr><th>enrollee_id</th><th>city_development_index</th><th>gender</th><th>relevent_experience</th><th>enrolled_university</th><th>education_level</th><th>major_discipline</th><th>experience</th><th>company_size</th><th>company_type</th><th>training_hours</th><th>target</th><th>city_id</th></tr></thead><tbody><tr><td>8949</td><td>0.92</td><td>Male</td><td>Has relevent experience</td><td>no_enrollment</td><td>Graduate</td><td>STEM</td><td>20</td><td>null</td><td>null</td><td>36.0</td><td>1.0</td><td>103</td></tr><tr><td>29725</td><td>0.7759999999999999</td><td>Male</td><td>No relevent experience</td><td>no_enrollment</td><td>Graduate</td><td>STEM</td><td>15</td><td>50-99</td><td>Pvt Ltd</td><td>47.0</td><td>0.0</td><td>40</td></tr><tr><td>11561</td><td>0.624</td><td>null</td><td>No relevent experience</td><td>Full time course</td><td>Graduate</td><td>STEM</td><td>5</td><td>null</td><td>null</td><td>83.0</td><td>0.0</td><td>21</td></tr><tr><td>33241</td><td>0.789</td><td>null</td><td>No relevent experience</td><td>null</td><td>Graduate</td><td>Business Degree</td><td>0</td><td>null</td><td>Pvt Ltd</td><td>52.0</td><td>1.0</td><td>115</td></tr><tr><td>666</td><td>0.767</td><td>Male</td><td>Has relevent experience</td><td>no_enrollment</td><td>Masters</td><td>STEM</td><td>20</td><td>50-99</td><td>Funded Startup</td><td>8.0</td><td>0.0</td><td>162</td></tr><tr><td>21651</td><td>0.764</td><td>null</td><td>Has relevent experience</td><td>Part time course</td><td>Graduate</td><td>STEM</td><td>11</td><td>null</td><td>null</td><td>24.0</td><td>1.0</td><td>176</td></tr><tr><td>28806</td><td>0.92</td><td>Male</td><td>Has relevent experience</td><td>no_enrollment</td><td>High School</td><td>null</td><td>5</td><td>50-99</td><td>Funded Startup</td><td>24.0</td><td>0.0</td><td>160</td></tr><tr><td>402</td><td>0.762</td><td>Male</td><td>Has relevent experience</td><td>no_enrollment</td><td>Graduate</td><td>STEM</td><td>13</td><td><10</td><td>Pvt Ltd</td><td>18.0</td><td>1.0</td><td>46</td></tr><tr><td>27107</td><td>0.92</td><td>Male</td><td>Has relevent experience</td><td>no_enrollment</td><td>Graduate</td><td>STEM</td><td>7</td><td>50-99</td><td>Pvt Ltd</td><td>46.0</td><td>1.0</td><td>103</td></tr><tr><td>699</td><td>0.92</td><td>null</td><td>Has relevent experience</td><td>no_enrollment</td><td>Graduate</td><td>STEM</td><td>17</td><td>10000+</td><td>Pvt Ltd</td><td>123.0</td><td>0.0</td><td>103</td></tr></tbody></table></div>"
      ]
     },
     "metadata": {
      "application/vnd.databricks.v1+output": {
       "addedWidgets": {},
       "aggData": [],
       "aggError": "",
       "aggOverflow": false,
       "aggSchema": [],
       "aggSeriesLimitReached": false,
       "aggType": "",
       "arguments": {},
       "columnCustomDisplayInfos": {},
       "data": [
        [
         8949,
         0.92,
         "Male",
         "Has relevent experience",
         "no_enrollment",
         "Graduate",
         "STEM",
         20,
         null,
         null,
         36.0,
         1.0,
         103
        ],
        [
         29725,
         0.7759999999999999,
         "Male",
         "No relevent experience",
         "no_enrollment",
         "Graduate",
         "STEM",
         15,
         "50-99",
         "Pvt Ltd",
         47.0,
         0.0,
         40
        ],
        [
         11561,
         0.624,
         null,
         "No relevent experience",
         "Full time course",
         "Graduate",
         "STEM",
         5,
         null,
         null,
         83.0,
         0.0,
         21
        ],
        [
         33241,
         0.789,
         null,
         "No relevent experience",
         null,
         "Graduate",
         "Business Degree",
         0,
         null,
         "Pvt Ltd",
         52.0,
         1.0,
         115
        ],
        [
         666,
         0.767,
         "Male",
         "Has relevent experience",
         "no_enrollment",
         "Masters",
         "STEM",
         20,
         "50-99",
         "Funded Startup",
         8.0,
         0.0,
         162
        ],
        [
         21651,
         0.764,
         null,
         "Has relevent experience",
         "Part time course",
         "Graduate",
         "STEM",
         11,
         null,
         null,
         24.0,
         1.0,
         176
        ],
        [
         28806,
         0.92,
         "Male",
         "Has relevent experience",
         "no_enrollment",
         "High School",
         null,
         5,
         "50-99",
         "Funded Startup",
         24.0,
         0.0,
         160
        ],
        [
         402,
         0.762,
         "Male",
         "Has relevent experience",
         "no_enrollment",
         "Graduate",
         "STEM",
         13,
         "<10",
         "Pvt Ltd",
         18.0,
         1.0,
         46
        ],
        [
         27107,
         0.92,
         "Male",
         "Has relevent experience",
         "no_enrollment",
         "Graduate",
         "STEM",
         7,
         "50-99",
         "Pvt Ltd",
         46.0,
         1.0,
         103
        ],
        [
         699,
         0.92,
         null,
         "Has relevent experience",
         "no_enrollment",
         "Graduate",
         "STEM",
         17,
         "10000+",
         "Pvt Ltd",
         123.0,
         0.0,
         103
        ]
       ],
       "datasetInfos": [],
       "dbfsResultPath": null,
       "isJsonSchema": true,
       "metadata": {},
       "overflow": false,
       "plotOptions": {
        "customPlotOptions": {},
        "displayType": "table",
        "pivotAggregation": null,
        "pivotColumns": null,
        "xColumns": null,
        "yColumns": null
       },
       "removedWidgets": [],
       "schema": [
        {
         "metadata": "{}",
         "name": "enrollee_id",
         "type": "\"long\""
        },
        {
         "metadata": "{}",
         "name": "city_development_index",
         "type": "\"double\""
        },
        {
         "metadata": "{}",
         "name": "gender",
         "type": "\"string\""
        },
        {
         "metadata": "{}",
         "name": "relevent_experience",
         "type": "\"string\""
        },
        {
         "metadata": "{}",
         "name": "enrolled_university",
         "type": "\"string\""
        },
        {
         "metadata": "{}",
         "name": "education_level",
         "type": "\"string\""
        },
        {
         "metadata": "{}",
         "name": "major_discipline",
         "type": "\"string\""
        },
        {
         "metadata": "{}",
         "name": "experience",
         "type": "\"long\""
        },
        {
         "metadata": "{}",
         "name": "company_size",
         "type": "\"string\""
        },
        {
         "metadata": "{}",
         "name": "company_type",
         "type": "\"string\""
        },
        {
         "metadata": "{}",
         "name": "training_hours",
         "type": "\"double\""
        },
        {
         "metadata": "{}",
         "name": "target",
         "type": "\"double\""
        },
        {
         "metadata": "{}",
         "name": "city_id",
         "type": "\"long\""
        }
       ],
       "type": "table"
      }
     },
     "output_type": "display_data"
    }
   ],
   "source": [
    "#Importar bibliotecas necessárias\n",
    "from pyspark.sql.functions import regexp_extract, col\n",
    "\n",
    "# Selecionando a coluna 'city', removendo a fração string, e mantendo apenas os valores numéricos em uma nova coluna 'city_id'\n",
    "df = df.withColumn(\"city_id\", regexp_extract(col(\"city\"), r\"(\\d+)\", 1))\n",
    "\n",
    "# Convertendo a coluna criada (city_id) para inteiro\n",
    "df = df.withColumn(\"city_id\", col(\"city_id\").cast(\"int\"))\n",
    "\n",
    "#Removendo a coluna original (city)\n",
    "df = df.withColumn(\"city\", col(\"city_id\")).drop(\"city\")\n",
    "\n",
    "# Exibir os dados transformados\n",
    "display(df.head(10))\n",
    "\n"
   ]
  },
  {
   "cell_type": "markdown",
   "metadata": {
    "application/vnd.databricks.v1+cell": {
     "cellMetadata": {
      "byteLimit": 2048000,
      "rowLimit": 10000
     },
     "inputWidgets": {},
     "nuid": "ca7fec2f-6b3d-4629-b5fd-3db34b28e11c",
     "showTitle": false,
     "tableResultSettingsMap": {},
     "title": ""
    }
   },
   "source": [
    "Os valores nulos presentes em cada coluna serão tratados de acordo com as particulariedades de cada coluna. Abaixo estão as substituições propostas para eliminar os valores nulos. "
   ]
  },
  {
   "cell_type": "code",
   "execution_count": 0,
   "metadata": {
    "application/vnd.databricks.v1+cell": {
     "cellMetadata": {
      "byteLimit": 2048000,
      "rowLimit": 10000
     },
     "inputWidgets": {},
     "nuid": "76fd80f1-27ef-442b-b089-813057710825",
     "showTitle": true,
     "tableResultSettingsMap": {},
     "title": "Tratamento valores nulos"
    }
   },
   "outputs": [
    {
     "output_type": "display_data",
     "data": {
      "text/html": [
       "<style scoped>\n",
       "  .table-result-container {\n",
       "    max-height: 300px;\n",
       "    overflow: auto;\n",
       "  }\n",
       "  table, th, td {\n",
       "    border: 1px solid black;\n",
       "    border-collapse: collapse;\n",
       "  }\n",
       "  th, td {\n",
       "    padding: 5px;\n",
       "  }\n",
       "  th {\n",
       "    text-align: left;\n",
       "  }\n",
       "</style><div class='table-result-container'><table class='table-result'><thead style='background-color: white'><tr><th>enrollee_id</th><th>city_development_index</th><th>gender</th><th>relevent_experience</th><th>enrolled_university</th><th>education_level</th><th>major_discipline</th><th>experience</th><th>company_size</th><th>company_type</th><th>training_hours</th><th>target</th><th>city_id</th></tr></thead><tbody><tr><td>8949</td><td>0.92</td><td>Male</td><td>Has relevent experience</td><td>no_enrollment</td><td>Graduate</td><td>STEM</td><td>20</td><td>Not informed</td><td>Not informed</td><td>36.0</td><td>1.0</td><td>103</td></tr><tr><td>29725</td><td>0.7759999999999999</td><td>Male</td><td>No relevent experience</td><td>no_enrollment</td><td>Graduate</td><td>STEM</td><td>15</td><td>50-99</td><td>Pvt Ltd</td><td>47.0</td><td>0.0</td><td>40</td></tr><tr><td>11561</td><td>0.624</td><td>Not informed</td><td>No relevent experience</td><td>Full time course</td><td>Graduate</td><td>STEM</td><td>5</td><td>Not informed</td><td>Not informed</td><td>83.0</td><td>0.0</td><td>21</td></tr><tr><td>33241</td><td>0.789</td><td>Not informed</td><td>No relevent experience</td><td>Not informed</td><td>Graduate</td><td>Business Degree</td><td>0</td><td>Not informed</td><td>Pvt Ltd</td><td>52.0</td><td>1.0</td><td>115</td></tr><tr><td>666</td><td>0.767</td><td>Male</td><td>Has relevent experience</td><td>no_enrollment</td><td>Masters</td><td>STEM</td><td>20</td><td>50-99</td><td>Funded Startup</td><td>8.0</td><td>0.0</td><td>162</td></tr><tr><td>21651</td><td>0.764</td><td>Not informed</td><td>Has relevent experience</td><td>Part time course</td><td>Graduate</td><td>STEM</td><td>11</td><td>Not informed</td><td>Not informed</td><td>24.0</td><td>1.0</td><td>176</td></tr><tr><td>28806</td><td>0.92</td><td>Male</td><td>Has relevent experience</td><td>no_enrollment</td><td>High School</td><td>Not informed</td><td>5</td><td>50-99</td><td>Funded Startup</td><td>24.0</td><td>0.0</td><td>160</td></tr><tr><td>402</td><td>0.762</td><td>Male</td><td>Has relevent experience</td><td>no_enrollment</td><td>Graduate</td><td>STEM</td><td>13</td><td><10</td><td>Pvt Ltd</td><td>18.0</td><td>1.0</td><td>46</td></tr><tr><td>27107</td><td>0.92</td><td>Male</td><td>Has relevent experience</td><td>no_enrollment</td><td>Graduate</td><td>STEM</td><td>7</td><td>50-99</td><td>Pvt Ltd</td><td>46.0</td><td>1.0</td><td>103</td></tr><tr><td>699</td><td>0.92</td><td>Not informed</td><td>Has relevent experience</td><td>no_enrollment</td><td>Graduate</td><td>STEM</td><td>17</td><td>10000+</td><td>Pvt Ltd</td><td>123.0</td><td>0.0</td><td>103</td></tr></tbody></table></div>"
      ]
     },
     "metadata": {
      "application/vnd.databricks.v1+output": {
       "addedWidgets": {},
       "aggData": [],
       "aggError": "",
       "aggOverflow": false,
       "aggSchema": [],
       "aggSeriesLimitReached": false,
       "aggType": "",
       "arguments": {},
       "columnCustomDisplayInfos": {},
       "data": [
        [
         8949,
         0.92,
         "Male",
         "Has relevent experience",
         "no_enrollment",
         "Graduate",
         "STEM",
         20,
         "Not informed",
         "Not informed",
         36.0,
         1.0,
         103
        ],
        [
         29725,
         0.7759999999999999,
         "Male",
         "No relevent experience",
         "no_enrollment",
         "Graduate",
         "STEM",
         15,
         "50-99",
         "Pvt Ltd",
         47.0,
         0.0,
         40
        ],
        [
         11561,
         0.624,
         "Not informed",
         "No relevent experience",
         "Full time course",
         "Graduate",
         "STEM",
         5,
         "Not informed",
         "Not informed",
         83.0,
         0.0,
         21
        ],
        [
         33241,
         0.789,
         "Not informed",
         "No relevent experience",
         "Not informed",
         "Graduate",
         "Business Degree",
         0,
         "Not informed",
         "Pvt Ltd",
         52.0,
         1.0,
         115
        ],
        [
         666,
         0.767,
         "Male",
         "Has relevent experience",
         "no_enrollment",
         "Masters",
         "STEM",
         20,
         "50-99",
         "Funded Startup",
         8.0,
         0.0,
         162
        ],
        [
         21651,
         0.764,
         "Not informed",
         "Has relevent experience",
         "Part time course",
         "Graduate",
         "STEM",
         11,
         "Not informed",
         "Not informed",
         24.0,
         1.0,
         176
        ],
        [
         28806,
         0.92,
         "Male",
         "Has relevent experience",
         "no_enrollment",
         "High School",
         "Not informed",
         5,
         "50-99",
         "Funded Startup",
         24.0,
         0.0,
         160
        ],
        [
         402,
         0.762,
         "Male",
         "Has relevent experience",
         "no_enrollment",
         "Graduate",
         "STEM",
         13,
         "<10",
         "Pvt Ltd",
         18.0,
         1.0,
         46
        ],
        [
         27107,
         0.92,
         "Male",
         "Has relevent experience",
         "no_enrollment",
         "Graduate",
         "STEM",
         7,
         "50-99",
         "Pvt Ltd",
         46.0,
         1.0,
         103
        ],
        [
         699,
         0.92,
         "Not informed",
         "Has relevent experience",
         "no_enrollment",
         "Graduate",
         "STEM",
         17,
         "10000+",
         "Pvt Ltd",
         123.0,
         0.0,
         103
        ]
       ],
       "datasetInfos": [],
       "dbfsResultPath": null,
       "isJsonSchema": true,
       "metadata": {},
       "overflow": false,
       "plotOptions": {
        "customPlotOptions": {},
        "displayType": "table",
        "pivotAggregation": null,
        "pivotColumns": null,
        "xColumns": null,
        "yColumns": null
       },
       "removedWidgets": [],
       "schema": [
        {
         "metadata": "{}",
         "name": "enrollee_id",
         "type": "\"long\""
        },
        {
         "metadata": "{}",
         "name": "city_development_index",
         "type": "\"double\""
        },
        {
         "metadata": "{}",
         "name": "gender",
         "type": "\"string\""
        },
        {
         "metadata": "{}",
         "name": "relevent_experience",
         "type": "\"string\""
        },
        {
         "metadata": "{}",
         "name": "enrolled_university",
         "type": "\"string\""
        },
        {
         "metadata": "{}",
         "name": "education_level",
         "type": "\"string\""
        },
        {
         "metadata": "{}",
         "name": "major_discipline",
         "type": "\"string\""
        },
        {
         "metadata": "{}",
         "name": "experience",
         "type": "\"long\""
        },
        {
         "metadata": "{}",
         "name": "company_size",
         "type": "\"string\""
        },
        {
         "metadata": "{}",
         "name": "company_type",
         "type": "\"string\""
        },
        {
         "metadata": "{}",
         "name": "training_hours",
         "type": "\"double\""
        },
        {
         "metadata": "{}",
         "name": "target",
         "type": "\"double\""
        },
        {
         "metadata": "{}",
         "name": "city_id",
         "type": "\"long\""
        }
       ],
       "type": "table"
      }
     },
     "output_type": "display_data"
    }
   ],
   "source": [
    "# Importar bibliotecas necessárias\n",
    "from pyspark.sql.functions import col, lit\n",
    "from pyspark.sql import functions as F\n",
    "\n",
    "# 1. Substituir valores nulos da coluna city_development_index pela mediana\n",
    "median_cdi = df.approxQuantile(\"city_development_index\", [0.5], 0.01)[0]\n",
    "df = df.fillna({\"city_development_index\": median_cdi})\n",
    "\n",
    "# 2. Preencher valores nulos de gender com \"Not informed\"\n",
    "df = df.fillna({\"gender\": \"Not informed\"})\n",
    "\n",
    "# 3. Preencher valores nulos de enrolled_university com \"Not informed\"\n",
    "df = df.fillna({\"enrolled_university\":  \"Not informed\"})\n",
    "\n",
    "# 4. Preencher valores nulos de education_level com a moda\n",
    "mode_education_level = df.groupby(\"education_level\").count().orderBy(F.desc(\"count\")).first()[0]\n",
    "df = df.fillna({\"education_level\": mode_education_level})\n",
    "\n",
    "# 5. Preencher valores nulos de major_discipline com \"Not informed\"\n",
    "df = df.fillna({\"major_discipline\": \"Not informed\"})\n",
    "\n",
    "# 6. Substituir valores nulos de experience pela mediana\n",
    "median_experience = df.approxQuantile(\"experience\", [0.5], 0.01)[0]\n",
    "df = df.fillna({\"experience\": median_experience})\n",
    "\n",
    "# 7. Preencher valores nulos de company_size com \"Not informed\"\n",
    "df = df.fillna({\"company_size\":  \"Not informed\"})\n",
    "\n",
    "# 8. Preencher valores nulos de company_type com \"Not informed\"\n",
    "df = df.fillna({\"company_type\":  \"Not informed\"})\n",
    "\n",
    "# 9. Substituir valores nulos de training_hours pela mediana\n",
    "median_training_hours = df.approxQuantile(\"training_hours\", [0.5], 0.01)[0]\n",
    "df = df.fillna({\"training_hours\": median_training_hours})\n",
    "\n",
    "# Criar uma tabela no Databricks para consultas SQL\n",
    "df.createOrReplaceTempView(\"data_science_jobs\")\n",
    "\n",
    "# Salvar a tabela no DBFS\n",
    "dbutils.fs.rm(\"dbfs:/user/hive/warehouse/data_science_jobs_table\", True)\n",
    "df.write.mode(\"overwrite\").saveAsTable(\"data_science_jobs_table\")\n",
    "\n",
    "# Lendo as primeiras 10 linhas do DataFrame\n",
    "display(df.head(10))\n",
    "\n"
   ]
  },
  {
   "cell_type": "code",
   "execution_count": 0,
   "metadata": {
    "application/vnd.databricks.v1+cell": {
     "cellMetadata": {
      "byteLimit": 2048000,
      "rowLimit": 10000
     },
     "inputWidgets": {},
     "nuid": "ec8f2a1e-4c94-483b-9a9b-f3e35920f49f",
     "showTitle": true,
     "tableResultSettingsMap": {},
     "title": "Schema da tabela"
    }
   },
   "outputs": [
    {
     "output_type": "stream",
     "name": "stdout",
     "output_type": "stream",
     "text": [
      "root\n |-- enrollee_id: integer (nullable = true)\n |-- city_development_index: double (nullable = false)\n |-- gender: string (nullable = false)\n |-- relevent_experience: string (nullable = true)\n |-- enrolled_university: string (nullable = false)\n |-- education_level: string (nullable = false)\n |-- major_discipline: string (nullable = false)\n |-- experience: integer (nullable = true)\n |-- company_size: string (nullable = false)\n |-- company_type: string (nullable = false)\n |-- training_hours: double (nullable = false)\n |-- target: double (nullable = true)\n |-- experience_group: string (nullable = false)\n |-- city_id: integer (nullable = true)\n\n"
     ]
    }
   ],
   "source": [
    "# Exibição do Schema da tabela para verificar se necessita converter o tipo de alguma coluna\n",
    "df.printSchema()\n"
   ]
  },
  {
   "cell_type": "markdown",
   "metadata": {
    "application/vnd.databricks.v1+cell": {
     "cellMetadata": {
      "byteLimit": 2048000,
      "rowLimit": 10000
     },
     "inputWidgets": {},
     "nuid": "3a543615-c7f6-4a3e-ad02-4c2cc8481d5e",
     "showTitle": false,
     "tableResultSettingsMap": {},
     "title": ""
    }
   },
   "source": [
    "# Análises gráficas\n",
    "\n",
    "Após as tranformações dos dados, considerando a tabela tratada, a construção de gráficos pode trazer um maior conhecimento para os mesmos, pois pode-se visualizar a distribuição das variáveis entre si. Gráficos ajudam a condensar grandes volumes de dados em uma representação visual simples e intuitiva, facilitando a compreensão. Em muitos casos, as decisões não são tomadas com base apenas em números brutos, com isso os gráficos tornam os dados mais acessíveis e compreensíveis para pessoas que não são especialistas em análise de dados, como executivos ou gestores, ajudando a comparar diferentes grupos de dados de forma visual, facilitando a identificação das diferenças e apoiando a tomada de decisão."
   ]
  },
  {
   "cell_type": "code",
   "execution_count": 0,
   "metadata": {
    "application/vnd.databricks.v1+cell": {
     "cellMetadata": {
      "byteLimit": 2048000,
      "rowLimit": 10000
     },
     "inputWidgets": {},
     "nuid": "84e60047-4359-4094-9fc3-5c982b117185",
     "showTitle": true,
     "tableResultSettingsMap": {},
     "title": "Número de candidatos por cidade"
    }
   },
   "outputs": [
    {
     "output_type": "display_data",
     "data": {
      "image/png": "[encoded data removed]"
     },
     "metadata": {
      "application/vnd.databricks.v1+output": {
       "addedWidgets": {},
       "arguments": {},
       "data": "data:image/png;base64,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\n",
       "datasetInfos": [],
       "metadata": {},
       "removedWidgets": [],
       "type": "image"
      }
     },
     "output_type": "display_data"
    }
   ],
   "source": [
    "#Importação de bibliotecas necessárias\n",
    "import matplotlib.pyplot as plt\n",
    "import seaborn as sns\n",
    "\n",
    "#Criação do gráfico para visualizar o numero de candidatos por cidade\n",
    "city_counts = df.groupBy('city_id').count().orderBy('count', ascending=False)\n",
    "city_counts_df = city_counts.toPandas()  # Converter para Pandas para visualização\n",
    "plt.figure(figsize=(18, 10))\n",
    "sns.barplot(x='city_id', y='count', data=city_counts_df)\n",
    "plt.xticks(rotation=90)\n",
    "plt.title('Number of Candidates per City')\n",
    "plt.xlabel('City')\n",
    "plt.ylabel('Number of Candidates')\n",
    "plt.show()\n"
   ]
  },
  {
   "cell_type": "code",
   "execution_count": 0,
   "metadata": {
    "application/vnd.databricks.v1+cell": {
     "cellMetadata": {
      "byteLimit": 2048000,
      "rowLimit": 10000
     },
     "inputWidgets": {},
     "nuid": "129c4028-526c-47eb-8754-74e8ece07b64",
     "showTitle": true,
     "tableResultSettingsMap": {},
     "title": "Distribuição do índice de desenvolvimento"
    }
   },
   "outputs": [
    {
     "output_type": "display_data",
     "data": {
      "image/png": "[encoded data removed]"
     },
     "metadata": {
      "application/vnd.databricks.v1+output": {
       "addedWidgets": {},
       "arguments": {},
       "data": "data:image/png;base64,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\n",
       "datasetInfos": [],
       "metadata": {},
       "removedWidgets": [],
       "type": "image"
      }
     },
     "output_type": "display_data"
    }
   ],
   "source": [
    "# Criação do histograma para mostrar a distribuição do indice de desenvolvimento das cidades presentes no dataset\n",
    "city_dev_index_df = df.select('city_development_index').toPandas()  # Convertendo para Pandas\n",
    "plt.figure(figsize=(8, 6))\n",
    "sns.histplot(city_dev_index_df['city_development_index'], kde=True)\n",
    "plt.title('Distribution of City Development Index')\n",
    "plt.xlabel('City Development Index')\n",
    "plt.ylabel('Distribution')\n",
    "plt.show()\n"
   ]
  },
  {
   "cell_type": "code",
   "execution_count": 0,
   "metadata": {
    "application/vnd.databricks.v1+cell": {
     "cellMetadata": {
      "byteLimit": 2048000,
      "rowLimit": 10000
     },
     "inputWidgets": {},
     "nuid": "cd3e0495-a380-4866-a2f2-8bf3d0d70b1e",
     "showTitle": true,
     "tableResultSettingsMap": {},
     "title": "Distribuição de candidatos por gênero"
    }
   },
   "outputs": [
    {
     "output_type": "display_data",
     "data": {
      "image/png": "[encoded data removed]"
     },
     "metadata": {
      "application/vnd.databricks.v1+output": {
       "addedWidgets": {},
       "arguments": {},
       "data": "data:image/png;base64,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\n",
       "datasetInfos": [],
       "metadata": {},
       "removedWidgets": [],
       "type": "image"
      }
     },
     "output_type": "display_data"
    }
   ],
   "source": [
    "# Criação do gráfico que avalia a distribuição dos gráficos de acordo com o gênero informado pelos mesmos\n",
    "gender_counts = df.groupBy('gender').count()\n",
    "gender_counts_df = gender_counts.toPandas()  # Converter para Pandas para visualização\n",
    "plt.figure(figsize=(8, 6))\n",
    "sns.barplot(x='gender', y='count', data=gender_counts_df)\n",
    "plt.title('Distribution of Candidates by Gender')\n",
    "plt.xlabel('Gender')\n",
    "plt.ylabel('Number of Candidates')\n",
    "plt.show()\n"
   ]
  },
  {
   "cell_type": "code",
   "execution_count": 0,
   "metadata": {
    "application/vnd.databricks.v1+cell": {
     "cellMetadata": {
      "byteLimit": 2048000,
      "rowLimit": 10000
     },
     "inputWidgets": {},
     "nuid": "a100c2b6-cc14-4f90-8c3f-cad7108850d6",
     "showTitle": true,
     "tableResultSettingsMap": {},
     "title": "Distribuição pela Experiência relevante"
    }
   },
   "outputs": [
    {
     "output_type": "display_data",
     "data": {
      "image/png": "[encoded data removed]"
     },
     "metadata": {
      "application/vnd.databricks.v1+output": {
       "addedWidgets": {},
       "arguments": {},
       "data": "data:image/png;base64,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\n",
       "datasetInfos": [],
       "metadata": {},
       "removedWidgets": [],
       "type": "image"
      }
     },
     "output_type": "display_data"
    }
   ],
   "source": [
    "# Criação de gráfico de distribuição da quantidade de candidatos com experiencia relevante em Ciência de dados\n",
    "relevant_experience_counts = df.groupBy('relevent_experience').count()\n",
    "relevant_experience_counts_df = relevant_experience_counts.toPandas()\n",
    "plt.figure(figsize=(8, 6))\n",
    "sns.barplot(x='relevent_experience', y='count', data=relevant_experience_counts_df)\n",
    "plt.title('Candidates with Relevant Experience')\n",
    "plt.xlabel('Relevant Experience')\n",
    "plt.ylabel('Number of Candidates')\n",
    "plt.show()\n"
   ]
  },
  {
   "cell_type": "code",
   "execution_count": 0,
   "metadata": {
    "application/vnd.databricks.v1+cell": {
     "cellMetadata": {
      "byteLimit": 2048000,
      "rowLimit": 10000
     },
     "inputWidgets": {},
     "nuid": "c62ba74c-30a8-4993-be66-914627adace1",
     "showTitle": true,
     "tableResultSettingsMap": {},
     "title": "Distribuição dos candidatos e status de matrícula"
    }
   },
   "outputs": [
    {
     "output_type": "display_data",
     "data": {
      "image/png": "[encoded data removed]"
     },
     "metadata": {
      "application/vnd.databricks.v1+output": {
       "addedWidgets": {},
       "arguments": {},
       "data": "data:image/png;base64,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\n",
       "datasetInfos": [],
       "metadata": {},
       "removedWidgets": [],
       "type": "image"
      }
     },
     "output_type": "display_data"
    }
   ],
   "source": [
    "# Criação de gráfico que apresenta a distribuição dos candidatos de acordo com o status de matrícula \n",
    "enrollment_status_counts = df.groupBy('enrolled_university').count()\n",
    "enrollment_status_counts_df = enrollment_status_counts.toPandas()\n",
    "plt.figure(figsize=(8, 6))\n",
    "sns.barplot(x='enrolled_university', y='count', data=enrollment_status_counts_df)\n",
    "plt.title('Enrollment Status of Candidates')\n",
    "plt.xlabel('Enrollment Status')\n",
    "plt.ylabel('Number of Candidates')\n",
    "plt.show()\n"
   ]
  },
  {
   "cell_type": "code",
   "execution_count": 0,
   "metadata": {
    "application/vnd.databricks.v1+cell": {
     "cellMetadata": {
      "byteLimit": 2048000,
      "rowLimit": 10000
     },
     "inputWidgets": {},
     "nuid": "c1f02763-dc05-4279-9221-535562b5cb9a",
     "showTitle": true,
     "tableResultSettingsMap": {},
     "title": "Distribuição dos candidatos pelo nível de educação"
    }
   },
   "outputs": [
    {
     "output_type": "display_data",
     "data": {
      "image/png": "[encoded data removed]"
     },
     "metadata": {
      "application/vnd.databricks.v1+output": {
       "addedWidgets": {},
       "arguments": {},
       "data": "data:image/png;base64,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\n",
       "datasetInfos": [],
       "metadata": {},
       "removedWidgets": [],
       "type": "image"
      }
     },
     "output_type": "display_data"
    }
   ],
   "source": [
    "# Criação do gráfico que mostre a distribuição dos candidatos pelo nível de educação\n",
    "education_level_counts = df.groupBy('education_level').count()\n",
    "education_level_counts_df = education_level_counts.toPandas()\n",
    "plt.figure(figsize=(8, 6))\n",
    "sns.barplot(x='education_level', y='count', data=education_level_counts_df)\n",
    "plt.title('Distribution of Education Levels')\n",
    "plt.xlabel('Education Levels')\n",
    "plt.ylabel('Number of Candidates')\n",
    "plt.show()\n"
   ]
  },
  {
   "cell_type": "code",
   "execution_count": 0,
   "metadata": {
    "application/vnd.databricks.v1+cell": {
     "cellMetadata": {
      "byteLimit": 2048000,
      "rowLimit": 10000
     },
     "inputWidgets": {},
     "nuid": "a4c399fb-5e4f-4aef-abbb-7b35080ef3b6",
     "showTitle": true,
     "tableResultSettingsMap": {},
     "title": "Distribuição dos candidatos pela área de estudos"
    }
   },
   "outputs": [
    {
     "output_type": "display_data",
     "data": {
      "image/png": "[encoded data removed]"
     },
     "metadata": {
      "application/vnd.databricks.v1+output": {
       "addedWidgets": {},
       "arguments": {},
       "data": "data:image/png;base64,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\n",
       "datasetInfos": [],
       "metadata": {},
       "removedWidgets": [],
       "type": "image"
      }
     },
     "output_type": "display_data"
    }
   ],
   "source": [
    "# Criação do gráfico que mostre a distribuição dos candidatos pela área de estudos\n",
    "major_counts = df.groupBy('major_discipline').count()\n",
    "major_counts_df = major_counts.toPandas()\n",
    "plt.figure(figsize=(10, 8))\n",
    "sns.barplot(x='major_discipline', y='count', data=major_counts_df)\n",
    "plt.title('Distribution of Study Areas')\n",
    "plt.xlabel('Study Areas')\n",
    "plt.ylabel('Number of Candidates')\n",
    "plt.show()\n"
   ]
  },
  {
   "cell_type": "code",
   "execution_count": 0,
   "metadata": {
    "application/vnd.databricks.v1+cell": {
     "cellMetadata": {
      "byteLimit": 2048000,
      "rowLimit": 10000
     },
     "inputWidgets": {},
     "nuid": "edb65c5d-c1ee-41c0-a807-91117874a653",
     "showTitle": true,
     "tableResultSettingsMap": {},
     "title": "Distribuição dos anos de experiência dos candidatos"
    }
   },
   "outputs": [
    {
     "output_type": "display_data",
     "data": {
      "image/png": "[encoded data removed]"
     },
     "metadata": {
      "application/vnd.databricks.v1+output": {
       "addedWidgets": {},
       "arguments": {},
       "data": "data:image/png;base64,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\n",
       "datasetInfos": [],
       "metadata": {},
       "removedWidgets": [],
       "type": "image"
      }
     },
     "output_type": "display_data"
    }
   ],
   "source": [
    "# Criação do gráfico que mostre a distribuição dos anos de experiencia em Ciência de dados\n",
    "experience_df = df.select('experience').toPandas()\n",
    "plt.figure(figsize=(8, 6))\n",
    "sns.histplot(experience_df['experience'], kde=True)\n",
    "plt.title('Distribution of Years of Experience')\n",
    "plt.xlabel(' Years of Experience')\n",
    "plt.ylabel('Distribution')\n",
    "plt.show()\n"
   ]
  },
  {
   "cell_type": "code",
   "execution_count": 0,
   "metadata": {
    "application/vnd.databricks.v1+cell": {
     "cellMetadata": {
      "byteLimit": 2048000,
      "rowLimit": 10000
     },
     "inputWidgets": {},
     "nuid": "69388e9e-5e45-43e4-bb8f-a777b112b679",
     "showTitle": true,
     "tableResultSettingsMap": {},
     "title": "Distribuição em relação do tamanho da empresa"
    }
   },
   "outputs": [
    {
     "output_type": "display_data",
     "data": {
      "image/png": "[encoded data removed]"
     },
     "metadata": {
      "application/vnd.databricks.v1+output": {
       "addedWidgets": {},
       "arguments": {},
       "data": "data:image/png;base64,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\n",
       "datasetInfos": [],
       "metadata": {},
       "removedWidgets": [],
       "type": "image"
      }
     },
     "output_type": "display_data"
    }
   ],
   "source": [
    "# Criação do gráfico para distribuição dos candidatos em relação do tamanho da empresa\n",
    "company_size_counts = df.groupBy('company_size').count()\n",
    "company_size_counts_df = company_size_counts.toPandas()\n",
    "plt.figure(figsize=(10, 6))\n",
    "sns.barplot(x='company_size', y='count', data=company_size_counts_df)\n",
    "plt.title('Company Size Distribution')\n",
    "plt.xlabel('Company Size')\n",
    "plt.ylabel('Number of Candidates')\n",
    "plt.show()\n"
   ]
  },
  {
   "cell_type": "code",
   "execution_count": 0,
   "metadata": {
    "application/vnd.databricks.v1+cell": {
     "cellMetadata": {
      "byteLimit": 2048000,
      "rowLimit": 10000
     },
     "inputWidgets": {},
     "nuid": "c129c13b-b3f0-4d1b-ae54-39b75ed1bbf0",
     "showTitle": true,
     "tableResultSettingsMap": {},
     "title": "Distribuição em relação ao tipo da empresa"
    }
   },
   "outputs": [
    {
     "output_type": "display_data",
     "data": {
      "image/png": "[encoded data removed]"
     },
     "metadata": {
      "application/vnd.databricks.v1+output": {
       "addedWidgets": {},
       "arguments": {},
       "data": "data:image/png;base64,iVBORw0KGgoAAAANSUhEUgAAAuAAAAHwCAYAAADn4NoPAAAAOXRFWHRTb2Z0d2FyZQBNYXRwbG90bGliIHZlcnNpb24zLjUuMSwgaHR0cHM6Ly9tYXRwbG90bGliLm9yZy/YYfK9AAAACXBIWXMAAAsTAAALEwEAmpwYAAAzxklEQVR4nO3dZ5gtVZ228fshKChJBJUggsroGBGPqGNiDAgmMKDjICCjovOqo844ZgWzzoh51EFRgo4KGAAzoiAGJEsUQQRJIgpIUFDg/36o1bBpOp5zevU5fe7fdfXVtVetqlq79t7Vz169qipVhSRJkqQ+VprvBkiSJEkrEgO4JEmS1JEBXJIkSerIAC5JkiR1ZACXJEmSOjKAS5IkSR0ZwCVJ8yLJNUnuuZTW9aYkn2nTmyapJKsspXVv0tq68tJYnyQZwCWtEJL8c5LjW5C6JMm3kzx6vts1F5Kc3p7nNUluTHLdyOM3ddj+1kluGtnmhUkOTPKw0XpVtUZVnTuDdV043Tar6j1V9eIlbXvb5nlJnjiy7t+2tt64NNYvSQZwSQtekn8HPgy8B7grsAnwCWD7eWzWnKmq+7fAuAZwNPCKscdV9Z5Ozbi4bX9N4BHAL4GjkzxhaW9oafV0S1IvBnBJC1qStYF3AC+vqq9W1bVV9beqOqyq/rPVuX2SDye5uP18OMnt27ytWw/u65L8vvWe75DkKUl+leTy0V7lJHsmOTjJl5NcneTEJA8emf+GJL9u885I8syReS9M8uMkH0hyRZLfJNmuzdsxyQnjntu/JzlkFvvitCRPH3m8apI/JHnIyLCN3ds+uCTJa0fqrjTS9j+2Hu11p9tmDS6sqrcBnwHeP7LOSnLvNv2Utj+uTnJRktcmuSPwbWDDkd70DUf28eeTXAW8sJV9ftzm/2WS57JvkneNPL65lz3JAQxf0A5r23vd+CEtrQ2Httf+nCQvGVnXnm3f7N+ey+lJFs3sFZK0ojCAS1roHgmsBnxtijpvZuil3QJ4MLAV8JaR+Xdr69gIeBvwaeAFwEOBxwBvTbLZSP3tgYOAdYH/A76eZNU279dtmbWBtwOfT7LByLIPB84C1gP+C9gnSYBDgc2S/P1I3Z2B/afdA7fYv7V7zFOAS6rqpJGyfwQ2B7YBXj8yFOOVwA7A44ANgSuA/5nFtgG+CmzZgvV4+wAvrao1gQcAP6iqa4HtaL3p7efiVn974GBgHeALk2xvsucyqaraGfgt8PS2vf+aoNqXgAsZ9sNzgPckefzI/Ge0OuswvG4fn267klYsBnBJC92dgT9U1Q1T1NkJeEdV/b6qLmMIxjuPzP8b8O6q+htDsFoP+EhVXV1VpwNnMAT3MSdU1cGt/gcZwvsjAKrqoKq6uKpuqqovA2czBP4x51fVp9t44/2ADYC7VtX1wJdpATrJ/YFNgW/MYl98HnhKkrXa452BA8bVeXv7L8GpwOeA57fylwFvbr3Z1wN7As+Z5fCPi4EwBNPx/gbcL8laVXVFVZ04zbp+VlVfb/vxL5PUmey5LLYkdwceBby+qq6rqpMZevZ3Gan246r6VnsND+DW7w1JMoBLWvD+CKw3TVDcEDh/5PH5rezmdYycgDcW9i4dmf8XYI2RxxeMTVTVTdzSW0qSXZKcnOTKJFcy9PauN7Ls70aW/XObHFv3fsA/tx7xnYEDWxiekdZ7/BPg2UnWYehdHt97fMHI9Oh+uAfwtZF2nwncyDCmfqY2Agq4coJ5z2bokT8/yVFJHjnNui6YZv74OuNf08W1IXB5VV09bt0bjTz+3cj0n4HVHKcuaZQBXNJC9zPgeobhE5O5mCFgjtmklS2uu49NJFkJ2Bi4OMk9GIavvAK4c1WtA5zG0Cs8rao6BvgrwxCWf+a2vdczsR9DL/qODL3IF03Wdm69Hy4AtquqdUZ+Vptg+ak8EzixDS25lao6rqq2B+4CfB04cGzWJOuarHzUZM/lWuAOI/PuNot1Xwysm2TNceuezX6QtIIzgEta0KrqTwzjtv+nnTx5h3by4XZJxsb3fhF4S5L1k6zX6o8/oW82HprkWa3X89UMXwCOAe7IEO4uA0iyG0MP+GzszzCm+G9V9ePFaNvXgS2BVzHx+PG3tn10f2A3hmEvAJ8C3t2+RND21bRXkclgoyR7AC8GbnMZxCS3S7JTkrXbsJ2rgJva7EuBO2c4mXa2JnsuJzMMxVk3yd0YXqNRlwITXp+8qi4Afgq8N8lqSR4EvIgle79IWsEYwCUteFW1F/DvDCdWXsbQm/sKhjAK8C7geOAU4FTgxFa2uA4BnsdwouLOwLPalVfOAPZi6JW/FHggw5CQ2TiAIbQvVuBr46W/AmzGcFLkeEcB5wBHAB+oqu+18o8wnFD4vSRXM3yhePgUm9owyTXANcBxDM9165H1jbczcF67qsnLGMblU1W/ZPiCdG4b/jKbYSSTPZcDgF8A5wHf45ZgPua9DF/Irhy9esqI5zOMv7+Y4eTeParq+7Nol6QVXKpm8l88SdJMJNkTuHdVvWC6uou5/tWB3wNbVtXZi7mOtwF/N9rGJJsCvwFWneaEVUnSEvKkEElavvwrcNwShO91GYZM7DxdXUnS3DCAS9JyIsl5DCds7rCYy7+E4Y6gB1TVj5ZawyRJs+IQFEmSJKkjT8KUJEmSOjKAS5IkSR2tcGPA11tvvdp0003nuxmSJElawE444YQ/VNX6E81b4QL4pptuyvHHHz/fzZAkSdICluT8yeY5BEWSJEnqyAAuSZIkdWQAlyRJkjoygEuSJEkdGcAlSZKkjgzgkiRJUkcGcEmSJKmjOQvgST6b5PdJThspWzfJ4UnObr/v1MqT5KNJzklySpItR5bZtdU/O8muI+UPTXJqW+ajSTJXz0WSJElaWuayB3xfYNtxZW8AjqiqzYEj2mOA7YDN28/uwCdhCOzAHsDDga2APcZCe6vzkpHlxm9LkiRJWubMWQCvqh8Bl48r3h7Yr03vB+wwUr5/DY4B1kmyAfBk4PCquryqrgAOB7Zt89aqqmOqqoD9R9YlSZIkLbN6jwG/a1Vd0qZ/B9y1TW8EXDBS78JWNlX5hROUS5IkScu0eTsJs/VcV49tJdk9yfFJjr/ssst6bFKSJEmaUO8AfmkbPkL7/ftWfhFw95F6G7eyqco3nqB8QlW1d1UtqqpF66+//hI/CUmSJGlx9Q7ghwJjVzLZFThkpHyXdjWURwB/akNVvgtsk+RO7eTLbYDvtnlXJXlEu/rJLiPrkiRJkpZZq8zVipN8EdgaWC/JhQxXM3kfcGCSFwHnA89t1b8FPAU4B/gzsBtAVV2e5J3Aca3eO6pq7MTO/8dwpZXVgW+3H0mSJGmZlmEo9opj0aJFdfzxx893MyRJkrSAJTmhqhZNNM87YUqSJEkdGcAlSZKkjgzgkiRJUkdzdhLm8uyh/7n/fDdhuXPCf+8y302QJElaLtgDLkmSJHVkAJckSZI6MoBLkiRJHRnAJUmSpI4M4JIkSVJHBnBJkiSpIwO4JEmS1JEBXJIkSerIAC5JkiR1ZACXJEmSOjKAS5IkSR0ZwCVJkqSODOCSJElSRwZwSZIkqSMDuCRJktSRAVySJEnqyAAuSZIkdWQAlyRJkjoygEuSJEkdGcAlSZKkjgzgkiRJUkcGcEmSJKkjA7gkSZLUkQFckiRJ6sgALkmSJHVkAJckSZI6MoBLkiRJHRnAJUmSpI4M4JIkSVJHBnBJkiSpIwO4JEmS1JEBXJIkSerIAC5JkiR1ZACXJEmSOjKAS5IkSR0ZwCVJkqSODOCSJElSRwZwSZIkqSMDuCRJktSRAVySJEnqyAAuSZIkdWQAlyRJkjoygEuSJEkdGcAlSZKkjgzgkiRJUkcGcEmSJKkjA7gkSZLUkQFckiRJ6sgALkmSJHVkAJckSZI6MoBLkiRJHRnAJUmSpI4M4JIkSVJHBnBJkiSpIwO4JEmS1JEBXJIkSerIAC5JkiR1ZACXJEmSOjKAS5IkSR0ZwCVJkqSODOCSJElSRwZwSZIkqSMDuCRJktSRAVySJEnqyAAuSZIkdWQAlyRJkjoygEuSJEkdGcAlSZKkjgzgkiRJUkcGcEmSJKkjA7gkSZLUkQFckiRJ6mheAniS1yQ5PclpSb6YZLUkmyX5eZJzknw5ye1a3du3x+e0+ZuOrOeNrfysJE+ej+ciSZIkzUb3AJ5kI+DfgEVV9QBgZeCfgPcDH6qqewNXAC9qi7wIuKKVf6jVI8n92nL3B7YFPpFk5Z7PRZIkSZqt+RqCsgqwepJVgDsAlwCPBw5u8/cDdmjT27fHtPlPSJJW/qWqur6qfgOcA2zVp/mSJEnS4ukewKvqIuADwG8ZgvefgBOAK6vqhlbtQmCjNr0RcEFb9oZW/86j5RMscytJdk9yfJLjL7vssqX7hCRJkqRZmI8hKHdi6L3eDNgQuCPDEJI5U1V7V9Wiqlq0/vrrz+WmJEmSpCnNxxCUJwK/qarLqupvwFeBRwHrtCEpABsDF7Xpi4C7A7T5awN/HC2fYBlJkiRpmTQfAfy3wCOS3KGN5X4CcAbwQ+A5rc6uwCFt+tD2mDb/B1VVrfyf2lVSNgM2B47t9BwkSZKkxbLK9FWWrqr6eZKDgROBG4CTgL2BbwJfSvKuVrZPW2Qf4IAk5wCXM1z5hKo6PcmBDOH9BuDlVXVj1ycjSZIkzVL3AA5QVXsAe4wrPpcJrmJSVdcBO06ynncD717qDZQkSZLmiHfClCRJkjoygEuSJEkdGcAlSZKkjgzgkiRJUkcGcEmSJKkjA7gkSZLUkQFckiRJ6sgALkmSJHVkAJckSZI6MoBLkiRJHRnAJUmSpI4M4JIkSVJHBnBJkiSpIwO4JEmS1JEBXJIkSerIAC5JkiR1ZACXJEmSOjKAS5IkSR0ZwCVJkqSODOCSJElSRwZwSZIkqSMDuCRJktSRAVySJEnqyAAuSZIkdWQAlyRJkjoygEuSJEkdGcAlSZKkjgzgkiRJUkcGcEmSJKkjA7gkSZLUkQFckiRJ6sgALkmSJHVkAJckSZI6MoBLkiRJHRnAJUmSpI4M4JIkSVJHBnBJkiSpIwO4JEmS1JEBXJIkSerIAC5JkiR1ZACXJEmSOjKAS5IkSR0ZwCVJkqSODOCSJElSRwZwSZIkqSMDuCRJktSRAVySJEnqyAAuSZIkdWQAlyRJkjoygEuSJEkdGcAlSZKkjgzgkiRJUkcGcEmSJKkjA7gkSZLUkQFckiRJ6sgALkmSJHVkAJckSZI6MoBLkiRJHRnAJUmSpI4M4JIkSVJH0wbwJDsmWbNNvyXJV5NsOfdNkyRJkhaemfSAv7Wqrk7yaOCJwD7AJ+e2WZIkSdLCNJMAfmP7/VRg76r6JnC7uWuSJEmStHDNJIBflOR/gecB30py+xkuJ0mSJGmcmQTp5wLfBZ5cVVcC6wL/OZeNkiRJkhaqaQN4Vf0Z+D3w6FZ0A3D2XDZKkiRJWqhmchWUPYDXA29sRasCn5/LRkmSJEkL1UyGoDwTeAZwLUBVXQysOZeNkiRJkhaqmQTwv1ZVAQWQ5I5z2yRJkiRp4ZpJAD+wXQVlnSQvAb4PfGZumyVJkiQtTKtMV6GqPpDkScBVwH2At1XV4XPeMkmSJGkBmjaAJ3l/Vb0eOHyCMkmSJEmzMJMhKE+aoGy7pd0QSZIkaUUwaQ94kn8F/h9wzySnjMxaE/jJXDdMkqSePv4fh813E5Yrr9jr6fPdBGm5NdUQlP8Dvg28F3jDSPnVVXX5nLZKkiRJWqAmHYJSVX+qqvOq6vlVdT7wF4ZLEa6RZJMl2WiSdZIcnOSXSc5M8sgk6yY5PMnZ7fedWt0k+WiSc5KckmTLkfXs2uqfnWTXJWmTJEmS1MNM7oT59CRnA78BjgLOY+gZXxIfAb5TVfcFHgycydDLfkRVbQ4cwS297tsBm7ef3YFPtnatC+wBPBzYCthjLLRLkiRJy6qZnIT5LuARwK+qajPgCcAxi7vBJGsDjwX2Aaiqv1bVlcD2wH6t2n7ADm16e2D/GhzDcD3yDYAnA4dX1eVVdQXDVVq2Xdx2SZIkST3MJID/rar+CKyUZKWq+iGwaAm2uRlwGfC5JCcl+Uy7u+Zdq+qSVud3wF3b9EbABSPLX9jKJiuXJEmSllkzCeBXJlkD+BHwhSQfAa5dgm2uAmwJfLKqHtLWNXqSJ1VVDOPNl4okuyc5Psnxl1122dJarSRJkjRrMwng2zOcgPka4DvAr4ElufbQhcCFVfXz9vhghkB+aRtaQvv9+zb/IuDuI8tv3MomK7+Nqtq7qhZV1aL1119/CZouSZIkLZlpA3hVXVtVN1bVDVW1X1V9tA1JWSxV9TvggiT3aUVPAM4ADgXGrmSyK3BImz4U2KVdDeURwJ/aUJXvAtskuVM7+XKbViZJkiQts6a6Ec/VTDEMpKrWWoLtvpJhOMvtgHOB3Ri+DByY5EXA+cBzW91vAU8BzgH+3OpSVZcneSdwXKv3Dq9PLkmSpGXdpAG8qtYEaCH3EuAAIMBOwAZLstGqOpmJT+R8wgR1C3j5JOv5LPDZJWmLJEmS1NNMxoA/o6o+UVVXV9VVVfVJhnHhkiRJkmZpJgH82iQ7JVk5yUpJdmLJroIiSZIkrbBmEsD/mWE89qXtZ8dWJkmSJGmWJh0DPqaqzsMhJ5IkSdJSMdVVUF5XVf+V5GNMcDWUqvq3OW2ZJEmStABN1QN+Zvt9fI+GSJIkSSuCqS5DeFj7vV+/5kiSJEkL21RDUA5j6hvxPGNOWiRJkiQtYFMNQflA+/0s4G7A59vj5zNcDUWSJEnSLE01BOUogCR7VdXoXSsPS+K4cEmSJGkxzOQ64HdMcs+xB0k2A+44d02SJEmSFq5prwMOvAY4Msm5QIB7AC+d01ZJkiRJC9RMbsTznSSbA/dtRb+squvntlmSJEnSwjSTHnCAhwKbtvoPTkJV7T9nrZIkSZIWqGkDeJIDgHsBJwM3tuICDOCSJEnSLM2kB3wRcL+qmvSa4JIkSZJmZiZXQTmN4TrgkiRJkpbQTHrA1wPOSHIscPPJl94JU5IkSZq9mQTwPee6EZIkSdKKYiaXITyqR0MkSZKkFcG0Y8CTPCLJcUmuSfLXJDcmuapH4yRJkqSFZiYnYX4ceD5wNrA68GLgf+ayUZIkSdJCNZMATlWdA6xcVTdW1eeAbee2WZIkSdLCNJOTMP+c5HbAyUn+C7iEGQZ3SZIkSbc2kyC9c6v3CuBa4O7As+eyUZIkSdJCNWkPeJL1gfWr6oxWdB3w9iT3B/7Uo3GSJEnSQjNVD/jHGG7CM966wEfmpjmSJEnSwjZVAL93Vf1ofGFVHQ08aO6aJEmSJC1cUwXwNaeYt+rSbogkSZK0IpgqgJ+T5CnjC5NsB5w7d02SJEmSFq6pLkP4auCbSZ4LnNDKFgGPBJ42x+2SJEmSFqRJe8Cr6mzggcBRwKbt5yjgQVX1qx6NkyRJkhaaKW/EU1XXA5/r1BZJkiRpwfOOlpIkSVJHBnBJkiSpo0kDeJIj2u/392uOJEmStLBNNQZ8gyT/ADwjyZeAjM6sqhPntGWSJEnSAjRVAH8b8FZgY+CD4+YV8Pi5apQkSZK0UE0awKvqYODgJG+tqnd2bJMkSZK0YE15GUKAqnpnkmcAj21FR1bVN+a2WZIkSdLCNO1VUJK8F3gVcEb7eVWS98x1wyRJkqSFaNoecOCpwBZVdRNAkv2Ak4A3zWXDJEmSpIVoptcBX2dkeu05aIckSZK0QphJD/h7gZOS/JDhUoSPBd4wp62SJEmSFqiZnIT5xSRHAg9rRa+vqt/NaaskSZKkBWomPeBU1SXAoXPcFkmSJGnBm+kYcEmSJElLgQFckiRJ6mjKAJ5k5SS/7NUYSZIkaaGbMoBX1Y3AWUk26dQeSZIkaUGbyUmYdwJOT3IscO1YYVU9Y85aJUmSJC1QMwngb53zVkiSJEkriJlcB/yoJPcANq+q7ye5A7Dy3DdNkiRJWnimvQpKkpcABwP/24o2Ar4+h22SJEmSFqyZXIbw5cCjgKsAqups4C5z2ShJkiRpoZpJAL++qv469iDJKkDNXZMkSZKkhWsmAfyoJG8CVk/yJOAg4LC5bZYkSZK0MM0kgL8BuAw4FXgp8C3gLXPZKEmSJGmhmslVUG5Ksh/wc4ahJ2dVlUNQJEmSpMUwbQBP8lTgU8CvgQCbJXlpVX17rhsnSZIkLTQzuRHPXsA/VtU5AEnuBXwTMIBLkiRJszSTMeBXj4Xv5lzg6jlqjyRJkrSgTdoDnuRZbfL4JN8CDmQYA74jcFyHtkmSJEkLzlRDUJ4+Mn0p8Lg2fRmw+py1SJIkSVrAJg3gVbVbz4ZIkiRJK4KZXAVlM+CVwKaj9avqGXPXLEmSJGlhmslVUL4O7MNw98ub5rQ1kiRJ0gI3kwB+XVV9dM5bIkmSJK0AZhLAP5JkD+B7wPVjhVV14py1SpIkSVqgZhLAHwjsDDyeW4agVHssSZIkaRZmEsB3BO5ZVX+d68ZIkiRJC91M7oR5GrDOHLdDkiRJWiHMpAd8HeCXSY7j1mPAvQyhJEmSNEszCeB7zHkrJEmSpBXEtAG8qo7q0RBJkiRpRTDtGPAkVye5qv1cl+TGJFct6YaTrJzkpCTfaI83S/LzJOck+XKS27Xy27fH57T5m46s442t/KwkT17SNkmSJElzbdoAXlVrVtVaVbUWsDrwbOATS2HbrwLOHHn8fuBDVXVv4ArgRa38RcAVrfxDrR5J7gf8E3B/YFvgE0lWXgrtkiRJkubMTK6CcrMafB1Yot7mJBsDTwU+0x6H4briB7cq+wE7tOnt22Pa/Ce0+tsDX6qq66vqN8A5wFZL0i5JkiRprk07BjzJs0YergQsAq5bwu1+GHgdsGZ7fGfgyqq6oT2+ENioTW8EXABQVTck+VOrvxFwzMg6R5eRJEmSlkkzuQrK00embwDOY+h9XixJngb8vqpOSLL14q5nltvcHdgdYJNNNumxSUmSJGlCM7kKym5LeZuPAp6R5CnAasBawEeAdZKs0nrBNwYuavUvAu4OXJhkFWBt4I8j5WNGlxn/HPYG9gZYtGhRLeXnI0mSJM3YpAE8ydumWK6q6p2Ls8GqeiPwxraNrYHXVtVOSQ4CngN8CdgVOKQtcmh7/LM2/wdVVUkOBf4vyQeBDYHNgWMXp02SJElSL1P1gF87QdkdGa5KcmdgsQL4FF4PfCnJu4CTgH1a+T7AAUnOAS5nuPIJVXV6kgOBMxiGxry8qm5cym2SJEmSlqpJA3hV7TU2nWRNhssG7sbQQ73XZMvNRlUdCRzZps9lgquYVNV1wI6TLP9u4N1Loy2SJElSD1OOAU+yLvDvwE4MlwLcsqqu6NEwSZIkaSGaagz4fwPPYjh58YFVdU23VkmSJEkL1FQ34vkPhpMb3wJcPHI7+quXxq3oJUmSpBXRVGPAZ3WXTEmSJEnTM2RLkiRJHRnAJUmSpI4M4JIkSVJHBnBJkiSpIwO4JEmS1JEBXJIkSerIAC5JkiR1ZACXJEmSOjKAS5IkSR0ZwCVJkqSODOCSJElSRwZwSZIkqSMDuCRJktSRAVySJEnqyAAuSZIkdWQAlyRJkjoygEuSJEkdGcAlSZKkjgzgkiRJUkcGcEmSJKkjA7gkSZLUkQFckiRJ6sgALkmSJHVkAJckSZI6MoBLkiRJHRnAJUmSpI4M4JIkSVJHBnBJkiSpIwO4JEmS1JEBXJIkSerIAC5JkiR1ZACXJEmSOjKAS5IkSR0ZwCVJkqSODOCSJElSRwZwSZIkqSMDuCRJktSRAVySJEnqyAAuSZIkdWQAlyRJkjoygEuSJEkdGcAlSZKkjgzgkiRJUkcGcEmSJKkjA7gkSZLUkQFckiRJ6sgALkmSJHVkAJckSZI6MoBLkiRJHRnAJUmSpI4M4JIkSVJHBnBJkiSpIwO4JEmS1JEBXJIkSerIAC5JkiR1ZACXJEmSOjKAS5IkSR0ZwCVJkqSODOCSJElSRwZwSZIkqSMDuCRJktSRAVySJEnqyAAuSZIkdWQAlyRJkjoygEuSJEkdGcAlSZKkjgzgkiRJUkcGcEmSJKkjA7gkSZLUkQFckiRJ6sgALkmSJHVkAJckSZI66h7Ak9w9yQ+TnJHk9CSvauXrJjk8ydnt951aeZJ8NMk5SU5JsuXIunZt9c9Osmvv5yJJkiTN1nz0gN8A/EdV3Q94BPDyJPcD3gAcUVWbA0e0xwDbAZu3n92BT8IQ2IE9gIcDWwF7jIV2SZIkaVnVPYBX1SVVdWKbvho4E9gI2B7Yr1XbD9ihTW8P7F+DY4B1kmwAPBk4vKour6orgMOBbfs9E0mSJGn25nUMeJJNgYcAPwfuWlWXtFm/A+7apjcCLhhZ7MJWNln5RNvZPcnxSY6/7LLLlt4TkCRJkmZp3gJ4kjWArwCvrqqrRudVVQG1tLZVVXtX1aKqWrT++usvrdVKkiRJszYvATzJqgzh+wtV9dVWfGkbWkL7/ftWfhFw95HFN25lk5VLkiRJy6z5uApKgH2AM6vqgyOzDgXGrmSyK3DISPku7WoojwD+1IaqfBfYJsmd2smX27QySZIkaZm1yjxs81HAzsCpSU5uZW8C3gccmORFwPnAc9u8bwFPAc4B/gzsBlBVlyd5J3Bcq/eOqrq8yzOQJEmSFlP3AF5VPwYyyewnTFC/gJdPsq7PAp9deq2TJEmS5pZ3wpQkSZI6MoBLkiRJHRnAJUmSpI4M4JIkSVJHBnBJkiSpIwO4JEmS1JEBXJIkSerIAC5JkiR1ZACXJEmSOjKAS5IkSR0ZwCVJkqSODOCSJElSRwZwSZIkqSMDuCRJktSRAVySJEnqyAAuSZIkdWQAlyRJkjoygEuSJEkdGcAlSZKkjgzgkiRJUkcGcEmSJKkjA7gkSZLUkQFckiRJ6sgALkmSJHVkAJckSZI6MoBLkiRJHRnAJUmSpI4M4JIkSVJHBnBJkiSpIwO4JEmS1JEBXJIkSerIAC5JkiR1ZACXJEmSOjKAS5IkSR0ZwCVJkqSODOCSJElSRwZwSZIkqaNV5rsBkqTBUY993Hw3YbnzuB8dNd9NkKRZswdckiRJ6sgecEmSpBXYme/+wXw3Ybnz929+/BItbw+4JEmS1JEBXJIkSerIAC5JkiR1ZACXJEmSOjKAS5IkSR0ZwCVJkqSODOCSJElSRwZwSZIkqSMDuCRJktSRAVySJEnqyAAuSZIkdWQAlyRJkjoygEuSJEkdrTLfDZC07HjUxx41301Y7vzklT+Z7yZIkpYz9oBLkiRJHRnAJUmSpI4M4JIkSVJHjgHXMue373jgfDdhubLJ206d7yZIkqRZsAdckiRJ6sgALkmSJHVkAJckSZI6MoBLkiRJHRnAJUmSpI4M4JIkSVJHBnBJkiSpIwO4JEmS1JEBXJIkSerIAC5JkiR1ZACXJEmSOjKAS5IkSR0ZwCVJkqSODOCSJElSRwZwSZIkqSMDuCRJktTRKvPdAEmStGJ79wueM99NWO68+fMHz3cTtASW+x7wJNsmOSvJOUneMN/tkSRJkqayXAfwJCsD/wNsB9wPeH6S+81vqyRJkqTJLdcBHNgKOKeqzq2qvwJfAraf5zZJkiRJk1reA/hGwAUjjy9sZZIkSdIyKVU1321YbEmeA2xbVS9uj3cGHl5VrxhXb3dg9/bwPsBZXRu69KwH/GG+G7ECc//PL/f//HHfzy/3//xy/8+f5X3f36Oq1p9oxvJ+FZSLgLuPPN64ld1KVe0N7N2rUXMlyfFVtWi+27Gicv/PL/f//HHfzy/3//xy/8+fhbzvl/chKMcBmyfZLMntgH8CDp3nNkmSJEmTWq57wKvqhiSvAL4LrAx8tqpOn+dmSZIkSZNargM4QFV9C/jWfLejk+V+GM1yzv0/v9z/88d9P7/c//PL/T9/Fuy+X65PwpQkSZKWN8v7GHBJkiRpuWIA7yjJjUlOTnJakoOS3GGKupsm+ecp5p02QfkLk2w4yTJbJ/nG4rd+4UpSSfYaefzaJHuOPH5BklOSnJ7kF0k+k2SdNu92ST6c5JwkZyc5JMnG/Z/F9Ebef2M/b5jl8nsmee0s6j8iyc/bts4c26ftvfgPs2z+rCV5WpKT2mt2RpKXtvIdFueOuR3bPf512nQprHNWr11b5ppJyt/cPguntPY9vJW/eqpj2hTbmfS4tayY7hgxyTKTvs+SvCzJLjPY7hfbfn7NrBu9FLTX5uPzse25kmTjdpw+O8mvk3ykHce3SPKUkXqz/swsVLPJLq3+eUnWm6D85n2a5B1JnjjD7a+U5KNt+6cmOS7JZovxPG71Gs83A3hff6mqLarqAcBfgZdNUXdTYMIAPoUXAsv0H7Jl1PXAsyY5YGwLvAbYrqruD2wJ/BS4a6vyHmBN4D5VtTnwdeCrSdKj4bM09v4b+3nfTBdMsjjni+wH7F5VWwAPAA5s5VsDcxpkk6zKMHbw6VX1YOAhwJFt9g7ArAJ4e/5bM8ftbsa/Tud12OaMJHkk8DRgy6p6EPBEbrkZ2quBWQXwJCuzfBy3Jj1GTGEHJnmfVdWnqmr/qRZOcjfgYVX1oKr60Ew2uJif0xVGOy5/Ffh6O17/HbAG8G5gC2CphbP23l4oZpNdZqSq3lZV359h9ecxHCMeVFUPBJ4JXLkYm92CWb7Gc/mZMoDPn6OBeyd5X5KXjxWOfEN8H/CY9q1z2t6PDDclWgR8oS2zepJtk/wyyYnAs+bqiSwANzCEtYn285uB11bVRQBVdWNVfbaqzmq9ALsBr6mqG9v8zzH8sX58n6YvuSRvaz0KpyXZe+zLQ5IjW+/+8cCrRurfq72nxh5vPvp4xF2AS+Dm/XZG6819GfCa9j59TJKnt57yk5J8P8ld23rXT3J46239TJLzxwJQhv9KHNvW8b8T/LFbk+Ek8z+27V/fXrN/AJ4B/Hdb9l5JXtKe/y+SfGWsdyfJvkk+leTnDF8exrd73/a5G9sP17TfWyf5UZJvJjmrrWOJjrWjPUpJFiU5sk3vmeSz7bU6N8m/jSzz5iS/SvJjhhuQjZXfK8l3kpyQ5Ogk923lmyX5WethetckTdkA+ENVXd/26x+q6uK23Q2BHyb5YVvfJ5Mc316/t497Lu9v75nnc9vj1lTP9YDWxrOTvGRJ9uksTXqMyPAfyR9k6Kk+IskmE73Pxi0z2hN4ZNsfx7bX6zGt2veAjUbeb1skOaZt52tJ7jSy/M2f0/b4Q23fn5nkYUm+2vbZu0baMOFnKMlurR3HAo9a+rtyXj0euK4dp2nH7dcALwb+C3he2x/Pa/XvN8lna7J9d02SvZL8Anhk12fWz1h2udV/1ZN8PMkLR+q9rh1Ljk1y7/ErGT1+tvfoT9sx+Ngka46rvgFwSVXdBFBVF1bVFW3Zbdox4cQMvfNrTLLOtYF3MPIaJ1k3ydfbZ+qYJA9qy44da34CHLC0dtxtVJU/nX6Aa9rvVYBDgH9l6Jk7aqTOGQw3F9oa+MYk69kUOG2C8iOBRW16NYaeqc2BMASICde3ov8A1wBrAecBawOvBfZs8y4H1p5kuQcBJ01Q/iHg3+b7eU3QrhuBk0d+ntfK1x2pcwBDr/HY++kTI/P2ZPgyAvBDYIs2/R7glRNs723AFcDXgJcCq41fT3t8J245IfzFwF5t+uPAG9v0tkAx3BXt74HDgFXbvE8Au0yw/c8Avwe+COwErNTK9wWeM1LvziPT7xp7Lq3eN4CVJ2n3+PWMfb63Bq4D7slwedTDR+vN8nX6Wis7D1ivTS8Cjhxp00+B27d980dgVeChwKkMPdJrAeeMvHZHAJu36YcDP2jTh47tR+DlY89nXNvWaO36VdvvjxuZd3MbR99XbR8cydB7NVbvdSP1jqQdt2bwXH8BrN6e6wXAhp0+O1MdIw4Ddm3T/8LQu3qb98e49d38XmrPf+w9/xTg+216U0aO88ApY/ubIUh8eJLP6ZHA+9v0q4CLGQLM7YELgTszyWeo1fstsD5wO+AnwMd77ONOr+O/AR+aoPykNu/jI2V7MvFna9LjD8Mx6rnz/TznYL9NlF22ZiRTMByvX9imzwPe3KZ3Gas37n2/L/Cc9j47l+G/PbTP2Srjtr9xW+fJwF7AQ1r5esCPgDu2x69n+Lsz4ToZ/ts2+hp/DNijTT8eOHmknScAq8/lfvXfVX2tnuTkNn00sE9V/TXJXTKMgVwfuKKqLhjfY7IY7gv8pqrOBkjyeWD3JVznglVVVyXZn+Eg/JeJ6iR5IENAXRN4E3BmvxYuFX+pYTjIeP+Y5HUMYW1d4HSGPzAAX55kXZ8Bdkvy7wz/HtxqfIWqekeSLwDbMAynej7DQXu8jYEvJ9mA4cD5m1b+aIZ/NVJV30lyRSt/AkPAPC5DZ/3qDEF7/PZf3F6zJzIEpicxHIDHe0DrGVyHIWB+d2TeQdX+uzFLx1bVuTCM423P5eAZLjvZ6zSZb9bQI319kt8zDI96DEN4/3Nrw6Ht9xoMw2gOyi2jpG7ffj8KeHabPgB4//gNVdU1SR7a1v+PDK/bG6pq3wna9dwkuzP84duAYTjGKW3eZO+r6RxSVX8B/pKhp30rhmFfc26KY8QjueU/jAcw9KTO1lfb7xMYgvettN67darqqFa0H3DQSJXx+3PshnSnAqdX1SVtPecydPA8mok/Qw9n+MJzWav/ZYZhGiuqiT5bUx1/bgS+Mh8NnWO3yS5MPxzviyO/pxpCdR+G3u3jYPicja9QVRcmuQ9DSH48cESSHRn2/f2An7TX4nbAzyZbZ247MvTRtGNeVf0gyZ2TrNXmHdqONXPGAN7XZH9YD2L4Jng3Fv8Pk5bch4ETgc+NlJ3OMO77h1V1KrBFhpOSVgd+DWySZM2qunpkmYcy9Jwu85KsxtCDs6h98duT4b8nY66dZNGvAHsAPwBOqKo/TlSpqn4NfDLJp4HLktx5gmofAz5YVYcm2Zqh92HKZgP7VdUbp6lHe81OTXIAQ7B/4QTV9gV2qKpftH+hbj0yb7LnD8OwhJVgOEmI4eB/86bHN2W6tk7j5m1x69cHhiFPY25k6uP6SsCVUwT8advZvpAcCRyZ5FRgV4Z9eLMMJ0i9lqEH6ook+zKz9xVM/VyX9n6drQ9z22PE0jD2Gk73+k1m/P4cW99N3Pr9cVNb/4SfoSQ7LMa2lydnMPytvVkLXJswvO/Gm+izNdXx57rF/MK+rLtNdkky+jmFqT+rS/w5bV+Evg18O8mlDOdYfA84vKqeP65tD1zS7TH1MWqpcAz4suHLwD8xHBjGejWuZuhpnY3RZX4JbDrSk/78iRfRmKq6nGGozotGit8LfCC3vrLJ6q3+tQw9UR8cGQO4C0NP8g+6NHrJjR00/9B6R58zVeUxVXUdQ0/xJ5kkjCR5am7pctic4Q/Yldz2vb02cFGb3nWk/CfAc9u6tmEYqgLDEIrnJLlLm7duknuM2/YaLcyP2QI4v02P3/6awCUZTtzcaZKnPNFy5zF82YJhvO+qI/O2yjCmeiWG/xD8eIr1zsTotp49Rb0xPwJ2yDCmek3g6XBzT9BvWu8RGTy4LfMThuMQTLIfktwnyeYjRVsw8X5di+EP2J8yjOnfboq2TrVfxz/X7ZOs1r7IbQ0cN8V6l7pJjhE/5db77eg2vTjH8Mm2+yfgitwyPnxn4KgpFpnOZJ+hnwOPaz2BqwI7Lkm7l0FHAHdox+mxEyX3YvgCeSkze72mPf6sIM5nGCN/+wxXBXvCuPnPG/n9synWcxawQZKHASRZM+NOfEyyZRslMNbZ8aC2/WOAR6WNMU9yxyR/N8U6x38mj6Yd69rfiz9M1AM/Vwzgy4CqOp3hTXHR2L8KGf5Ve2OGEwgmOjnwPkkuHPnZkeEg8qn2r6IwDDn5ZoaTnW7zL3pNaC+GcWXAzXda/SjDt+4zkvyUIUiODVN4I8N4318lOZvhD9Yzqw0kW8asnltf3u59VXUl8GngNIbnNJtA8wWGHrXvTTJ/Z+Cs9n48ANip9Q4dBjyzteExDD3eByU5AfjDyPJvB7bJcMnNHYHfAVdX1RnAW4DvJTmFYYz1BuO2HYaTgMa2/3Zu6f3+EvCfGU76vBfwVobg8ROGL66TGd/uTzOElbETrkZ7TI5jGBN5JkPP+9emWO9MvB34SIYT7abtYauqExm+2P+Coddo9HXdCXhRa/fpwPat/FXAy1uv9kaTrHoNYL/2WTiF4d+/e7Z5ewPfSfLDqvoFw7jaXwL/x7BvJ7Mv7biVZPVpnuspDOcfHAO8s6ounmK9c+VWxwjglQzDsU5heM+/qpWPf58tqV0ZTuo8heGLzzsWd0WTfYba3589GQLTT1j+htlNqR2Xnwns2I7Xv2I4fr+J4X11v9z6JMyJ1jGT48+CV1UXMHwZPa39PmlclTu1/fMqJr7Awdh6/soQ0j/WjkmHc9ve9LsAh7W/Bacw/Lfi422o1AuBL7Zt/Qy47xTrHP8a7wk8tC37Pm7dATTnvBOmpMWS4SoOa1fVW+do/bcHbqyqGzJc/u6TsxwbPS9aT8prq+pp89yUBSXD8KhrquoD890WSVpSjgGXNGtJvgbci7m93OImwIHtX45/BXpedk6SpDljD7gkSZLUkWPAJUmSpI4M4JIkSVJHBnBJkiSpIwO4JC2DktwtyZeS/DrJCUm+1a5xu9xI8rV2ya9zkvxp5BKY091FT5IWNE/ClKRlTJIw3OBlv6r6VCt7MLBWVR095cLLIC/NKEm3Zg+4JC17/hH421j4BqiqX1TV0e3ulf+d5LQkp47dNCTJ1kmOSnJIknOTvC/JTkmObfXu1ertm+RTSY5P8qskT2vlmyY5OsmJ7ecfRtZ7ZJKDk/wyyRdaGx6f5Otj7UvypHZ5yikl+VGSLUYe/zjJg5PsmeSAJD9LcnaSl4zU+c8kxyU5Jcnbl3jvStI8M4BL0rLnAcAJk8x7FsOdEB8MPJHh7ohjd+J7MPAy4O8Z7sr4d1W1FfAZhjs2jtkU2Ap4KsNdKFdjuFvuk6pqS4a7yH10pP5DgFcz3PnynsCjGO4qd98k67c6uwGfncFz24d2V9I2pGa1dudMGG4x/XiGO4u+LcmGSbYBNm/t3YLhznWPncF2JGmZZQCXpOXLo4EvVtWNVXUpcBTwsDbvuKq6pKquB34NfK+Vn8oQusccWFU3VdXZwLnAfYFVgU+3W9EfxBC2xxxbVRdW1U3AycCm7bbeBwAvSLIOQ2j+9gzafxDwtCSrAv/CcCv6MYdU1V+q6g8MAX8rYJv2cxJwYmvr5jPYjiQts7wTpiQte04HnrMYy10/Mn3TyOObuPXxfvzJPwW8BriUoRd9JeC6SdZ748i6Pgcc1uoeVFU3TNfAqvpzksOB7YHnAg+dpl0B3ltV/zvduiVpeWEPuCQte34A3D7J7mMFSR6U5DHA0cDzkqzchn88Fjh2luvfMclKbVz4PYGzgLWBS1ov987AytOtpKouBi4G3sIQxmfqMwxDXI6rqitGyrdPslqSOwNbA8cB3wX+JckaAEk2SnKXWWxLkpY59oBL0jKmqirJM4EPJ3k9Qw/zeQzjsH/MMNzjFww9xK+rqt8lue8sNvFbhtC+FvCyqrouySeAryTZBfgOcO0M1/UFYP2qOnOmG6+qE5JcxW1D+ykMQ0/WA945FvCT/D3ws+HiMFwDvIBhzLokLZe8DKEkrUCS7At8o6oOXkrr+zhwUlXtM4tlNgSOBO7betxJsidwTVV9YGm0S5KWZQ5BkSQtliQnMFy55POzWGYX4OfAm8fCtyStaOwBlyRJkjqyB1ySJEnqyAAuSZIkdWQAlyRJkjoygEuSJEkdGcAlSZKkjgzgkiRJUkf/H920PxIgEKQVAAAAAElFTkSuQmCC\n",
       "datasetInfos": [],
       "metadata": {},
       "removedWidgets": [],
       "type": "image"
      }
     },
     "output_type": "display_data"
    }
   ],
   "source": [
    "# Criação do gráfico para distribuição dos candidatos em relação ao tipo da empresa\n",
    "company_type_counts = df.groupBy('company_type').count()\n",
    "company_type_counts_df = company_type_counts.toPandas()\n",
    "plt.figure(figsize=(12, 8))\n",
    "sns.barplot(x='company_type', y='count', data=company_type_counts_df)\n",
    "plt.title('Company Type Distribution')\n",
    "plt.xlabel('Company Type')\n",
    "plt.ylabel('Number of Candidates')\n",
    "plt.show()\n"
   ]
  },
  {
   "cell_type": "code",
   "execution_count": 0,
   "metadata": {
    "application/vnd.databricks.v1+cell": {
     "cellMetadata": {
      "byteLimit": 2048000,
      "rowLimit": 10000
     },
     "inputWidgets": {},
     "nuid": "3780a3a2-3b73-4938-ab1a-6e285db09f07",
     "showTitle": true,
     "tableResultSettingsMap": {},
     "title": "Distribuição das horas de treinamento"
    }
   },
   "outputs": [
    {
     "output_type": "display_data",
     "data": {
      "image/png": "[encoded data removed]"
     },
     "metadata": {
      "application/vnd.databricks.v1+output": {
       "addedWidgets": {},
       "arguments": {},
       "data": "data:image/png;base64,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\n",
       "datasetInfos": [],
       "metadata": {},
       "removedWidgets": [],
       "type": "image"
      }
     },
     "output_type": "display_data"
    }
   ],
   "source": [
    "# Criação do gráfico para distribuição das horas de treinamento dos candidatos\n",
    "training_hours_df = df.select('training_hours').toPandas()\n",
    "plt.figure(figsize=(8, 6))\n",
    "sns.histplot(training_hours_df['training_hours'], kde=True)\n",
    "plt.title('Distribution of Training Hours')\n",
    "plt.xlabel('Training Hours')\n",
    "plt.ylabel('Distribution')\n",
    "plt.show()\n"
   ]
  },
  {
   "cell_type": "code",
   "execution_count": 0,
   "metadata": {
    "application/vnd.databricks.v1+cell": {
     "cellMetadata": {
      "byteLimit": 2048000,
      "rowLimit": 10000
     },
     "inputWidgets": {},
     "nuid": "4077adc6-432c-432f-8ddb-98be576254e8",
     "showTitle": true,
     "tableResultSettingsMap": {},
     "title": "Análise dos candidatos a procura de emprego ou não"
    }
   },
   "outputs": [
    {
     "output_type": "display_data",
     "data": {
      "image/png": "[encoded data removed]"
     },
     "metadata": {
      "application/vnd.databricks.v1+output": {
       "addedWidgets": {},
       "arguments": {},
       "data": "data:image/png;base64,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\n",
       "datasetInfos": [],
       "metadata": {},
       "removedWidgets": [],
       "type": "image"
      }
     },
     "output_type": "display_data"
    }
   ],
   "source": [
    "# Criação do gráfico para a variável target para Candidatos que estão a procura de emprego ou não\n",
    "target_counts = df.groupBy('target').count()\n",
    "target_counts_df = target_counts.toPandas()\n",
    "plt.figure(figsize=(8, 6))\n",
    "sns.barplot(x='target', y='count', data=target_counts_df)\n",
    "plt.title('Candidates Looking for a New Job')\n",
    "plt.xlabel('Looking for a New Job')\n",
    "plt.ylabel('Number of Candidates')\n",
    "plt.show()\n"
   ]
  },
  {
   "cell_type": "code",
   "execution_count": 0,
   "metadata": {
    "application/vnd.databricks.v1+cell": {
     "cellMetadata": {
      "byteLimit": 2048000,
      "rowLimit": 10000
     },
     "inputWidgets": {},
     "nuid": "f320b9d7-5fd7-485a-a614-ebadb1035eea",
     "showTitle": true,
     "tableResultSettingsMap": {},
     "title": "Identificação de outliers"
    }
   },
   "outputs": [
    {
     "output_type": "display_data",
     "data": {
      "image/png": "[encoded data removed]"
     },
     "metadata": {
      "application/vnd.databricks.v1+output": {
       "addedWidgets": {},
       "arguments": {},
       "data": "data:image/png;base64,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\n",
       "datasetInfos": [],
       "metadata": {},
       "removedWidgets": [],
       "type": "image"
      }
     },
     "output_type": "display_data"
    }
   ],
   "source": [
    "# Boxplot para 'experiência' por 'gênero' para identificar outliers nas variáveis analisadas\n",
    "plt.figure(figsize=(8, 6))\n",
    "sns.boxplot(x='gender', y='experience', data=df.toPandas())\n",
    "plt.title('Distribution of Experience by Gender')\n",
    "plt.xlabel('Gender')\n",
    "plt.ylabel('Hours of Training')\n",
    "plt.show()\n",
    "\n"
   ]
  },
  {
   "cell_type": "code",
   "execution_count": 0,
   "metadata": {
    "application/vnd.databricks.v1+cell": {
     "cellMetadata": {
      "byteLimit": 2048000,
      "rowLimit": 10000
     },
     "inputWidgets": {},
     "nuid": "4ffa27f1-f00c-441f-a0f2-a5f465f0da21",
     "showTitle": false,
     "tableResultSettingsMap": {},
     "title": ""
    }
   },
   "outputs": [
    {
     "output_type": "display_data",
     "data": {
      "image/png": "[encoded data removed]"
     },
     "metadata": {
      "application/vnd.databricks.v1+output": {
       "addedWidgets": {},
       "arguments": {},
       "data": "data:image/png;base64,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\n",
       "datasetInfos": [],
       "metadata": {},
       "removedWidgets": [],
       "type": "image"
      }
     },
     "output_type": "display_data"
    }
   ],
   "source": [
    "# Boxplot para 'training_hours' por 'education_level' para identificar outliers nas variáveis analisadas\n",
    "plt.figure(figsize=(8, 6))\n",
    "sns.boxplot(x='education_level', y='training_hours', data=df.toPandas())\n",
    "plt.title('Distribution of Training Hours by Education Level')\n",
    "plt.xlabel('Education Level')\n",
    "plt.ylabel('Training Hours')\n",
    "plt.show()"
   ]
  },
  {
   "cell_type": "markdown",
   "metadata": {
    "application/vnd.databricks.v1+cell": {
     "cellMetadata": {
      "byteLimit": 2048000,
      "rowLimit": 10000
     },
     "inputWidgets": {},
     "nuid": "44bc01dc-4189-44e2-abef-4c20522b5f07",
     "showTitle": false,
     "tableResultSettingsMap": {},
     "title": ""
    }
   },
   "source": [
    "Com o Boxplot anterior pode-se verificar que distribuição das horas de treinamento entre os diferentes níveis de educação dos candidatos são proximas, e todos os níveis possuem pontos outliers, mostrando que, apesar do níve, tem candidatos que buscam por mais horas de treinamento do que a média."
   ]
  },
  {
   "cell_type": "markdown",
   "metadata": {
    "application/vnd.databricks.v1+cell": {
     "cellMetadata": {
      "byteLimit": 2048000,
      "rowLimit": 10000
     },
     "inputWidgets": {},
     "nuid": "e563037f-a10b-453e-bb8a-bf97411c978d",
     "showTitle": false,
     "tableResultSettingsMap": {},
     "title": ""
    }
   },
   "source": [
    "## Matriz de correlação\n",
    "Durante a análise exploratória de dados (EDA), a matriz de correlação oferece uma visão geral das interações entre variáveis, ajudando analistas a identificar padrões e relações. Ela pode ser usada para descobrir quais variáveis estão mais fortemente associadas entre si, oferecendo pistas sobre possíveis relações causais ou sobre o comportamento geral dos dados. Sua principal função é mostrar o grau de associação linear entre diferentes variáveis. "
   ]
  },
  {
   "cell_type": "code",
   "execution_count": 0,
   "metadata": {
    "application/vnd.databricks.v1+cell": {
     "cellMetadata": {
      "byteLimit": 2048000,
      "rowLimit": 10000
     },
     "inputWidgets": {},
     "nuid": "51ab2322-db30-43f9-9326-b8ec4ab313c8",
     "showTitle": false,
     "tableResultSettingsMap": {},
     "title": ""
    }
   },
   "outputs": [
    {
     "output_type": "display_data",
     "data": {
      "image/png": "[encoded data removed]"
     },
     "metadata": {
      "application/vnd.databricks.v1+output": {
       "addedWidgets": {},
       "arguments": {},
       "data": "data:image/png;base64,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\n",
       "datasetInfos": [],
       "metadata": {},
       "removedWidgets": [],
       "type": "image"
      }
     },
     "output_type": "display_data"
    }
   ],
   "source": [
    "# Calculando a matriz de correlação\n",
    "correlation_matrix = df.select('experience', 'training_hours', 'city_development_index', 'target').toPandas().corr()\n",
    "\n",
    "# Heatmap de correlação\n",
    "plt.figure(figsize=(8, 6))\n",
    "sns.heatmap(correlation_matrix, annot=True, cmap='coolwarm', fmt='.2f', linewidths=0.5)\n",
    "plt.title('Correlation Matrix between Numerical Variables')\n",
    "plt.show()\n"
   ]
  },
  {
   "cell_type": "markdown",
   "metadata": {
    "application/vnd.databricks.v1+cell": {
     "cellMetadata": {
      "byteLimit": 2048000,
      "rowLimit": 10000
     },
     "inputWidgets": {},
     "nuid": "9c710996-473b-4d44-a817-67766c40dea0",
     "showTitle": false,
     "tableResultSettingsMap": {},
     "title": ""
    }
   },
   "source": [
    "A matriz de correlação anterior mostra que as variáveis não possuem  ou possui uma fraca correlação entre si, não acrescentando informações na análise dos dados."
   ]
  },
  {
   "cell_type": "markdown",
   "metadata": {
    "application/vnd.databricks.v1+cell": {
     "cellMetadata": {
      "byteLimit": 2048000,
      "rowLimit": 10000
     },
     "inputWidgets": {},
     "nuid": "54b9d195-8691-4a6d-b840-6c2ab513eaaa",
     "showTitle": false,
     "tableResultSettingsMap": {},
     "title": ""
    }
   },
   "source": [
    "# Comandos SQL para consultar as tabelas criadas\n",
    "Após a análise gráfica, pode-se fazer a criação das tabela fato e dimensão relacionadas ao problema. \n",
    "A tabela original, após os tratamentos, foi nomeada como 'data_science_jobs_table', ficando disponível para consultas na linguagem SQL. A partir dela, será feito a criação das tabelas:\n",
    "- dim_city;\n",
    "- dim_company;\n",
    "- dim_professional;\n",
    "- fact_jobs.\n",
    "\n",
    "Após a criação dessas tabelas, as consultas em SQL serão feitas para responder os questionamentos propostos nos objetivos do MVP."
   ]
  },
  {
   "cell_type": "code",
   "execution_count": 0,
   "metadata": {
    "application/vnd.databricks.v1+cell": {
     "cellMetadata": {
      "byteLimit": 2048000,
      "implicitDf": true,
      "rowLimit": 10000
     },
     "inputWidgets": {},
     "nuid": "76ebc6de-b23f-4852-8ce7-5081d3287657",
     "showTitle": true,
     "tableResultSettingsMap": {},
     "title": "Consulta na tabela 'data_science_jobs_table"
    }
   },
   "outputs": [
    {
     "output_type": "display_data",
     "data": {
      "text/html": [
       "<style scoped>\n",
       "  .table-result-container {\n",
       "    max-height: 300px;\n",
       "    overflow: auto;\n",
       "  }\n",
       "  table, th, td {\n",
       "    border: 1px solid black;\n",
       "    border-collapse: collapse;\n",
       "  }\n",
       "  th, td {\n",
       "    padding: 5px;\n",
       "  }\n",
       "  th {\n",
       "    text-align: left;\n",
       "  }\n",
       "</style><div class='table-result-container'><table class='table-result'><thead style='background-color: white'><tr><th>enrollee_id</th><th>city_development_index</th><th>gender</th><th>relevent_experience</th><th>enrolled_university</th><th>education_level</th><th>major_discipline</th><th>experience</th><th>company_size</th><th>company_type</th><th>training_hours</th><th>target</th><th>experience_group</th><th>city_id</th></tr></thead><tbody><tr><td>25766</td><td>0.884</td><td>Male</td><td>No relevent experience</td><td>Full time course</td><td>Masters</td><td>STEM</td><td>14</td><td>100-500</td><td>Public Sector</td><td>96.0</td><td>0.0</td><td>Sênior</td><td>71</td></tr><tr><td>29288</td><td>0.624</td><td>Male</td><td>No relevent experience</td><td>no_enrollment</td><td>Graduate</td><td>STEM</td><td>3</td><td>500-999</td><td>Pvt Ltd</td><td>11.0</td><td>1.0</td><td>Pleno</td><td>21</td></tr><tr><td>24937</td><td>0.624</td><td>Male</td><td>Has relevent experience</td><td>Full time course</td><td>Graduate</td><td>STEM</td><td>4</td><td>50-99</td><td>Pvt Ltd</td><td>198.0</td><td>1.0</td><td>Pleno</td><td>21</td></tr><tr><td>16796</td><td>0.92</td><td>Male</td><td>Has relevent experience</td><td>no_enrollment</td><td>Graduate</td><td>STEM</td><td>16</td><td>1000-4999</td><td>Pvt Ltd</td><td>54.0</td><td>0.0</td><td>Sênior</td><td>103</td></tr><tr><td>26423</td><td>0.91</td><td>Not informed</td><td>Has relevent experience</td><td>no_enrollment</td><td>Graduate</td><td>STEM</td><td>6</td><td>Not informed</td><td>Not informed</td><td>4.0</td><td>0.0</td><td>Sênior</td><td>16</td></tr><tr><td>9305</td><td>0.722</td><td>Male</td><td>Has relevent experience</td><td>no_enrollment</td><td>Graduate</td><td>STEM</td><td>11</td><td>10/49</td><td>Pvt Ltd</td><td>91.0</td><td>0.0</td><td>Sênior</td><td>118</td></tr><tr><td>10615</td><td>0.738</td><td>Male</td><td>Has relevent experience</td><td>no_enrollment</td><td>Graduate</td><td>STEM</td><td>14</td><td>1000-4999</td><td>Pvt Ltd</td><td>29.0</td><td>1.0</td><td>Sênior</td><td>123</td></tr><tr><td>10996</td><td>0.91</td><td>Male</td><td>Has relevent experience</td><td>no_enrollment</td><td>Graduate</td><td>STEM</td><td>12</td><td>50-99</td><td>Pvt Ltd</td><td>96.0</td><td>0.0</td><td>Sênior</td><td>16</td></tr><tr><td>5901</td><td>0.7659999999999999</td><td>Not informed</td><td>Has relevent experience</td><td>no_enrollment</td><td>Graduate</td><td>STEM</td><td>6</td><td>1000-4999</td><td>Pvt Ltd</td><td>33.0</td><td>0.0</td><td>Sênior</td><td>158</td></tr><tr><td>19507</td><td>0.698</td><td>Male</td><td>No relevent experience</td><td>no_enrollment</td><td>High School</td><td>Not informed</td><td>3</td><td>Not informed</td><td>Not informed</td><td>96.0</td><td>0.0</td><td>Pleno</td><td>152</td></tr></tbody></table></div>"
      ]
     },
     "metadata": {
      "application/vnd.databricks.v1+output": {
       "addedWidgets": {},
       "aggData": [],
       "aggError": "",
       "aggOverflow": false,
       "aggSchema": [],
       "aggSeriesLimitReached": false,
       "aggType": "",
       "arguments": {},
       "columnCustomDisplayInfos": {},
       "data": [
        [
         25766,
         0.884,
         "Male",
         "No relevent experience",
         "Full time course",
         "Masters",
         "STEM",
         14,
         "100-500",
         "Public Sector",
         96.0,
         0.0,
         "Sênior",
         71
        ],
        [
         29288,
         0.624,
         "Male",
         "No relevent experience",
         "no_enrollment",
         "Graduate",
         "STEM",
         3,
         "500-999",
         "Pvt Ltd",
         11.0,
         1.0,
         "Pleno",
         21
        ],
        [
         24937,
         0.624,
         "Male",
         "Has relevent experience",
         "Full time course",
         "Graduate",
         "STEM",
         4,
         "50-99",
         "Pvt Ltd",
         198.0,
         1.0,
         "Pleno",
         21
        ],
        [
         16796,
         0.92,
         "Male",
         "Has relevent experience",
         "no_enrollment",
         "Graduate",
         "STEM",
         16,
         "1000-4999",
         "Pvt Ltd",
         54.0,
         0.0,
         "Sênior",
         103
        ],
        [
         26423,
         0.91,
         "Not informed",
         "Has relevent experience",
         "no_enrollment",
         "Graduate",
         "STEM",
         6,
         "Not informed",
         "Not informed",
         4.0,
         0.0,
         "Sênior",
         16
        ],
        [
         9305,
         0.722,
         "Male",
         "Has relevent experience",
         "no_enrollment",
         "Graduate",
         "STEM",
         11,
         "10/49",
         "Pvt Ltd",
         91.0,
         0.0,
         "Sênior",
         118
        ],
        [
         10615,
         0.738,
         "Male",
         "Has relevent experience",
         "no_enrollment",
         "Graduate",
         "STEM",
         14,
         "1000-4999",
         "Pvt Ltd",
         29.0,
         1.0,
         "Sênior",
         123
        ],
        [
         10996,
         0.91,
         "Male",
         "Has relevent experience",
         "no_enrollment",
         "Graduate",
         "STEM",
         12,
         "50-99",
         "Pvt Ltd",
         96.0,
         0.0,
         "Sênior",
         16
        ],
        [
         5901,
         0.7659999999999999,
         "Not informed",
         "Has relevent experience",
         "no_enrollment",
         "Graduate",
         "STEM",
         6,
         "1000-4999",
         "Pvt Ltd",
         33.0,
         0.0,
         "Sênior",
         158
        ],
        [
         19507,
         0.698,
         "Male",
         "No relevent experience",
         "no_enrollment",
         "High School",
         "Not informed",
         3,
         "Not informed",
         "Not informed",
         96.0,
         0.0,
         "Pleno",
         152
        ]
       ],
       "datasetInfos": [],
       "dbfsResultPath": null,
       "isJsonSchema": true,
       "metadata": {},
       "overflow": false,
       "plotOptions": {
        "customPlotOptions": {},
        "displayType": "table",
        "pivotAggregation": null,
        "pivotColumns": null,
        "xColumns": null,
        "yColumns": null
       },
       "removedWidgets": [],
       "schema": [
        {
         "metadata": "{}",
         "name": "enrollee_id",
         "type": "\"integer\""
        },
        {
         "metadata": "{}",
         "name": "city_development_index",
         "type": "\"double\""
        },
        {
         "metadata": "{}",
         "name": "gender",
         "type": "\"string\""
        },
        {
         "metadata": "{}",
         "name": "relevent_experience",
         "type": "\"string\""
        },
        {
         "metadata": "{}",
         "name": "enrolled_university",
         "type": "\"string\""
        },
        {
         "metadata": "{}",
         "name": "education_level",
         "type": "\"string\""
        },
        {
         "metadata": "{}",
         "name": "major_discipline",
         "type": "\"string\""
        },
        {
         "metadata": "{}",
         "name": "experience",
         "type": "\"integer\""
        },
        {
         "metadata": "{}",
         "name": "company_size",
         "type": "\"string\""
        },
        {
         "metadata": "{}",
         "name": "company_type",
         "type": "\"string\""
        },
        {
         "metadata": "{}",
         "name": "training_hours",
         "type": "\"double\""
        },
        {
         "metadata": "{}",
         "name": "target",
         "type": "\"double\""
        },
        {
         "metadata": "{}",
         "name": "experience_group",
         "type": "\"string\""
        },
        {
         "metadata": "{}",
         "name": "city_id",
         "type": "\"integer\""
        }
       ],
       "type": "table"
      }
     },
     "output_type": "display_data"
    }
   ],
   "source": [
    "%sql\n",
    "SELECT * FROM data_science_jobs_table LIMIT 10;\n"
   ]
  },
  {
   "cell_type": "code",
   "execution_count": 0,
   "metadata": {
    "application/vnd.databricks.v1+cell": {
     "cellMetadata": {
      "byteLimit": 2048000,
      "implicitDf": true,
      "rowLimit": 10000
     },
     "inputWidgets": {},
     "nuid": "f7db078f-54d3-4d02-889c-95bb6fe06bce",
     "showTitle": true,
     "tableResultSettingsMap": {},
     "title": "Consulta da quantidade de registros da tabela principal"
    }
   },
   "outputs": [
    {
     "output_type": "display_data",
     "data": {
      "text/html": [
       "<style scoped>\n",
       "  .table-result-container {\n",
       "    max-height: 300px;\n",
       "    overflow: auto;\n",
       "  }\n",
       "  table, th, td {\n",
       "    border: 1px solid black;\n",
       "    border-collapse: collapse;\n",
       "  }\n",
       "  th, td {\n",
       "    padding: 5px;\n",
       "  }\n",
       "  th {\n",
       "    text-align: left;\n",
       "  }\n",
       "</style><div class='table-result-container'><table class='table-result'><thead style='background-color: white'><tr><th>count(1)</th></tr></thead><tbody><tr><td>19158</td></tr></tbody></table></div>"
      ]
     },
     "metadata": {
      "application/vnd.databricks.v1+output": {
       "addedWidgets": {},
       "aggData": [],
       "aggError": "",
       "aggOverflow": false,
       "aggSchema": [],
       "aggSeriesLimitReached": false,
       "aggType": "",
       "arguments": {},
       "columnCustomDisplayInfos": {},
       "data": [
        [
         19158
        ]
       ],
       "datasetInfos": [],
       "dbfsResultPath": null,
       "isJsonSchema": true,
       "metadata": {},
       "overflow": false,
       "plotOptions": {
        "customPlotOptions": {},
        "displayType": "table",
        "pivotAggregation": null,
        "pivotColumns": null,
        "xColumns": null,
        "yColumns": null
       },
       "removedWidgets": [],
       "schema": [
        {
         "metadata": "{\"__autoGeneratedAlias\":\"true\"}",
         "name": "count(1)",
         "type": "\"long\""
        }
       ],
       "type": "table"
      }
     },
     "output_type": "display_data"
    }
   ],
   "source": [
    "%sql\n",
    "SELECT COUNT(*) FROM data_science_jobs_table;"
   ]
  },
  {
   "cell_type": "code",
   "execution_count": 0,
   "metadata": {
    "application/vnd.databricks.v1+cell": {
     "cellMetadata": {
      "byteLimit": 2048000,
      "rowLimit": 10000
     },
     "inputWidgets": {},
     "nuid": "fb6ba053-5e56-4002-adba-ba49f42db7ca",
     "showTitle": true,
     "tableResultSettingsMap": {},
     "title": "Remoção de tabelas que tenham o mesmo nome"
    }
   },
   "outputs": [
    {
     "output_type": "stream",
     "name": "stdout",
     "output_type": "stream",
     "text": [
      "Out[27]: False"
     ]
    }
   ],
   "source": [
    "# Remoçaõ das tabelas presentes no hive para não ter conflito na criação das tabelas posteriores\n",
    "dbutils.fs.rm(\"dbfs:/user/hive/warehouse/dim_professional\", True)\n",
    "dbutils.fs.rm(\"dbfs:/user/hive/warehouse/dim_city\", True)\n",
    "dbutils.fs.rm(\"dbfs:/user/hive/warehouse/dim_company\", True)\n",
    "dbutils.fs.rm(\"dbfs:/user/hive/warehouse/fact_jobs\", True)\n",
    "dbutils.fs.rm(\"dbfs:/user/hive/warehouse/data_science_jobs_table1\", True)\n",
    "dbutils.fs.rm(\"dbfs:/user/hive/warehouse/data_science_jobs_table2\", True)\n"
   ]
  },
  {
   "cell_type": "code",
   "execution_count": 0,
   "metadata": {
    "application/vnd.databricks.v1+cell": {
     "cellMetadata": {
      "byteLimit": 2048000,
      "rowLimit": 10000
     },
     "inputWidgets": {},
     "nuid": "8a1d3641-e0b0-4ada-aff5-963702265f96",
     "showTitle": true,
     "tableResultSettingsMap": {},
     "title": "Leitura das tabelas presentes no hive"
    }
   },
   "outputs": [
    {
     "output_type": "stream",
     "name": "stdout",
     "output_type": "stream",
     "text": [
      "Out[28]: [FileInfo(path='dbfs:/user/hive/warehouse/data_science_jobs_cleaned/', name='data_science_jobs_cleaned/', size=0, modificationTime=0),\n FileInfo(path='dbfs:/user/hive/warehouse/data_science_jobs_cleaned2/', name='data_science_jobs_cleaned2/', size=0, modificationTime=0),\n FileInfo(path='dbfs:/user/hive/warehouse/data_science_jobs_table/', name='data_science_jobs_table/', size=0, modificationTime=0)]"
     ]
    }
   ],
   "source": [
    "dbutils.fs.ls(\"dbfs:/user/hive/warehouse\")\n"
   ]
  },
  {
   "cell_type": "markdown",
   "metadata": {
    "application/vnd.databricks.v1+cell": {
     "cellMetadata": {
      "byteLimit": 2048000,
      "rowLimit": 10000
     },
     "inputWidgets": {},
     "nuid": "f72d5fec-ac05-48d5-83bd-a87e8942a3fc",
     "showTitle": false,
     "tableResultSettingsMap": {},
     "title": ""
    }
   },
   "source": [
    "Algumas consultas prévias serão feitas sobre as variáveis que serão usadas para criar as tabela fato e dimensão para verificar se existe alguma inconsistencia nos dados a ser corrigida antes dessa etapa."
   ]
  },
  {
   "cell_type": "code",
   "execution_count": 0,
   "metadata": {
    "application/vnd.databricks.v1+cell": {
     "cellMetadata": {
      "byteLimit": 2048000,
      "implicitDf": true,
      "rowLimit": 10000
     },
     "inputWidgets": {},
     "nuid": "3dff15e5-75e7-4d8c-9290-dea96e1849b7",
     "showTitle": true,
     "tableResultSettingsMap": {},
     "title": "Consulta SQL na tabela original"
    }
   },
   "outputs": [
    {
     "output_type": "display_data",
     "data": {
      "text/html": [
       "<style scoped>\n",
       "  .table-result-container {\n",
       "    max-height: 300px;\n",
       "    overflow: auto;\n",
       "  }\n",
       "  table, th, td {\n",
       "    border: 1px solid black;\n",
       "    border-collapse: collapse;\n",
       "  }\n",
       "  th, td {\n",
       "    padding: 5px;\n",
       "  }\n",
       "  th {\n",
       "    text-align: left;\n",
       "  }\n",
       "</style><div class='table-result-container'><table class='table-result'><thead style='background-color: white'><tr><th>city_id</th><th>city_development_index</th></tr></thead><tbody><tr><td>1</td><td>0.847</td></tr><tr><td>2</td><td>0.7879999999999999</td></tr><tr><td>2</td><td>0.899</td></tr><tr><td>7</td><td>0.647</td></tr><tr><td>8</td><td>0.698</td></tr><tr><td>9</td><td>0.743</td></tr><tr><td>10</td><td>0.899</td></tr><tr><td>10</td><td>0.895</td></tr><tr><td>11</td><td>0.55</td></tr><tr><td>11</td><td>0.899</td></tr><tr><td>12</td><td>0.64</td></tr><tr><td>12</td><td>0.899</td></tr><tr><td>13</td><td>0.899</td></tr><tr><td>13</td><td>0.8270000000000001</td></tr><tr><td>14</td><td>0.698</td></tr><tr><td>16</td><td>0.91</td></tr><tr><td>16</td><td>0.899</td></tr><tr><td>18</td><td>0.8240000000000001</td></tr><tr><td>19</td><td>0.899</td></tr><tr><td>19</td><td>0.682</td></tr><tr><td>20</td><td>0.7959999999999999</td></tr><tr><td>21</td><td>0.899</td></tr><tr><td>21</td><td>0.624</td></tr><tr><td>23</td><td>0.899</td></tr><tr><td>24</td><td>0.698</td></tr><tr><td>24</td><td>0.899</td></tr><tr><td>25</td><td>0.698</td></tr><tr><td>26</td><td>0.899</td></tr><tr><td>26</td><td>0.698</td></tr><tr><td>27</td><td>0.899</td></tr><tr><td>27</td><td>0.848</td></tr><tr><td>28</td><td>0.899</td></tr><tr><td>28</td><td>0.939</td></tr><tr><td>30</td><td>0.899</td></tr><tr><td>30</td><td>0.698</td></tr><tr><td>31</td><td>0.807</td></tr><tr><td>33</td><td>0.4479999999999999</td></tr><tr><td>36</td><td>0.899</td></tr><tr><td>36</td><td>0.893</td></tr><tr><td>37</td><td>0.794</td></tr><tr><td>39</td><td>0.898</td></tr><tr><td>40</td><td>0.899</td></tr><tr><td>40</td><td>0.7759999999999999</td></tr><tr><td>41</td><td>0.899</td></tr><tr><td>41</td><td>0.8270000000000001</td></tr><tr><td>42</td><td>0.563</td></tr><tr><td>42</td><td>0.899</td></tr><tr><td>43</td><td>0.516</td></tr><tr><td>44</td><td>0.725</td></tr><tr><td>45</td><td>0.89</td></tr><tr><td>45</td><td>0.899</td></tr><tr><td>46</td><td>0.762</td></tr><tr><td>48</td><td>0.493</td></tr><tr><td>50</td><td>0.899</td></tr><tr><td>50</td><td>0.8959999999999999</td></tr><tr><td>53</td><td>0.74</td></tr><tr><td>54</td><td>0.856</td></tr><tr><td>55</td><td>0.7390000000000001</td></tr><tr><td>57</td><td>0.866</td></tr><tr><td>59</td><td>0.775</td></tr><tr><td>61</td><td>0.913</td></tr><tr><td>61</td><td>0.899</td></tr><tr><td>62</td><td>0.645</td></tr><tr><td>64</td><td>0.6659999999999999</td></tr><tr><td>64</td><td>0.899</td></tr><tr><td>65</td><td>0.802</td></tr><tr><td>65</td><td>0.899</td></tr><tr><td>67</td><td>0.855</td></tr><tr><td>67</td><td>0.899</td></tr><tr><td>69</td><td>0.856</td></tr><tr><td>70</td><td>0.698</td></tr><tr><td>70</td><td>0.899</td></tr><tr><td>71</td><td>0.884</td></tr><tr><td>71</td><td>0.899</td></tr><tr><td>72</td><td>0.795</td></tr><tr><td>73</td><td>0.754</td></tr><tr><td>73</td><td>0.899</td></tr><tr><td>74</td><td>0.899</td></tr><tr><td>74</td><td>0.579</td></tr><tr><td>75</td><td>0.899</td></tr><tr><td>75</td><td>0.939</td></tr><tr><td>76</td><td>0.899</td></tr><tr><td>76</td><td>0.698</td></tr><tr><td>77</td><td>0.899</td></tr><tr><td>77</td><td>0.83</td></tr><tr><td>78</td><td>0.579</td></tr><tr><td>79</td><td>0.698</td></tr><tr><td>80</td><td>0.899</td></tr><tr><td>80</td><td>0.847</td></tr><tr><td>81</td><td>0.73</td></tr><tr><td>82</td><td>0.693</td></tr><tr><td>83</td><td>0.899</td></tr><tr><td>83</td><td>0.923</td></tr><tr><td>84</td><td>0.698</td></tr><tr><td>84</td><td>0.899</td></tr><tr><td>89</td><td>0.925</td></tr><tr><td>89</td><td>0.899</td></tr><tr><td>90</td><td>0.899</td></tr><tr><td>90</td><td>0.698</td></tr><tr><td>91</td><td>0.691</td></tr><tr><td>93</td><td>0.865</td></tr><tr><td>93</td><td>0.899</td></tr><tr><td>94</td><td>0.899</td></tr><tr><td>94</td><td>0.698</td></tr><tr><td>97</td><td>0.925</td></tr><tr><td>97</td><td>0.899</td></tr><tr><td>98</td><td>0.899</td></tr><tr><td>98</td><td>0.949</td></tr><tr><td>99</td><td>0.899</td></tr><tr><td>99</td><td>0.915</td></tr><tr><td>100</td><td>0.887</td></tr><tr><td>100</td><td>0.899</td></tr><tr><td>101</td><td>0.899</td></tr><tr><td>101</td><td>0.5579999999999999</td></tr><tr><td>102</td><td>0.899</td></tr><tr><td>102</td><td>0.804</td></tr><tr><td>103</td><td>0.92</td></tr><tr><td>103</td><td>0.899</td></tr><tr><td>104</td><td>0.924</td></tr><tr><td>104</td><td>0.899</td></tr><tr><td>105</td><td>0.794</td></tr><tr><td>106</td><td>0.698</td></tr><tr><td>107</td><td>0.518</td></tr><tr><td>109</td><td>0.701</td></tr><tr><td>111</td><td>0.698</td></tr><tr><td>114</td><td>0.899</td></tr><tr><td>114</td><td>0.926</td></tr><tr><td>115</td><td>0.789</td></tr><tr><td>115</td><td>0.899</td></tr><tr><td>116</td><td>0.899</td></tr><tr><td>116</td><td>0.743</td></tr><tr><td>117</td><td>0.698</td></tr><tr><td>118</td><td>0.722</td></tr><tr><td>120</td><td>0.78</td></tr><tr><td>121</td><td>0.7809999999999999</td></tr><tr><td>123</td><td>0.899</td></tr><tr><td>123</td><td>0.738</td></tr><tr><td>126</td><td>0.479</td></tr><tr><td>127</td><td>0.745</td></tr><tr><td>128</td><td>0.527</td></tr><tr><td>128</td><td>0.899</td></tr><tr><td>129</td><td>0.625</td></tr><tr><td>131</td><td>0.68</td></tr><tr><td>133</td><td>0.742</td></tr><tr><td>134</td><td>0.899</td></tr><tr><td>134</td><td>0.698</td></tr><tr><td>136</td><td>0.897</td></tr><tr><td>136</td><td>0.899</td></tr><tr><td>138</td><td>0.836</td></tr><tr><td>139</td><td>0.487</td></tr><tr><td>140</td><td>0.856</td></tr><tr><td>141</td><td>0.899</td></tr><tr><td>141</td><td>0.763</td></tr><tr><td>142</td><td>0.727</td></tr><tr><td>142</td><td>0.899</td></tr><tr><td>143</td><td>0.74</td></tr><tr><td>143</td><td>0.899</td></tr><tr><td>144</td><td>0.899</td></tr><tr><td>144</td><td>0.84</td></tr><tr><td>145</td><td>0.555</td></tr><tr><td>145</td><td>0.899</td></tr><tr><td>146</td><td>0.735</td></tr><tr><td>149</td><td>0.899</td></tr><tr><td>149</td><td>0.6890000000000001</td></tr><tr><td>150</td><td>0.698</td></tr><tr><td>150</td><td>0.899</td></tr><tr><td>152</td><td>0.899</td></tr><tr><td>152</td><td>0.698</td></tr><tr><td>155</td><td>0.556</td></tr><tr><td>157</td><td>0.769</td></tr><tr><td>158</td><td>0.7659999999999999</td></tr><tr><td>158</td><td>0.899</td></tr><tr><td>159</td><td>0.843</td></tr><tr><td>159</td><td>0.899</td></tr><tr><td>160</td><td>0.92</td></tr><tr><td>160</td><td>0.899</td></tr><tr><td>162</td><td>0.767</td></tr><tr><td>162</td><td>0.899</td></tr><tr><td>165</td><td>0.903</td></tr><tr><td>166</td><td>0.649</td></tr><tr><td>167</td><td>0.921</td></tr><tr><td>171</td><td>0.664</td></tr><tr><td>173</td><td>0.899</td></tr><tr><td>173</td><td>0.878</td></tr><tr><td>175</td><td>0.7759999999999999</td></tr><tr><td>176</td><td>0.899</td></tr><tr><td>176</td><td>0.764</td></tr><tr><td>179</td><td>0.512</td></tr><tr><td>180</td><td>0.698</td></tr></tbody></table></div>"
      ]
     },
     "metadata": {
      "application/vnd.databricks.v1+output": {
       "addedWidgets": {},
       "aggData": [],
       "aggError": "",
       "aggOverflow": false,
       "aggSchema": [],
       "aggSeriesLimitReached": false,
       "aggType": "",
       "arguments": {},
       "columnCustomDisplayInfos": {},
       "data": [
        [
         1,
         0.847
        ],
        [
         2,
         0.7879999999999999
        ],
        [
         2,
         0.899
        ],
        [
         7,
         0.647
        ],
        [
         8,
         0.698
        ],
        [
         9,
         0.743
        ],
        [
         10,
         0.899
        ],
        [
         10,
         0.895
        ],
        [
         11,
         0.55
        ],
        [
         11,
         0.899
        ],
        [
         12,
         0.64
        ],
        [
         12,
         0.899
        ],
        [
         13,
         0.899
        ],
        [
         13,
         0.8270000000000001
        ],
        [
         14,
         0.698
        ],
        [
         16,
         0.91
        ],
        [
         16,
         0.899
        ],
        [
         18,
         0.8240000000000001
        ],
        [
         19,
         0.899
        ],
        [
         19,
         0.682
        ],
        [
         20,
         0.7959999999999999
        ],
        [
         21,
         0.899
        ],
        [
         21,
         0.624
        ],
        [
         23,
         0.899
        ],
        [
         24,
         0.698
        ],
        [
         24,
         0.899
        ],
        [
         25,
         0.698
        ],
        [
         26,
         0.899
        ],
        [
         26,
         0.698
        ],
        [
         27,
         0.899
        ],
        [
         27,
         0.848
        ],
        [
         28,
         0.899
        ],
        [
         28,
         0.939
        ],
        [
         30,
         0.899
        ],
        [
         30,
         0.698
        ],
        [
         31,
         0.807
        ],
        [
         33,
         0.4479999999999999
        ],
        [
         36,
         0.899
        ],
        [
         36,
         0.893
        ],
        [
         37,
         0.794
        ],
        [
         39,
         0.898
        ],
        [
         40,
         0.899
        ],
        [
         40,
         0.7759999999999999
        ],
        [
         41,
         0.899
        ],
        [
         41,
         0.8270000000000001
        ],
        [
         42,
         0.563
        ],
        [
         42,
         0.899
        ],
        [
         43,
         0.516
        ],
        [
         44,
         0.725
        ],
        [
         45,
         0.89
        ],
        [
         45,
         0.899
        ],
        [
         46,
         0.762
        ],
        [
         48,
         0.493
        ],
        [
         50,
         0.899
        ],
        [
         50,
         0.8959999999999999
        ],
        [
         53,
         0.74
        ],
        [
         54,
         0.856
        ],
        [
         55,
         0.7390000000000001
        ],
        [
         57,
         0.866
        ],
        [
         59,
         0.775
        ],
        [
         61,
         0.913
        ],
        [
         61,
         0.899
        ],
        [
         62,
         0.645
        ],
        [
         64,
         0.6659999999999999
        ],
        [
         64,
         0.899
        ],
        [
         65,
         0.802
        ],
        [
         65,
         0.899
        ],
        [
         67,
         0.855
        ],
        [
         67,
         0.899
        ],
        [
         69,
         0.856
        ],
        [
         70,
         0.698
        ],
        [
         70,
         0.899
        ],
        [
         71,
         0.884
        ],
        [
         71,
         0.899
        ],
        [
         72,
         0.795
        ],
        [
         73,
         0.754
        ],
        [
         73,
         0.899
        ],
        [
         74,
         0.899
        ],
        [
         74,
         0.579
        ],
        [
         75,
         0.899
        ],
        [
         75,
         0.939
        ],
        [
         76,
         0.899
        ],
        [
         76,
         0.698
        ],
        [
         77,
         0.899
        ],
        [
         77,
         0.83
        ],
        [
         78,
         0.579
        ],
        [
         79,
         0.698
        ],
        [
         80,
         0.899
        ],
        [
         80,
         0.847
        ],
        [
         81,
         0.73
        ],
        [
         82,
         0.693
        ],
        [
         83,
         0.899
        ],
        [
         83,
         0.923
        ],
        [
         84,
         0.698
        ],
        [
         84,
         0.899
        ],
        [
         89,
         0.925
        ],
        [
         89,
         0.899
        ],
        [
         90,
         0.899
        ],
        [
         90,
         0.698
        ],
        [
         91,
         0.691
        ],
        [
         93,
         0.865
        ],
        [
         93,
         0.899
        ],
        [
         94,
         0.899
        ],
        [
         94,
         0.698
        ],
        [
         97,
         0.925
        ],
        [
         97,
         0.899
        ],
        [
         98,
         0.899
        ],
        [
         98,
         0.949
        ],
        [
         99,
         0.899
        ],
        [
         99,
         0.915
        ],
        [
         100,
         0.887
        ],
        [
         100,
         0.899
        ],
        [
         101,
         0.899
        ],
        [
         101,
         0.5579999999999999
        ],
        [
         102,
         0.899
        ],
        [
         102,
         0.804
        ],
        [
         103,
         0.92
        ],
        [
         103,
         0.899
        ],
        [
         104,
         0.924
        ],
        [
         104,
         0.899
        ],
        [
         105,
         0.794
        ],
        [
         106,
         0.698
        ],
        [
         107,
         0.518
        ],
        [
         109,
         0.701
        ],
        [
         111,
         0.698
        ],
        [
         114,
         0.899
        ],
        [
         114,
         0.926
        ],
        [
         115,
         0.789
        ],
        [
         115,
         0.899
        ],
        [
         116,
         0.899
        ],
        [
         116,
         0.743
        ],
        [
         117,
         0.698
        ],
        [
         118,
         0.722
        ],
        [
         120,
         0.78
        ],
        [
         121,
         0.7809999999999999
        ],
        [
         123,
         0.899
        ],
        [
         123,
         0.738
        ],
        [
         126,
         0.479
        ],
        [
         127,
         0.745
        ],
        [
         128,
         0.527
        ],
        [
         128,
         0.899
        ],
        [
         129,
         0.625
        ],
        [
         131,
         0.68
        ],
        [
         133,
         0.742
        ],
        [
         134,
         0.899
        ],
        [
         134,
         0.698
        ],
        [
         136,
         0.897
        ],
        [
         136,
         0.899
        ],
        [
         138,
         0.836
        ],
        [
         139,
         0.487
        ],
        [
         140,
         0.856
        ],
        [
         141,
         0.899
        ],
        [
         141,
         0.763
        ],
        [
         142,
         0.727
        ],
        [
         142,
         0.899
        ],
        [
         143,
         0.74
        ],
        [
         143,
         0.899
        ],
        [
         144,
         0.899
        ],
        [
         144,
         0.84
        ],
        [
         145,
         0.555
        ],
        [
         145,
         0.899
        ],
        [
         146,
         0.735
        ],
        [
         149,
         0.899
        ],
        [
         149,
         0.6890000000000001
        ],
        [
         150,
         0.698
        ],
        [
         150,
         0.899
        ],
        [
         152,
         0.899
        ],
        [
         152,
         0.698
        ],
        [
         155,
         0.556
        ],
        [
         157,
         0.769
        ],
        [
         158,
         0.7659999999999999
        ],
        [
         158,
         0.899
        ],
        [
         159,
         0.843
        ],
        [
         159,
         0.899
        ],
        [
         160,
         0.92
        ],
        [
         160,
         0.899
        ],
        [
         162,
         0.767
        ],
        [
         162,
         0.899
        ],
        [
         165,
         0.903
        ],
        [
         166,
         0.649
        ],
        [
         167,
         0.921
        ],
        [
         171,
         0.664
        ],
        [
         173,
         0.899
        ],
        [
         173,
         0.878
        ],
        [
         175,
         0.7759999999999999
        ],
        [
         176,
         0.899
        ],
        [
         176,
         0.764
        ],
        [
         179,
         0.512
        ],
        [
         180,
         0.698
        ]
       ],
       "datasetInfos": [],
       "dbfsResultPath": null,
       "isJsonSchema": true,
       "metadata": {},
       "overflow": false,
       "plotOptions": {
        "customPlotOptions": {},
        "displayType": "table",
        "pivotAggregation": null,
        "pivotColumns": null,
        "xColumns": null,
        "yColumns": null
       },
       "removedWidgets": [],
       "schema": [
        {
         "metadata": "{}",
         "name": "city_id",
         "type": "\"integer\""
        },
        {
         "metadata": "{}",
         "name": "city_development_index",
         "type": "\"double\""
        }
       ],
       "type": "table"
      }
     },
     "output_type": "display_data"
    }
   ],
   "source": [
    "%sql\n",
    "SELECT DISTINCT city_id, city_development_index\n",
    "FROM data_science_jobs_table\n",
    "ORDER BY city_id ASC;"
   ]
  },
  {
   "cell_type": "markdown",
   "metadata": {
    "application/vnd.databricks.v1+cell": {
     "cellMetadata": {
      "byteLimit": 2048000,
      "rowLimit": 10000
     },
     "inputWidgets": {},
     "nuid": "1227acad-f5c1-4da1-9e7e-3ed53079d15b",
     "showTitle": false,
     "tableResultSettingsMap": {},
     "title": ""
    }
   },
   "source": [
    "A consulta anterior mostra que existem valores diferentes de indice de desenvolvimento de cidades com o mesmo id, fazendo com que a informação fique duplicada. Dessa forma, precisa ser feito um tratamento sobre essa variável. "
   ]
  },
  {
   "cell_type": "code",
   "execution_count": 0,
   "metadata": {
    "application/vnd.databricks.v1+cell": {
     "cellMetadata": {
      "byteLimit": 2048000,
      "implicitDf": true,
      "rowLimit": 10000
     },
     "inputWidgets": {},
     "nuid": "cd6daf76-23bb-4046-b523-cb81c868e115",
     "showTitle": true,
     "tableResultSettingsMap": {},
     "title": "Consulta SQL na tabela original"
    }
   },
   "outputs": [
    {
     "output_type": "display_data",
     "data": {
      "text/html": [
       "<style scoped>\n",
       "  .table-result-container {\n",
       "    max-height: 300px;\n",
       "    overflow: auto;\n",
       "  }\n",
       "  table, th, td {\n",
       "    border: 1px solid black;\n",
       "    border-collapse: collapse;\n",
       "  }\n",
       "  th, td {\n",
       "    padding: 5px;\n",
       "  }\n",
       "  th {\n",
       "    text-align: left;\n",
       "  }\n",
       "</style><div class='table-result-container'><table class='table-result'><thead style='background-color: white'><tr><th>enrollee_id</th><th>education_level</th><th>gender</th><th>experience</th><th>major_discipline</th><th>relevent_experience</th><th>experience_group</th></tr></thead><tbody><tr><td>1</td><td>High School</td><td>Male</td><td>2</td><td>Not informed</td><td>No relevent experience</td><td>Júnior</td></tr><tr><td>2</td><td>Phd</td><td>Male</td><td>15</td><td>STEM</td><td>No relevent experience</td><td>Sênior</td></tr><tr><td>4</td><td>Masters</td><td>Male</td><td>9</td><td>STEM</td><td>No relevent experience</td><td>Sênior</td></tr><tr><td>5</td><td>Masters</td><td>Male</td><td>10</td><td>STEM</td><td>Has relevent experience</td><td>Sênior</td></tr><tr><td>7</td><td>Masters</td><td>Male</td><td>13</td><td>STEM</td><td>Has relevent experience</td><td>Sênior</td></tr><tr><td>8</td><td>Graduate</td><td>Female</td><td>13</td><td>Humanities</td><td>No relevent experience</td><td>Sênior</td></tr><tr><td>9</td><td>Graduate</td><td>Male</td><td>20</td><td>STEM</td><td>Has relevent experience</td><td>Sênior</td></tr><tr><td>10</td><td>Graduate</td><td>Female</td><td>15</td><td>STEM</td><td>Has relevent experience</td><td>Sênior</td></tr><tr><td>11</td><td>Primary School</td><td>Male</td><td>11</td><td>Not informed</td><td>Has relevent experience</td><td>Sênior</td></tr><tr><td>13</td><td>Graduate</td><td>Male</td><td>20</td><td>STEM</td><td>Has relevent experience</td><td>Sênior</td></tr></tbody></table></div>"
      ]
     },
     "metadata": {
      "application/vnd.databricks.v1+output": {
       "addedWidgets": {},
       "aggData": [],
       "aggError": "",
       "aggOverflow": false,
       "aggSchema": [],
       "aggSeriesLimitReached": false,
       "aggType": "",
       "arguments": {},
       "columnCustomDisplayInfos": {},
       "data": [
        [
         1,
         "High School",
         "Male",
         2,
         "Not informed",
         "No relevent experience",
         "Júnior"
        ],
        [
         2,
         "Phd",
         "Male",
         15,
         "STEM",
         "No relevent experience",
         "Sênior"
        ],
        [
         4,
         "Masters",
         "Male",
         9,
         "STEM",
         "No relevent experience",
         "Sênior"
        ],
        [
         5,
         "Masters",
         "Male",
         10,
         "STEM",
         "Has relevent experience",
         "Sênior"
        ],
        [
         7,
         "Masters",
         "Male",
         13,
         "STEM",
         "Has relevent experience",
         "Sênior"
        ],
        [
         8,
         "Graduate",
         "Female",
         13,
         "Humanities",
         "No relevent experience",
         "Sênior"
        ],
        [
         9,
         "Graduate",
         "Male",
         20,
         "STEM",
         "Has relevent experience",
         "Sênior"
        ],
        [
         10,
         "Graduate",
         "Female",
         15,
         "STEM",
         "Has relevent experience",
         "Sênior"
        ],
        [
         11,
         "Primary School",
         "Male",
         11,
         "Not informed",
         "Has relevent experience",
         "Sênior"
        ],
        [
         13,
         "Graduate",
         "Male",
         20,
         "STEM",
         "Has relevent experience",
         "Sênior"
        ]
       ],
       "datasetInfos": [],
       "dbfsResultPath": null,
       "isJsonSchema": true,
       "metadata": {},
       "overflow": false,
       "plotOptions": {
        "customPlotOptions": {},
        "displayType": "table",
        "pivotAggregation": null,
        "pivotColumns": null,
        "xColumns": null,
        "yColumns": null
       },
       "removedWidgets": [],
       "schema": [
        {
         "metadata": "{}",
         "name": "enrollee_id",
         "type": "\"integer\""
        },
        {
         "metadata": "{}",
         "name": "education_level",
         "type": "\"string\""
        },
        {
         "metadata": "{}",
         "name": "gender",
         "type": "\"string\""
        },
        {
         "metadata": "{}",
         "name": "experience",
         "type": "\"integer\""
        },
        {
         "metadata": "{}",
         "name": "major_discipline",
         "type": "\"string\""
        },
        {
         "metadata": "{}",
         "name": "relevent_experience",
         "type": "\"string\""
        },
        {
         "metadata": "{}",
         "name": "experience_group",
         "type": "\"string\""
        }
       ],
       "type": "table"
      }
     },
     "output_type": "display_data"
    }
   ],
   "source": [
    "%sql\n",
    "SELECT DISTINCT enrollee_id, education_level, gender, experience, major_discipline, relevent_experience, experience_group \n",
    "FROM data_science_jobs_table\n",
    "ORDER BY enrollee_id ASC\n",
    "LIMIT 10;"
   ]
  },
  {
   "cell_type": "code",
   "execution_count": 0,
   "metadata": {
    "application/vnd.databricks.v1+cell": {
     "cellMetadata": {
      "byteLimit": 2048000,
      "implicitDf": true,
      "rowLimit": 10000
     },
     "inputWidgets": {},
     "nuid": "0601c73f-eecf-4d3c-8863-626e3f4395a6",
     "showTitle": true,
     "tableResultSettingsMap": {},
     "title": "Consulta SQL na tabela original"
    }
   },
   "outputs": [
    {
     "output_type": "display_data",
     "data": {
      "text/html": [
       "<style scoped>\n",
       "  .table-result-container {\n",
       "    max-height: 300px;\n",
       "    overflow: auto;\n",
       "  }\n",
       "  table, th, td {\n",
       "    border: 1px solid black;\n",
       "    border-collapse: collapse;\n",
       "  }\n",
       "  th, td {\n",
       "    padding: 5px;\n",
       "  }\n",
       "  th {\n",
       "    text-align: left;\n",
       "  }\n",
       "</style><div class='table-result-container'><table class='table-result'><thead style='background-color: white'><tr><th>company_size</th><th>company_type</th></tr></thead><tbody><tr><td><10</td><td>Not informed</td></tr><tr><td>10000+</td><td>Public Sector</td></tr><tr><td>Not informed</td><td>Pvt Ltd</td></tr><tr><td>100-500</td><td>Early Stage Startup</td></tr><tr><td>10/49</td><td>Not informed</td></tr><tr><td>50-99</td><td>Other</td></tr><tr><td>500-999</td><td>Public Sector</td></tr><tr><td>5000-9999</td><td>NGO</td></tr><tr><td>5000-9999</td><td>Public Sector</td></tr><tr><td>Not informed</td><td>Other</td></tr></tbody></table></div>"
      ]
     },
     "metadata": {
      "application/vnd.databricks.v1+output": {
       "addedWidgets": {},
       "aggData": [],
       "aggError": "",
       "aggOverflow": false,
       "aggSchema": [],
       "aggSeriesLimitReached": false,
       "aggType": "",
       "arguments": {},
       "columnCustomDisplayInfos": {},
       "data": [
        [
         "<10",
         "Not informed"
        ],
        [
         "10000+",
         "Public Sector"
        ],
        [
         "Not informed",
         "Pvt Ltd"
        ],
        [
         "100-500",
         "Early Stage Startup"
        ],
        [
         "10/49",
         "Not informed"
        ],
        [
         "50-99",
         "Other"
        ],
        [
         "500-999",
         "Public Sector"
        ],
        [
         "5000-9999",
         "NGO"
        ],
        [
         "5000-9999",
         "Public Sector"
        ],
        [
         "Not informed",
         "Other"
        ]
       ],
       "datasetInfos": [],
       "dbfsResultPath": null,
       "isJsonSchema": true,
       "metadata": {},
       "overflow": false,
       "plotOptions": {
        "customPlotOptions": {},
        "displayType": "table",
        "pivotAggregation": null,
        "pivotColumns": null,
        "xColumns": null,
        "yColumns": null
       },
       "removedWidgets": [],
       "schema": [
        {
         "metadata": "{}",
         "name": "company_size",
         "type": "\"string\""
        },
        {
         "metadata": "{}",
         "name": "company_type",
         "type": "\"string\""
        }
       ],
       "type": "table"
      }
     },
     "output_type": "display_data"
    }
   ],
   "source": [
    "%sql\n",
    "SELECT DISTINCT company_size, company_type\n",
    "FROM data_science_jobs_table\n",
    "LIMIT 10;"
   ]
  },
  {
   "cell_type": "markdown",
   "metadata": {
    "application/vnd.databricks.v1+cell": {
     "cellMetadata": {
      "byteLimit": 2048000,
      "rowLimit": 10000
     },
     "inputWidgets": {},
     "nuid": "3b34b190-d8ba-48fc-85bb-d77fa15d77b0",
     "showTitle": false,
     "tableResultSettingsMap": {},
     "title": ""
    }
   },
   "source": [
    "A criação da tabela dim_city será feita com os id criados no tratamento da tabela original, cosiderando apenas a média do indice de desenvolvimento das cidades que possuiam mais de um valor para essa variável. As colunas usadas são 'city_id' e 'city_development_index'."
   ]
  },
  {
   "cell_type": "code",
   "execution_count": 0,
   "metadata": {
    "application/vnd.databricks.v1+cell": {
     "cellMetadata": {
      "byteLimit": 2048000,
      "implicitDf": true,
      "rowLimit": 10000
     },
     "inputWidgets": {},
     "nuid": "b87f8ceb-7b5c-4797-b9b0-f7ce63685730",
     "showTitle": true,
     "tableResultSettingsMap": {},
     "title": "Criação da tabela dim_city"
    }
   },
   "outputs": [
    {
     "output_type": "display_data",
     "data": {
      "text/html": [
       "<style scoped>\n",
       "  .table-result-container {\n",
       "    max-height: 300px;\n",
       "    overflow: auto;\n",
       "  }\n",
       "  table, th, td {\n",
       "    border: 1px solid black;\n",
       "    border-collapse: collapse;\n",
       "  }\n",
       "  th, td {\n",
       "    padding: 5px;\n",
       "  }\n",
       "  th {\n",
       "    text-align: left;\n",
       "  }\n",
       "</style><div class='table-result-container'><table class='table-result'><thead style='background-color: white'><tr><th>num_affected_rows</th><th>num_inserted_rows</th></tr></thead><tbody></tbody></table></div>"
      ]
     },
     "metadata": {
      "application/vnd.databricks.v1+output": {
       "addedWidgets": {},
       "aggData": [],
       "aggError": "",
       "aggOverflow": false,
       "aggSchema": [],
       "aggSeriesLimitReached": false,
       "aggType": "",
       "arguments": {},
       "columnCustomDisplayInfos": {},
       "data": [],
       "datasetInfos": [],
       "dbfsResultPath": null,
       "isJsonSchema": true,
       "metadata": {},
       "overflow": false,
       "plotOptions": {
        "customPlotOptions": {},
        "displayType": "table",
        "pivotAggregation": null,
        "pivotColumns": null,
        "xColumns": null,
        "yColumns": null
       },
       "removedWidgets": [],
       "schema": [
        {
         "metadata": "{}",
         "name": "num_affected_rows",
         "type": "\"long\""
        },
        {
         "metadata": "{}",
         "name": "num_inserted_rows",
         "type": "\"long\""
        }
       ],
       "type": "table"
      }
     },
     "output_type": "display_data"
    }
   ],
   "source": [
    "%sql\n",
    "CREATE TABLE dim_city\n",
    "USING DELTA\n",
    "AS \n",
    "SELECT DISTINCT\n",
    "    city_id as id_city, \n",
    "    ROUND(AVG(city_development_index), 3) AS city_development_index\n",
    "FROM data_science_jobs_table\n",
    "GROUP BY city_id;\n"
   ]
  },
  {
   "cell_type": "code",
   "execution_count": 0,
   "metadata": {
    "application/vnd.databricks.v1+cell": {
     "cellMetadata": {
      "byteLimit": 2048000,
      "implicitDf": true,
      "rowLimit": 10000
     },
     "inputWidgets": {},
     "nuid": "6bdf6300-3b79-4624-9a7e-895e02051eb4",
     "showTitle": true,
     "tableResultSettingsMap": {},
     "title": "Verificação da tabela dim_city"
    }
   },
   "outputs": [
    {
     "output_type": "display_data",
     "data": {
      "text/html": [
       "<style scoped>\n",
       "  .table-result-container {\n",
       "    max-height: 300px;\n",
       "    overflow: auto;\n",
       "  }\n",
       "  table, th, td {\n",
       "    border: 1px solid black;\n",
       "    border-collapse: collapse;\n",
       "  }\n",
       "  th, td {\n",
       "    padding: 5px;\n",
       "  }\n",
       "  th {\n",
       "    text-align: left;\n",
       "  }\n",
       "</style><div class='table-result-container'><table class='table-result'><thead style='background-color: white'><tr><th>id_city</th><th>city_development_index</th></tr></thead><tbody><tr><td>1</td><td>0.847</td></tr><tr><td>2</td><td>0.804</td></tr><tr><td>7</td><td>0.647</td></tr><tr><td>8</td><td>0.698</td></tr><tr><td>9</td><td>0.743</td></tr><tr><td>10</td><td>0.895</td></tr><tr><td>11</td><td>0.553</td></tr><tr><td>12</td><td>0.68</td></tr><tr><td>13</td><td>0.832</td></tr><tr><td>14</td><td>0.698</td></tr></tbody></table></div>"
      ]
     },
     "metadata": {
      "application/vnd.databricks.v1+output": {
       "addedWidgets": {},
       "aggData": [],
       "aggError": "",
       "aggOverflow": false,
       "aggSchema": [],
       "aggSeriesLimitReached": false,
       "aggType": "",
       "arguments": {},
       "columnCustomDisplayInfos": {},
       "data": [
        [
         1,
         0.847
        ],
        [
         2,
         0.804
        ],
        [
         7,
         0.647
        ],
        [
         8,
         0.698
        ],
        [
         9,
         0.743
        ],
        [
         10,
         0.895
        ],
        [
         11,
         0.553
        ],
        [
         12,
         0.68
        ],
        [
         13,
         0.832
        ],
        [
         14,
         0.698
        ]
       ],
       "datasetInfos": [],
       "dbfsResultPath": null,
       "isJsonSchema": true,
       "metadata": {},
       "overflow": false,
       "plotOptions": {
        "customPlotOptions": {},
        "displayType": "table",
        "pivotAggregation": null,
        "pivotColumns": null,
        "xColumns": null,
        "yColumns": null
       },
       "removedWidgets": [],
       "schema": [
        {
         "metadata": "{}",
         "name": "id_city",
         "type": "\"integer\""
        },
        {
         "metadata": "{}",
         "name": "city_development_index",
         "type": "\"double\""
        }
       ],
       "type": "table"
      }
     },
     "output_type": "display_data"
    }
   ],
   "source": [
    "%sql\n",
    "SELECT * \n",
    "FROM dim_city \n",
    "ORDER BY id_city ASC\n",
    "LIMIT 10;"
   ]
  },
  {
   "cell_type": "markdown",
   "metadata": {
    "application/vnd.databricks.v1+cell": {
     "cellMetadata": {
      "byteLimit": 2048000,
      "rowLimit": 10000
     },
     "inputWidgets": {},
     "nuid": "8da72132-a662-4a6c-ba55-7aa226bcfd45",
     "showTitle": false,
     "tableResultSettingsMap": {},
     "title": ""
    }
   },
   "source": [
    "A criação da tabela dim_company será feita com as colunas 'company_size' e 'company_type' da tabela original. Como essas colunas não possuem uma identificação única, podendo ter valores repetidos, foi feito a criação de um identificador único para os registros dessa tabela. "
   ]
  },
  {
   "cell_type": "code",
   "execution_count": 0,
   "metadata": {
    "application/vnd.databricks.v1+cell": {
     "cellMetadata": {
      "byteLimit": 2048000,
      "implicitDf": true,
      "rowLimit": 10000
     },
     "inputWidgets": {},
     "nuid": "d2ba1efa-1eea-4467-9b59-5debae36a199",
     "showTitle": true,
     "tableResultSettingsMap": {},
     "title": "Criação da tabela dim_company"
    }
   },
   "outputs": [
    {
     "output_type": "display_data",
     "data": {
      "text/html": [
       "<style scoped>\n",
       "  .table-result-container {\n",
       "    max-height: 300px;\n",
       "    overflow: auto;\n",
       "  }\n",
       "  table, th, td {\n",
       "    border: 1px solid black;\n",
       "    border-collapse: collapse;\n",
       "  }\n",
       "  th, td {\n",
       "    padding: 5px;\n",
       "  }\n",
       "  th {\n",
       "    text-align: left;\n",
       "  }\n",
       "</style><div class='table-result-container'><table class='table-result'><thead style='background-color: white'><tr><th>num_affected_rows</th><th>num_inserted_rows</th></tr></thead><tbody><tr><td>57</td><td>57</td></tr></tbody></table></div>"
      ]
     },
     "metadata": {
      "application/vnd.databricks.v1+output": {
       "addedWidgets": {},
       "aggData": [],
       "aggError": "",
       "aggOverflow": false,
       "aggSchema": [],
       "aggSeriesLimitReached": false,
       "aggType": "",
       "arguments": {},
       "columnCustomDisplayInfos": {},
       "data": [
        [
         57,
         57
        ]
       ],
       "datasetInfos": [],
       "dbfsResultPath": null,
       "isJsonSchema": true,
       "metadata": {},
       "overflow": false,
       "plotOptions": {
        "customPlotOptions": {},
        "displayType": "table",
        "pivotAggregation": null,
        "pivotColumns": null,
        "xColumns": null,
        "yColumns": null
       },
       "removedWidgets": [],
       "schema": [
        {
         "metadata": "{}",
         "name": "num_affected_rows",
         "type": "\"long\""
        },
        {
         "metadata": "{}",
         "name": "num_inserted_rows",
         "type": "\"long\""
        }
       ],
       "type": "table"
      }
     },
     "output_type": "display_data"
    }
   ],
   "source": [
    "%sql\n",
    "CREATE TABLE dim_company (\n",
    "    id_company BIGINT GENERATED ALWAYS AS IDENTITY,\n",
    "    company_size STRING,\n",
    "    company_type STRING\n",
    ");\n",
    "\n",
    "-- Inserir os dados sem a coluna de identidade\n",
    "INSERT INTO dim_company (company_size, company_type)\n",
    "SELECT DISTINCT company_size, company_type FROM data_science_jobs_table;\n",
    "\n"
   ]
  },
  {
   "cell_type": "code",
   "execution_count": 0,
   "metadata": {
    "application/vnd.databricks.v1+cell": {
     "cellMetadata": {
      "byteLimit": 2048000,
      "implicitDf": true,
      "rowLimit": 10000
     },
     "inputWidgets": {},
     "nuid": "53945ca4-c835-4598-b574-c8d499aabfe1",
     "showTitle": true,
     "tableResultSettingsMap": {},
     "title": "Verificação da tabela dim_company"
    }
   },
   "outputs": [
    {
     "output_type": "display_data",
     "data": {
      "text/html": [
       "<style scoped>\n",
       "  .table-result-container {\n",
       "    max-height: 300px;\n",
       "    overflow: auto;\n",
       "  }\n",
       "  table, th, td {\n",
       "    border: 1px solid black;\n",
       "    border-collapse: collapse;\n",
       "  }\n",
       "  th, td {\n",
       "    padding: 5px;\n",
       "  }\n",
       "  th {\n",
       "    text-align: left;\n",
       "  }\n",
       "</style><div class='table-result-container'><table class='table-result'><thead style='background-color: white'><tr><th>id_company</th></tr></thead><tbody><tr><td>1</td></tr><tr><td>2</td></tr><tr><td>3</td></tr><tr><td>4</td></tr><tr><td>5</td></tr><tr><td>6</td></tr><tr><td>7</td></tr><tr><td>8</td></tr><tr><td>9</td></tr><tr><td>10</td></tr></tbody></table></div>"
      ]
     },
     "metadata": {
      "application/vnd.databricks.v1+output": {
       "addedWidgets": {},
       "aggData": [],
       "aggError": "",
       "aggOverflow": false,
       "aggSchema": [],
       "aggSeriesLimitReached": false,
       "aggType": "",
       "arguments": {},
       "columnCustomDisplayInfos": {},
       "data": [
        [
         1
        ],
        [
         2
        ],
        [
         3
        ],
        [
         4
        ],
        [
         5
        ],
        [
         6
        ],
        [
         7
        ],
        [
         8
        ],
        [
         9
        ],
        [
         10
        ]
       ],
       "datasetInfos": [],
       "dbfsResultPath": null,
       "isJsonSchema": true,
       "metadata": {},
       "overflow": false,
       "plotOptions": {
        "customPlotOptions": {},
        "displayType": "table",
        "pivotAggregation": null,
        "pivotColumns": null,
        "xColumns": null,
        "yColumns": null
       },
       "removedWidgets": [],
       "schema": [
        {
         "metadata": "{}",
         "name": "id_company",
         "type": "\"long\""
        }
       ],
       "type": "table"
      }
     },
     "output_type": "display_data"
    }
   ],
   "source": [
    "%sql\n",
    "SELECT id_company\n",
    "FROM dim_company\n",
    "ORDER BY id_company ASC\n",
    "LIMIT 10;"
   ]
  },
  {
   "cell_type": "markdown",
   "metadata": {
    "application/vnd.databricks.v1+cell": {
     "cellMetadata": {
      "byteLimit": 2048000,
      "rowLimit": 10000
     },
     "inputWidgets": {},
     "nuid": "c1fc2bd3-72b9-4071-97c0-74795435b26e",
     "showTitle": false,
     "tableResultSettingsMap": {},
     "title": ""
    }
   },
   "source": [
    "A criação da tabela dim_professional é feita considerando as colunas 'enrollee_id', 'education_level', 'gender', 'major_discipline', 'experience', 'relevent_experience' e 'experience_group'. A coluna enrollee_id é a chave primária dessa tabela, renomeada de id_professional."
   ]
  },
  {
   "cell_type": "code",
   "execution_count": 0,
   "metadata": {
    "application/vnd.databricks.v1+cell": {
     "cellMetadata": {
      "byteLimit": 2048000,
      "implicitDf": true,
      "rowLimit": 10000
     },
     "inputWidgets": {},
     "nuid": "737236b4-b5ff-4027-adf5-f5b7892cfab8",
     "showTitle": true,
     "tableResultSettingsMap": {},
     "title": "Criação da tabela dim_professional"
    }
   },
   "outputs": [
    {
     "output_type": "display_data",
     "data": {
      "text/html": [
       "<style scoped>\n",
       "  .table-result-container {\n",
       "    max-height: 300px;\n",
       "    overflow: auto;\n",
       "  }\n",
       "  table, th, td {\n",
       "    border: 1px solid black;\n",
       "    border-collapse: collapse;\n",
       "  }\n",
       "  th, td {\n",
       "    padding: 5px;\n",
       "  }\n",
       "  th {\n",
       "    text-align: left;\n",
       "  }\n",
       "</style><div class='table-result-container'><table class='table-result'><thead style='background-color: white'><tr><th>num_affected_rows</th><th>num_inserted_rows</th></tr></thead><tbody></tbody></table></div>"
      ]
     },
     "metadata": {
      "application/vnd.databricks.v1+output": {
       "addedWidgets": {},
       "aggData": [],
       "aggError": "",
       "aggOverflow": false,
       "aggSchema": [],
       "aggSeriesLimitReached": false,
       "aggType": "",
       "arguments": {},
       "columnCustomDisplayInfos": {},
       "data": [],
       "datasetInfos": [],
       "dbfsResultPath": null,
       "isJsonSchema": true,
       "metadata": {},
       "overflow": false,
       "plotOptions": {
        "customPlotOptions": {},
        "displayType": "table",
        "pivotAggregation": null,
        "pivotColumns": null,
        "xColumns": null,
        "yColumns": null
       },
       "removedWidgets": [],
       "schema": [
        {
         "metadata": "{}",
         "name": "num_affected_rows",
         "type": "\"long\""
        },
        {
         "metadata": "{}",
         "name": "num_inserted_rows",
         "type": "\"long\""
        }
       ],
       "type": "table"
      }
     },
     "output_type": "display_data"
    }
   ],
   "source": [
    "%sql\n",
    "CREATE TABLE dim_professional AS \n",
    "SELECT DISTINCT \n",
    "    enrollee_id AS id_professional,\n",
    "    education_level,\n",
    "    gender,\n",
    "    major_discipline,\n",
    "    experience,\n",
    "    relevent_experience,\n",
    "    experience_group\n",
    "FROM data_science_jobs_table;\n"
   ]
  },
  {
   "cell_type": "code",
   "execution_count": 0,
   "metadata": {
    "application/vnd.databricks.v1+cell": {
     "cellMetadata": {
      "byteLimit": 2048000,
      "implicitDf": true,
      "rowLimit": 10000
     },
     "inputWidgets": {},
     "nuid": "b18c7b8f-76eb-4900-96ef-9ff97318db69",
     "showTitle": true,
     "tableResultSettingsMap": {},
     "title": "Verificação da tabela dim_professional"
    }
   },
   "outputs": [
    {
     "output_type": "display_data",
     "data": {
      "text/html": [
       "<style scoped>\n",
       "  .table-result-container {\n",
       "    max-height: 300px;\n",
       "    overflow: auto;\n",
       "  }\n",
       "  table, th, td {\n",
       "    border: 1px solid black;\n",
       "    border-collapse: collapse;\n",
       "  }\n",
       "  th, td {\n",
       "    padding: 5px;\n",
       "  }\n",
       "  th {\n",
       "    text-align: left;\n",
       "  }\n",
       "</style><div class='table-result-container'><table class='table-result'><thead style='background-color: white'><tr><th>id_professional</th></tr></thead><tbody><tr><td>1</td></tr><tr><td>2</td></tr><tr><td>4</td></tr><tr><td>5</td></tr><tr><td>7</td></tr><tr><td>8</td></tr><tr><td>9</td></tr><tr><td>10</td></tr><tr><td>11</td></tr><tr><td>13</td></tr></tbody></table></div>"
      ]
     },
     "metadata": {
      "application/vnd.databricks.v1+output": {
       "addedWidgets": {},
       "aggData": [],
       "aggError": "",
       "aggOverflow": false,
       "aggSchema": [],
       "aggSeriesLimitReached": false,
       "aggType": "",
       "arguments": {},
       "columnCustomDisplayInfos": {},
       "data": [
        [
         1
        ],
        [
         2
        ],
        [
         4
        ],
        [
         5
        ],
        [
         7
        ],
        [
         8
        ],
        [
         9
        ],
        [
         10
        ],
        [
         11
        ],
        [
         13
        ]
       ],
       "datasetInfos": [],
       "dbfsResultPath": null,
       "isJsonSchema": true,
       "metadata": {},
       "overflow": false,
       "plotOptions": {
        "customPlotOptions": {},
        "displayType": "table",
        "pivotAggregation": null,
        "pivotColumns": null,
        "xColumns": null,
        "yColumns": null
       },
       "removedWidgets": [],
       "schema": [
        {
         "metadata": "{}",
         "name": "id_professional",
         "type": "\"integer\""
        }
       ],
       "type": "table"
      }
     },
     "output_type": "display_data"
    }
   ],
   "source": [
    "%sql\n",
    "SELECT id_professional\n",
    "FROM dim_professional\n",
    "ORDER BY id_professional ASC\n",
    "LIMIT 10;"
   ]
  },
  {
   "cell_type": "code",
   "execution_count": 0,
   "metadata": {
    "application/vnd.databricks.v1+cell": {
     "cellMetadata": {
      "byteLimit": 2048000,
      "rowLimit": 10000
     },
     "inputWidgets": {},
     "nuid": "d8fef6bd-b2d4-4c3b-84d7-766d123f242d",
     "showTitle": true,
     "tableResultSettingsMap": {},
     "title": "Contagem dos registros da tabela original"
    }
   },
   "outputs": [
    {
     "output_type": "stream",
     "name": "stdout",
     "output_type": "stream",
     "text": [
      "Total de registros: 19158\n"
     ]
    }
   ],
   "source": [
    "# Contar total de registros na tabela\n",
    "total_rows = spark.table(\"data_science_jobs_table\").count()\n",
    "print(f\"Total de registros: {total_rows}\")\n"
   ]
  },
  {
   "cell_type": "markdown",
   "metadata": {
    "application/vnd.databricks.v1+cell": {
     "cellMetadata": {
      "byteLimit": 2048000,
      "rowLimit": 10000
     },
     "inputWidgets": {},
     "nuid": "c0ba47b4-199c-4e47-9409-ced8a14e225a",
     "showTitle": false,
     "tableResultSettingsMap": {},
     "title": ""
    }
   },
   "source": [
    "Para facilitar a inserção dos dados da tabela orignal na tabela fato que será criada, a mesma foi dividida em duas partes para não sobrecarregar o Cluster criado na plataforma, visto que há limitações na ferramenta por ser para estudos e gratuita."
   ]
  },
  {
   "cell_type": "code",
   "execution_count": 0,
   "metadata": {
    "application/vnd.databricks.v1+cell": {
     "cellMetadata": {
      "byteLimit": 2048000,
      "rowLimit": 10000
     },
     "inputWidgets": {},
     "nuid": "0c6b3589-6c79-4cbe-ad49-850e5d949e86",
     "showTitle": true,
     "tableResultSettingsMap": {},
     "title": "Separação da tabela original em duas partes"
    }
   },
   "outputs": [],
   "source": [
    "# Carregar a tabela como DataFrame do PySpark\n",
    "df_cleaned = spark.table(\"data_science_jobs_table\")\n",
    "\n",
    "# Dividir em duas partes (50% cada)\n",
    "df_part1, df_part2 = df_cleaned.randomSplit([0.5, 0.5], seed=42)\n",
    "\n",
    "# Salvar as partes como arquivos Parquet temporários\n",
    "df_part1.write.mode(\"overwrite\").parquet(\"/mnt/data/data_science_part1\")\n",
    "df_part2.write.mode(\"overwrite\").parquet(\"/mnt/data/data_science_part2\")\n"
   ]
  },
  {
   "cell_type": "code",
   "execution_count": 0,
   "metadata": {
    "application/vnd.databricks.v1+cell": {
     "cellMetadata": {
      "byteLimit": 2048000,
      "implicitDf": true,
      "rowLimit": 10000
     },
     "inputWidgets": {},
     "nuid": "56d2acd0-be75-4ea3-b673-bc2f43e77fa0",
     "showTitle": true,
     "tableResultSettingsMap": {},
     "title": "Salvando as tabelas criadas usando PARQUET"
    }
   },
   "outputs": [
    {
     "output_type": "display_data",
     "data": {
      "text/html": [
       "<style scoped>\n",
       "  .table-result-container {\n",
       "    max-height: 300px;\n",
       "    overflow: auto;\n",
       "  }\n",
       "  table, th, td {\n",
       "    border: 1px solid black;\n",
       "    border-collapse: collapse;\n",
       "  }\n",
       "  th, td {\n",
       "    padding: 5px;\n",
       "  }\n",
       "  th {\n",
       "    text-align: left;\n",
       "  }\n",
       "</style><div class='table-result-container'><table class='table-result'><thead style='background-color: white'><tr></tr></thead><tbody></tbody></table></div>"
      ]
     },
     "metadata": {
      "application/vnd.databricks.v1+output": {
       "addedWidgets": {},
       "aggData": [],
       "aggError": "",
       "aggOverflow": false,
       "aggSchema": [],
       "aggSeriesLimitReached": false,
       "aggType": "",
       "arguments": {},
       "columnCustomDisplayInfos": {},
       "data": [],
       "datasetInfos": [],
       "dbfsResultPath": null,
       "isJsonSchema": true,
       "metadata": {},
       "overflow": false,
       "plotOptions": {
        "customPlotOptions": {},
        "displayType": "table",
        "pivotAggregation": null,
        "pivotColumns": null,
        "xColumns": null,
        "yColumns": null
       },
       "removedWidgets": [],
       "schema": [],
       "type": "table"
      }
     },
     "output_type": "display_data"
    }
   ],
   "source": [
    "%sql\n",
    "CREATE TABLE data_science_jobs_part1\n",
    "USING PARQUET\n",
    "LOCATION '/mnt/data/data_science_part1';\n",
    "\n",
    "CREATE TABLE data_science_jobs_part2\n",
    "USING PARQUET\n",
    "LOCATION '/mnt/data/data_science_part2';\n"
   ]
  },
  {
   "cell_type": "markdown",
   "metadata": {
    "application/vnd.databricks.v1+cell": {
     "cellMetadata": {
      "byteLimit": 2048000,
      "rowLimit": 10000
     },
     "inputWidgets": {},
     "nuid": "1c99828d-b1bf-4143-b14c-acafe646477a",
     "showTitle": false,
     "tableResultSettingsMap": {},
     "title": ""
    }
   },
   "source": [
    "A criação da tabela fato será feita considerando:\n",
    "- Não há uma coluna identificadora, por isso a coluna id_fato será criada para identificar cada registro unicamente;\n",
    "- As colunas id_professional, id_company e id_city são chaves estrangeiras oriundas das tabelas dim_professional, dim_company e dim_city, respectivamente. Para que posteiormente seja possível fazer consulta relacionando essas tabelas com a tabela fato;\n",
    "- As colunas 'training_hours' e 'target' são as métricas oriundas da tabela original."
   ]
  },
  {
   "cell_type": "code",
   "execution_count": 0,
   "metadata": {
    "application/vnd.databricks.v1+cell": {
     "cellMetadata": {
      "byteLimit": 2048000,
      "implicitDf": true,
      "rowLimit": 10000
     },
     "inputWidgets": {},
     "nuid": "920e9a3d-e657-4757-8c6e-327cf95d0ef9",
     "showTitle": true,
     "tableResultSettingsMap": {},
     "title": "Criação da tabela fato"
    }
   },
   "outputs": [
    {
     "output_type": "display_data",
     "data": {
      "text/html": [
       "<style scoped>\n",
       "  .table-result-container {\n",
       "    max-height: 300px;\n",
       "    overflow: auto;\n",
       "  }\n",
       "  table, th, td {\n",
       "    border: 1px solid black;\n",
       "    border-collapse: collapse;\n",
       "  }\n",
       "  th, td {\n",
       "    padding: 5px;\n",
       "  }\n",
       "  th {\n",
       "    text-align: left;\n",
       "  }\n",
       "</style><div class='table-result-container'><table class='table-result'><thead style='background-color: white'><tr></tr></thead><tbody></tbody></table></div>"
      ]
     },
     "metadata": {
      "application/vnd.databricks.v1+output": {
       "addedWidgets": {},
       "aggData": [],
       "aggError": "",
       "aggOverflow": false,
       "aggSchema": [],
       "aggSeriesLimitReached": false,
       "aggType": "",
       "arguments": {},
       "columnCustomDisplayInfos": {},
       "data": [],
       "datasetInfos": [],
       "dbfsResultPath": null,
       "isJsonSchema": true,
       "metadata": {},
       "overflow": false,
       "plotOptions": {
        "customPlotOptions": {},
        "displayType": "table",
        "pivotAggregation": null,
        "pivotColumns": null,
        "xColumns": null,
        "yColumns": null
       },
       "removedWidgets": [],
       "schema": [],
       "type": "table"
      }
     },
     "output_type": "display_data"
    }
   ],
   "source": [
    "%sql\n",
    "CREATE TABLE IF NOT EXISTS fact_jobs (\n",
    "    id_fato BIGINT GENERATED ALWAYS AS IDENTITY,\n",
    "    id_professional BIGINT,\n",
    "    id_company BIGINT,\n",
    "    id_city INT,\n",
    "    training_hours INT,\n",
    "    target INT\n",
    ");\n",
    "\n"
   ]
  },
  {
   "cell_type": "code",
   "execution_count": 0,
   "metadata": {
    "application/vnd.databricks.v1+cell": {
     "cellMetadata": {
      "byteLimit": 2048000,
      "implicitDf": true,
      "rowLimit": 10000
     },
     "inputWidgets": {},
     "nuid": "eea4beb8-830d-480f-8412-1f8820d8ef23",
     "showTitle": false,
     "tableResultSettingsMap": {},
     "title": ""
    }
   },
   "outputs": [
    {
     "output_type": "display_data",
     "data": {
      "text/html": [
       "<style scoped>\n",
       "  .table-result-container {\n",
       "    max-height: 300px;\n",
       "    overflow: auto;\n",
       "  }\n",
       "  table, th, td {\n",
       "    border: 1px solid black;\n",
       "    border-collapse: collapse;\n",
       "  }\n",
       "  th, td {\n",
       "    padding: 5px;\n",
       "  }\n",
       "  th {\n",
       "    text-align: left;\n",
       "  }\n",
       "</style><div class='table-result-container'><table class='table-result'><thead style='background-color: white'><tr></tr></thead><tbody></tbody></table></div>"
      ]
     },
     "metadata": {
      "application/vnd.databricks.v1+output": {
       "addedWidgets": {},
       "aggData": [],
       "aggError": "",
       "aggOverflow": false,
       "aggSchema": [],
       "aggSeriesLimitReached": false,
       "aggType": "",
       "arguments": {},
       "columnCustomDisplayInfos": {},
       "data": [],
       "datasetInfos": [],
       "dbfsResultPath": null,
       "isJsonSchema": true,
       "metadata": {},
       "overflow": false,
       "plotOptions": {
        "customPlotOptions": {},
        "displayType": "table",
        "pivotAggregation": null,
        "pivotColumns": null,
        "xColumns": null,
        "yColumns": null
       },
       "removedWidgets": [],
       "schema": [],
       "type": "table"
      }
     },
     "output_type": "display_data"
    }
   ],
   "source": [
    "%sql\n",
    "REFRESH TABLE data_science_jobs_part1;\n"
   ]
  },
  {
   "cell_type": "code",
   "execution_count": 0,
   "metadata": {
    "application/vnd.databricks.v1+cell": {
     "cellMetadata": {
      "byteLimit": 2048000,
      "implicitDf": true,
      "rowLimit": 10000
     },
     "inputWidgets": {},
     "nuid": "0ab0b261-5e65-495f-a782-72fb56821874",
     "showTitle": true,
     "tableResultSettingsMap": {},
     "title": "Inserção dos dados da primeira parte da tabela original"
    }
   },
   "outputs": [
    {
     "output_type": "display_data",
     "data": {
      "text/html": [
       "<style scoped>\n",
       "  .table-result-container {\n",
       "    max-height: 300px;\n",
       "    overflow: auto;\n",
       "  }\n",
       "  table, th, td {\n",
       "    border: 1px solid black;\n",
       "    border-collapse: collapse;\n",
       "  }\n",
       "  th, td {\n",
       "    padding: 5px;\n",
       "  }\n",
       "  th {\n",
       "    text-align: left;\n",
       "  }\n",
       "</style><div class='table-result-container'><table class='table-result'><thead style='background-color: white'><tr><th>num_affected_rows</th><th>num_inserted_rows</th></tr></thead><tbody><tr><td>9660</td><td>9660</td></tr></tbody></table></div>"
      ]
     },
     "metadata": {
      "application/vnd.databricks.v1+output": {
       "addedWidgets": {},
       "aggData": [],
       "aggError": "",
       "aggOverflow": false,
       "aggSchema": [],
       "aggSeriesLimitReached": false,
       "aggType": "",
       "arguments": {},
       "columnCustomDisplayInfos": {},
       "data": [
        [
         9660,
         9660
        ]
       ],
       "datasetInfos": [],
       "dbfsResultPath": null,
       "isJsonSchema": true,
       "metadata": {},
       "overflow": false,
       "plotOptions": {
        "customPlotOptions": {},
        "displayType": "table",
        "pivotAggregation": null,
        "pivotColumns": null,
        "xColumns": null,
        "yColumns": null
       },
       "removedWidgets": [],
       "schema": [
        {
         "metadata": "{}",
         "name": "num_affected_rows",
         "type": "\"long\""
        },
        {
         "metadata": "{}",
         "name": "num_inserted_rows",
         "type": "\"long\""
        }
       ],
       "type": "table"
      }
     },
     "output_type": "display_data"
    }
   ],
   "source": [
    "%sql\n",
    "INSERT INTO fact_jobs (id_professional, id_company, id_city, training_hours, target)\n",
    "SELECT DISTINCT d.enrollee_id, e.id_company, l.id_city, d.training_hours, d.target\n",
    "FROM data_science_jobs_part1 d\n",
    "JOIN dim_professional p ON d.enrollee_id = p.id_professional\n",
    "JOIN dim_company e ON d.company_type = e.company_type AND d.company_size = e.company_size\n",
    "JOIN dim_city l ON d.city_id = l.id_city\n",
    "LIMIT 9660;\n"
   ]
  },
  {
   "cell_type": "code",
   "execution_count": 0,
   "metadata": {
    "application/vnd.databricks.v1+cell": {
     "cellMetadata": {
      "byteLimit": 2048000,
      "implicitDf": true,
      "rowLimit": 10000
     },
     "inputWidgets": {},
     "nuid": "c5752948-846b-4ec8-bd2b-9814067a6e16",
     "showTitle": false,
     "tableResultSettingsMap": {},
     "title": ""
    }
   },
   "outputs": [
    {
     "output_type": "display_data",
     "data": {
      "text/html": [
       "<style scoped>\n",
       "  .table-result-container {\n",
       "    max-height: 300px;\n",
       "    overflow: auto;\n",
       "  }\n",
       "  table, th, td {\n",
       "    border: 1px solid black;\n",
       "    border-collapse: collapse;\n",
       "  }\n",
       "  th, td {\n",
       "    padding: 5px;\n",
       "  }\n",
       "  th {\n",
       "    text-align: left;\n",
       "  }\n",
       "</style><div class='table-result-container'><table class='table-result'><thead style='background-color: white'><tr></tr></thead><tbody></tbody></table></div>"
      ]
     },
     "metadata": {
      "application/vnd.databricks.v1+output": {
       "addedWidgets": {},
       "aggData": [],
       "aggError": "",
       "aggOverflow": false,
       "aggSchema": [],
       "aggSeriesLimitReached": false,
       "aggType": "",
       "arguments": {},
       "columnCustomDisplayInfos": {},
       "data": [],
       "datasetInfos": [],
       "dbfsResultPath": null,
       "isJsonSchema": true,
       "metadata": {},
       "overflow": false,
       "plotOptions": {
        "customPlotOptions": {},
        "displayType": "table",
        "pivotAggregation": null,
        "pivotColumns": null,
        "xColumns": null,
        "yColumns": null
       },
       "removedWidgets": [],
       "schema": [],
       "type": "table"
      }
     },
     "output_type": "display_data"
    }
   ],
   "source": [
    "%sql\n",
    "REFRESH TABLE data_science_jobs_part2;"
   ]
  },
  {
   "cell_type": "code",
   "execution_count": 0,
   "metadata": {
    "application/vnd.databricks.v1+cell": {
     "cellMetadata": {
      "byteLimit": 2048000,
      "implicitDf": true,
      "rowLimit": 10000
     },
     "inputWidgets": {},
     "nuid": "a1575191-b2d1-4032-9198-b124c4d9a413",
     "showTitle": true,
     "tableResultSettingsMap": {},
     "title": "Inserção dos dados da segunda parte da tabela original"
    }
   },
   "outputs": [
    {
     "output_type": "display_data",
     "data": {
      "text/html": [
       "<style scoped>\n",
       "  .table-result-container {\n",
       "    max-height: 300px;\n",
       "    overflow: auto;\n",
       "  }\n",
       "  table, th, td {\n",
       "    border: 1px solid black;\n",
       "    border-collapse: collapse;\n",
       "  }\n",
       "  th, td {\n",
       "    padding: 5px;\n",
       "  }\n",
       "  th {\n",
       "    text-align: left;\n",
       "  }\n",
       "</style><div class='table-result-container'><table class='table-result'><thead style='background-color: white'><tr><th>num_affected_rows</th><th>num_inserted_rows</th></tr></thead><tbody><tr><td>9498</td><td>9498</td></tr></tbody></table></div>"
      ]
     },
     "metadata": {
      "application/vnd.databricks.v1+output": {
       "addedWidgets": {},
       "aggData": [],
       "aggError": "",
       "aggOverflow": false,
       "aggSchema": [],
       "aggSeriesLimitReached": false,
       "aggType": "",
       "arguments": {},
       "columnCustomDisplayInfos": {},
       "data": [
        [
         9498,
         9498
        ]
       ],
       "datasetInfos": [],
       "dbfsResultPath": null,
       "isJsonSchema": true,
       "metadata": {},
       "overflow": false,
       "plotOptions": {
        "customPlotOptions": {},
        "displayType": "table",
        "pivotAggregation": null,
        "pivotColumns": null,
        "xColumns": null,
        "yColumns": null
       },
       "removedWidgets": [],
       "schema": [
        {
         "metadata": "{}",
         "name": "num_affected_rows",
         "type": "\"long\""
        },
        {
         "metadata": "{}",
         "name": "num_inserted_rows",
         "type": "\"long\""
        }
       ],
       "type": "table"
      }
     },
     "output_type": "display_data"
    }
   ],
   "source": [
    "%sql\n",
    "INSERT INTO fact_jobs (id_professional, id_company, id_city, training_hours, target)\n",
    "SELECT DISTINCT d.enrollee_id, e.id_company, l.id_city, d.training_hours, d.target\n",
    "FROM data_science_jobs_part2 d\n",
    "JOIN dim_professional p ON d.enrollee_id = p.id_professional\n",
    "JOIN dim_company e ON d.company_type = e.company_type AND d.company_size = e.company_size\n",
    "JOIN dim_city l ON d.city_id = l.id_city\n",
    "LIMIT 9498;\n"
   ]
  },
  {
   "cell_type": "markdown",
   "metadata": {
    "application/vnd.databricks.v1+cell": {
     "cellMetadata": {
      "byteLimit": 2048000,
      "rowLimit": 10000
     },
     "inputWidgets": {},
     "nuid": "4e16825f-1f32-49d0-a2af-c6d9926495b6",
     "showTitle": false,
     "tableResultSettingsMap": {},
     "title": ""
    }
   },
   "source": [
    "### Após a inserção dos dados na tabela fato, inicia-se as consultas SQL para responder as perguntas propostas nos objetivos do MVP."
   ]
  },
  {
   "cell_type": "code",
   "execution_count": 0,
   "metadata": {
    "application/vnd.databricks.v1+cell": {
     "cellMetadata": {
      "byteLimit": 2048000,
      "implicitDf": true,
      "rowLimit": 10000
     },
     "inputWidgets": {},
     "nuid": "a5e27376-42c0-4c0b-91c6-6e978d148ef0",
     "showTitle": true,
     "tableResultSettingsMap": {},
     "title": "1.  Qual a distribuição de gênero dos candidatos?"
    }
   },
   "outputs": [
    {
     "output_type": "display_data",
     "data": {
      "text/html": [
       "<style scoped>\n",
       "  .table-result-container {\n",
       "    max-height: 300px;\n",
       "    overflow: auto;\n",
       "  }\n",
       "  table, th, td {\n",
       "    border: 1px solid black;\n",
       "    border-collapse: collapse;\n",
       "  }\n",
       "  th, td {\n",
       "    padding: 5px;\n",
       "  }\n",
       "  th {\n",
       "    text-align: left;\n",
       "  }\n",
       "</style><div class='table-result-container'><table class='table-result'><thead style='background-color: white'><tr><th>gender</th><th>total_candidatos</th><th>percentual</th></tr></thead><tbody><tr><td>Male</td><td>13221</td><td>69.01033510804886</td></tr><tr><td>Not informed</td><td>4508</td><td>23.53063994153878</td></tr><tr><td>Female</td><td>1238</td><td>6.46205240630546</td></tr><tr><td>Other</td><td>191</td><td>0.99697254410690</td></tr></tbody></table></div>"
      ]
     },
     "metadata": {
      "application/vnd.databricks.v1+output": {
       "addedWidgets": {},
       "aggData": [],
       "aggError": "",
       "aggOverflow": false,
       "aggSchema": [],
       "aggSeriesLimitReached": false,
       "aggType": "",
       "arguments": {},
       "columnCustomDisplayInfos": {},
       "data": [
        [
         "Male",
         13221,
         "69.01033510804886"
        ],
        [
         "Not informed",
         4508,
         "23.53063994153878"
        ],
        [
         "Female",
         1238,
         "6.46205240630546"
        ],
        [
         "Other",
         191,
         "0.99697254410690"
        ]
       ],
       "datasetInfos": [],
       "dbfsResultPath": null,
       "isJsonSchema": true,
       "metadata": {},
       "overflow": false,
       "plotOptions": {
        "customPlotOptions": {},
        "displayType": "table",
        "pivotAggregation": null,
        "pivotColumns": null,
        "xColumns": null,
        "yColumns": null
       },
       "removedWidgets": [],
       "schema": [
        {
         "metadata": "{}",
         "name": "gender",
         "type": "\"string\""
        },
        {
         "metadata": "{}",
         "name": "total_candidatos",
         "type": "\"long\""
        },
        {
         "metadata": "{}",
         "name": "percentual",
         "type": "\"decimal(38,14)\""
        }
       ],
       "type": "table"
      }
     },
     "output_type": "display_data"
    }
   ],
   "source": [
    "%sql\n",
    "SELECT p.gender, COUNT(*) AS total_candidatos,\n",
    "(COUNT(*) * 100.0 / SUM(COUNT(*)) OVER ()) AS percentual\n",
    "FROM fact_jobs f\n",
    "JOIN dim_professional p ON f.id_professional = p.id_professional\n",
    "GROUP BY p.gender\n",
    "ORDER BY total_candidatos DESC;"
   ]
  },
  {
   "cell_type": "code",
   "execution_count": 0,
   "metadata": {
    "application/vnd.databricks.v1+cell": {
     "cellMetadata": {
      "byteLimit": 2048000,
      "implicitDf": true,
      "rowLimit": 10000
     },
     "inputWidgets": {},
     "nuid": "67a694d2-b1a7-486d-bd79-e1c7c0d9f13a",
     "showTitle": true,
     "tableResultSettingsMap": {},
     "title": "2. Qual o nível de formação mais comum entre os profissionais de ciência de dados?"
    }
   },
   "outputs": [
    {
     "output_type": "display_data",
     "data": {
      "text/html": [
       "<style scoped>\n",
       "  .table-result-container {\n",
       "    max-height: 300px;\n",
       "    overflow: auto;\n",
       "  }\n",
       "  table, th, td {\n",
       "    border: 1px solid black;\n",
       "    border-collapse: collapse;\n",
       "  }\n",
       "  th, td {\n",
       "    padding: 5px;\n",
       "  }\n",
       "  th {\n",
       "    text-align: left;\n",
       "  }\n",
       "</style><div class='table-result-container'><table class='table-result'><thead style='background-color: white'><tr><th>education_level</th><th>total_candidatos</th></tr></thead><tbody><tr><td>Graduate</td><td>12058</td></tr><tr><td>Masters</td><td>4361</td></tr><tr><td>High School</td><td>2017</td></tr><tr><td>Phd</td><td>414</td></tr><tr><td>Primary School</td><td>308</td></tr></tbody></table></div>"
      ]
     },
     "metadata": {
      "application/vnd.databricks.v1+output": {
       "addedWidgets": {},
       "aggData": [],
       "aggError": "",
       "aggOverflow": false,
       "aggSchema": [],
       "aggSeriesLimitReached": false,
       "aggType": "",
       "arguments": {},
       "columnCustomDisplayInfos": {},
       "data": [
        [
         "Graduate",
         12058
        ],
        [
         "Masters",
         4361
        ],
        [
         "High School",
         2017
        ],
        [
         "Phd",
         414
        ],
        [
         "Primary School",
         308
        ]
       ],
       "datasetInfos": [],
       "dbfsResultPath": null,
       "isJsonSchema": true,
       "metadata": {},
       "overflow": false,
       "plotOptions": {
        "customPlotOptions": {},
        "displayType": "table",
        "pivotAggregation": null,
        "pivotColumns": null,
        "xColumns": null,
        "yColumns": null
       },
       "removedWidgets": [],
       "schema": [
        {
         "metadata": "{}",
         "name": "education_level",
         "type": "\"string\""
        },
        {
         "metadata": "{}",
         "name": "total_candidatos",
         "type": "\"long\""
        }
       ],
       "type": "table"
      }
     },
     "output_type": "display_data"
    }
   ],
   "source": [
    "%sql\n",
    "SELECT p.education_level, COUNT(*) AS total_candidatos\n",
    "FROM fact_jobs f\n",
    "JOIN dim_professional p ON f.id_professional = p.id_professional\n",
    "GROUP BY p.education_level\n",
    "ORDER BY total_candidatos DESC;\n"
   ]
  },
  {
   "cell_type": "code",
   "execution_count": 0,
   "metadata": {
    "application/vnd.databricks.v1+cell": {
     "cellMetadata": {
      "byteLimit": 2048000,
      "implicitDf": true,
      "rowLimit": 10000
     },
     "inputWidgets": {},
     "nuid": "6dd74428-b9e1-4483-bc6c-ff61e551f353",
     "showTitle": true,
     "tableResultSettingsMap": {},
     "title": "3. Qual a experiência média dos candidatos?"
    }
   },
   "outputs": [
    {
     "output_type": "display_data",
     "data": {
      "text/html": [
       "<style scoped>\n",
       "  .table-result-container {\n",
       "    max-height: 300px;\n",
       "    overflow: auto;\n",
       "  }\n",
       "  table, th, td {\n",
       "    border: 1px solid black;\n",
       "    border-collapse: collapse;\n",
       "  }\n",
       "  th, td {\n",
       "    padding: 5px;\n",
       "  }\n",
       "  th {\n",
       "    text-align: left;\n",
       "  }\n",
       "</style><div class='table-result-container'><table class='table-result'><thead style='background-color: white'><tr><th>experiencia_media</th></tr></thead><tbody><tr><td>9.921494936841006</td></tr></tbody></table></div>"
      ]
     },
     "metadata": {
      "application/vnd.databricks.v1+output": {
       "addedWidgets": {},
       "aggData": [],
       "aggError": "",
       "aggOverflow": false,
       "aggSchema": [],
       "aggSeriesLimitReached": false,
       "aggType": "",
       "arguments": {},
       "columnCustomDisplayInfos": {},
       "data": [
        [
         9.921494936841006
        ]
       ],
       "datasetInfos": [],
       "dbfsResultPath": null,
       "isJsonSchema": true,
       "metadata": {},
       "overflow": false,
       "plotOptions": {
        "customPlotOptions": {},
        "displayType": "table",
        "pivotAggregation": null,
        "pivotColumns": null,
        "xColumns": null,
        "yColumns": null
       },
       "removedWidgets": [],
       "schema": [
        {
         "metadata": "{}",
         "name": "experiencia_media",
         "type": "\"double\""
        }
       ],
       "type": "table"
      }
     },
     "output_type": "display_data"
    }
   ],
   "source": [
    "%sql\n",
    "SELECT AVG(p.experience) AS experiencia_media\n",
    "FROM fact_jobs f\n",
    "JOIN dim_professional p ON f.id_professional = p.id_professional;\n"
   ]
  },
  {
   "cell_type": "code",
   "execution_count": 0,
   "metadata": {
    "application/vnd.databricks.v1+cell": {
     "cellMetadata": {
      "byteLimit": 2048000,
      "implicitDf": true,
      "rowLimit": 10000
     },
     "inputWidgets": {},
     "nuid": "ecffd07d-0928-46e8-a52e-df3e1d5cdda5",
     "showTitle": true,
     "tableResultSettingsMap": {},
     "title": "4. Quantas pessoas já têm experiência relevante na área?"
    }
   },
   "outputs": [
    {
     "output_type": "display_data",
     "data": {
      "text/html": [
       "<style scoped>\n",
       "  .table-result-container {\n",
       "    max-height: 300px;\n",
       "    overflow: auto;\n",
       "  }\n",
       "  table, th, td {\n",
       "    border: 1px solid black;\n",
       "    border-collapse: collapse;\n",
       "  }\n",
       "  th, td {\n",
       "    padding: 5px;\n",
       "  }\n",
       "  th {\n",
       "    text-align: left;\n",
       "  }\n",
       "</style><div class='table-result-container'><table class='table-result'><thead style='background-color: white'><tr><th>relevent_experience</th><th>total_candidatos</th></tr></thead><tbody><tr><td>No relevent experience</td><td>5366</td></tr><tr><td>Has relevent experience</td><td>13792</td></tr></tbody></table></div>"
      ]
     },
     "metadata": {
      "application/vnd.databricks.v1+output": {
       "addedWidgets": {},
       "aggData": [],
       "aggError": "",
       "aggOverflow": false,
       "aggSchema": [],
       "aggSeriesLimitReached": false,
       "aggType": "",
       "arguments": {},
       "columnCustomDisplayInfos": {},
       "data": [
        [
         "No relevent experience",
         5366
        ],
        [
         "Has relevent experience",
         13792
        ]
       ],
       "datasetInfos": [],
       "dbfsResultPath": null,
       "isJsonSchema": true,
       "metadata": {},
       "overflow": false,
       "plotOptions": {
        "customPlotOptions": {},
        "displayType": "table",
        "pivotAggregation": null,
        "pivotColumns": null,
        "xColumns": null,
        "yColumns": null
       },
       "removedWidgets": [],
       "schema": [
        {
         "metadata": "{}",
         "name": "relevent_experience",
         "type": "\"string\""
        },
        {
         "metadata": "{}",
         "name": "total_candidatos",
         "type": "\"long\""
        }
       ],
       "type": "table"
      }
     },
     "output_type": "display_data"
    }
   ],
   "source": [
    "%sql\n",
    "SELECT p.relevent_experience, COUNT(*) AS total_candidatos\n",
    "FROM fact_jobs f\n",
    "JOIN dim_professional p ON f.id_professional = p.id_professional\n",
    "GROUP BY p.relevent_experience;\n"
   ]
  },
  {
   "cell_type": "code",
   "execution_count": 0,
   "metadata": {
    "application/vnd.databricks.v1+cell": {
     "cellMetadata": {
      "byteLimit": 2048000,
      "implicitDf": true,
      "rowLimit": 10000
     },
     "inputWidgets": {},
     "nuid": "82547f5d-9e3f-4809-99f9-3795ec52159f",
     "showTitle": true,
     "tableResultSettingsMap": {},
     "title": "5.O nível de educação influencia na intenção de trocar de emprego?"
    }
   },
   "outputs": [
    {
     "output_type": "display_data",
     "data": {
      "text/html": [
       "<style scoped>\n",
       "  .table-result-container {\n",
       "    max-height: 300px;\n",
       "    overflow: auto;\n",
       "  }\n",
       "  table, th, td {\n",
       "    border: 1px solid black;\n",
       "    border-collapse: collapse;\n",
       "  }\n",
       "  th, td {\n",
       "    padding: 5px;\n",
       "  }\n",
       "  th {\n",
       "    text-align: left;\n",
       "  }\n",
       "</style><div class='table-result-container'><table class='table-result'><thead style='background-color: white'><tr><th>education_level</th><th>total_candidatos</th><th>total_querem_trocar</th><th>percentual_troca</th></tr></thead><tbody><tr><td>Graduate</td><td>12058</td><td>3349</td><td>27.77409188920219</td></tr><tr><td>Masters</td><td>4361</td><td>935</td><td>21.44003668883284</td></tr><tr><td>High School</td><td>2017</td><td>394</td><td>19.53396132870600</td></tr><tr><td>Phd</td><td>414</td><td>58</td><td>14.00966183574879</td></tr><tr><td>Primary School</td><td>308</td><td>41</td><td>13.31168831168831</td></tr></tbody></table></div>"
      ]
     },
     "metadata": {
      "application/vnd.databricks.v1+output": {
       "addedWidgets": {},
       "aggData": [],
       "aggError": "",
       "aggOverflow": false,
       "aggSchema": [],
       "aggSeriesLimitReached": false,
       "aggType": "",
       "arguments": {},
       "columnCustomDisplayInfos": {},
       "data": [
        [
         "Graduate",
         12058,
         3349,
         "27.77409188920219"
        ],
        [
         "Masters",
         4361,
         935,
         "21.44003668883284"
        ],
        [
         "High School",
         2017,
         394,
         "19.53396132870600"
        ],
        [
         "Phd",
         414,
         58,
         "14.00966183574879"
        ],
        [
         "Primary School",
         308,
         41,
         "13.31168831168831"
        ]
       ],
       "datasetInfos": [],
       "dbfsResultPath": null,
       "isJsonSchema": true,
       "metadata": {},
       "overflow": false,
       "plotOptions": {
        "customPlotOptions": {},
        "displayType": "table",
        "pivotAggregation": null,
        "pivotColumns": null,
        "xColumns": null,
        "yColumns": null
       },
       "removedWidgets": [],
       "schema": [
        {
         "metadata": "{}",
         "name": "education_level",
         "type": "\"string\""
        },
        {
         "metadata": "{}",
         "name": "total_candidatos",
         "type": "\"long\""
        },
        {
         "metadata": "{}",
         "name": "total_querem_trocar",
         "type": "\"long\""
        },
        {
         "metadata": "{}",
         "name": "percentual_troca",
         "type": "\"decimal(38,14)\""
        }
       ],
       "type": "table"
      }
     },
     "output_type": "display_data"
    }
   ],
   "source": [
    "%sql\n",
    "SELECT p.education_level, \n",
    "       COUNT(*) AS total_candidatos, \n",
    "       SUM(f.target) AS total_querem_trocar,\n",
    "       (SUM(f.target) * 100.0 / COUNT(*)) AS percentual_troca\n",
    "FROM fact_jobs f\n",
    "JOIN dim_professional p ON f.id_professional = p.id_professional\n",
    "GROUP BY p.education_level\n",
    "ORDER BY percentual_troca DESC;\n"
   ]
  },
  {
   "cell_type": "code",
   "execution_count": 0,
   "metadata": {
    "application/vnd.databricks.v1+cell": {
     "cellMetadata": {
      "byteLimit": 2048000,
      "implicitDf": true,
      "rowLimit": 10000
     },
     "inputWidgets": {},
     "nuid": "21b95e7c-a490-4a29-8ef1-e1a8dad2e7af",
     "showTitle": true,
     "tableResultSettingsMap": {},
     "title": "6. Candidatos que fizeram mais horas de treinamento têm mais chances de mudar de emprego?"
    }
   },
   "outputs": [
    {
     "output_type": "display_data",
     "data": {
      "text/html": [
       "<style scoped>\n",
       "  .table-result-container {\n",
       "    max-height: 300px;\n",
       "    overflow: auto;\n",
       "  }\n",
       "  table, th, td {\n",
       "    border: 1px solid black;\n",
       "    border-collapse: collapse;\n",
       "  }\n",
       "  th, td {\n",
       "    padding: 5px;\n",
       "  }\n",
       "  th {\n",
       "    text-align: left;\n",
       "  }\n",
       "</style><div class='table-result-container'><table class='table-result'><thead style='background-color: white'><tr><th>categoria_treinamento</th><th>total_candidatos</th><th>total_querem_trocar</th><th>percentual_troca</th></tr></thead><tbody><tr><td>Treinamento Moderado</td><td>6868</td><td>1756</td><td>25.56785090273733</td></tr><tr><td>Pouco Treinamento</td><td>3704</td><td>935</td><td>25.24298056155508</td></tr><tr><td>Muito Treinamento</td><td>8586</td><td>2086</td><td>24.29536454693687</td></tr></tbody></table></div>"
      ]
     },
     "metadata": {
      "application/vnd.databricks.v1+output": {
       "addedWidgets": {},
       "aggData": [],
       "aggError": "",
       "aggOverflow": false,
       "aggSchema": [],
       "aggSeriesLimitReached": false,
       "aggType": "",
       "arguments": {},
       "columnCustomDisplayInfos": {},
       "data": [
        [
         "Treinamento Moderado",
         6868,
         1756,
         "25.56785090273733"
        ],
        [
         "Pouco Treinamento",
         3704,
         935,
         "25.24298056155508"
        ],
        [
         "Muito Treinamento",
         8586,
         2086,
         "24.29536454693687"
        ]
       ],
       "datasetInfos": [],
       "dbfsResultPath": null,
       "isJsonSchema": true,
       "metadata": {},
       "overflow": false,
       "plotOptions": {
        "customPlotOptions": {},
        "displayType": "table",
        "pivotAggregation": null,
        "pivotColumns": null,
        "xColumns": null,
        "yColumns": null
       },
       "removedWidgets": [],
       "schema": [
        {
         "metadata": "{}",
         "name": "categoria_treinamento",
         "type": "\"string\""
        },
        {
         "metadata": "{}",
         "name": "total_candidatos",
         "type": "\"long\""
        },
        {
         "metadata": "{}",
         "name": "total_querem_trocar",
         "type": "\"long\""
        },
        {
         "metadata": "{}",
         "name": "percentual_troca",
         "type": "\"decimal(38,14)\""
        }
       ],
       "type": "table"
      }
     },
     "output_type": "display_data"
    }
   ],
   "source": [
    "%sql\n",
    "SELECT \n",
    "    CASE \n",
    "        WHEN f.training_hours < 20 THEN 'Pouco Treinamento'\n",
    "        WHEN f.training_hours BETWEEN 20 AND 50 THEN 'Treinamento Moderado'\n",
    "        ELSE 'Muito Treinamento'\n",
    "    END AS categoria_treinamento,\n",
    "    COUNT(*) AS total_candidatos,\n",
    "    SUM(f.target) AS total_querem_trocar,\n",
    "    (SUM(f.target) * 100.0 / COUNT(*)) AS percentual_troca\n",
    "FROM fact_jobs f\n",
    "GROUP BY categoria_treinamento\n",
    "ORDER BY percentual_troca DESC;\n"
   ]
  },
  {
   "cell_type": "code",
   "execution_count": 0,
   "metadata": {
    "application/vnd.databricks.v1+cell": {
     "cellMetadata": {
      "byteLimit": 2048000,
      "implicitDf": true,
      "rowLimit": 10000
     },
     "inputWidgets": {},
     "nuid": "b0ae3d4c-7b7c-46e0-8638-ec4e93460d11",
     "showTitle": true,
     "tableResultSettingsMap": {},
     "title": "7. Qual o impacto do tamanho da empresa na retenção de talentos?"
    }
   },
   "outputs": [
    {
     "output_type": "display_data",
     "data": {
      "text/html": [
       "<style scoped>\n",
       "  .table-result-container {\n",
       "    max-height: 300px;\n",
       "    overflow: auto;\n",
       "  }\n",
       "  table, th, td {\n",
       "    border: 1px solid black;\n",
       "    border-collapse: collapse;\n",
       "  }\n",
       "  th, td {\n",
       "    padding: 5px;\n",
       "  }\n",
       "  th {\n",
       "    text-align: left;\n",
       "  }\n",
       "</style><div class='table-result-container'><table class='table-result'><thead style='background-color: white'><tr><th>company_size</th><th>total_candidatos</th><th>candidatos_retidos</th><th>percentual_retencao</th></tr></thead><tbody><tr><td>1000-4999</td><td>1328</td><td>1128</td><td>84.93975903614458</td></tr><tr><td>100-500</td><td>2571</td><td>2156</td><td>83.85842084791910</td></tr><tr><td><10</td><td>1308</td><td>1084</td><td>82.87461773700306</td></tr><tr><td>500-999</td><td>877</td><td>725</td><td>82.66818700114025</td></tr><tr><td>50-99</td><td>3083</td><td>2538</td><td>82.32241323386312</td></tr><tr><td>5000-9999</td><td>563</td><td>461</td><td>81.88277087033748</td></tr><tr><td>10000+</td><td>2019</td><td>1634</td><td>80.93115403665181</td></tr><tr><td>10/49</td><td>1471</td><td>1127</td><td>76.61454792658056</td></tr><tr><td>Not informed</td><td>5938</td><td>3528</td><td>59.41394408891883</td></tr></tbody></table></div>"
      ]
     },
     "metadata": {
      "application/vnd.databricks.v1+output": {
       "addedWidgets": {},
       "aggData": [],
       "aggError": "",
       "aggOverflow": false,
       "aggSchema": [],
       "aggSeriesLimitReached": false,
       "aggType": "",
       "arguments": {},
       "columnCustomDisplayInfos": {},
       "data": [
        [
         "1000-4999",
         1328,
         1128,
         "84.93975903614458"
        ],
        [
         "100-500",
         2571,
         2156,
         "83.85842084791910"
        ],
        [
         "<10",
         1308,
         1084,
         "82.87461773700306"
        ],
        [
         "500-999",
         877,
         725,
         "82.66818700114025"
        ],
        [
         "50-99",
         3083,
         2538,
         "82.32241323386312"
        ],
        [
         "5000-9999",
         563,
         461,
         "81.88277087033748"
        ],
        [
         "10000+",
         2019,
         1634,
         "80.93115403665181"
        ],
        [
         "10/49",
         1471,
         1127,
         "76.61454792658056"
        ],
        [
         "Not informed",
         5938,
         3528,
         "59.41394408891883"
        ]
       ],
       "datasetInfos": [],
       "dbfsResultPath": null,
       "isJsonSchema": true,
       "metadata": {},
       "overflow": false,
       "plotOptions": {
        "customPlotOptions": {},
        "displayType": "table",
        "pivotAggregation": null,
        "pivotColumns": null,
        "xColumns": null,
        "yColumns": null
       },
       "removedWidgets": [],
       "schema": [
        {
         "metadata": "{}",
         "name": "company_size",
         "type": "\"string\""
        },
        {
         "metadata": "{}",
         "name": "total_candidatos",
         "type": "\"long\""
        },
        {
         "metadata": "{}",
         "name": "candidatos_retidos",
         "type": "\"long\""
        },
        {
         "metadata": "{}",
         "name": "percentual_retencao",
         "type": "\"decimal(38,14)\""
        }
       ],
       "type": "table"
      }
     },
     "output_type": "display_data"
    }
   ],
   "source": [
    "%sql\n",
    "SELECT e.company_size,\n",
    "       COUNT(*) AS total_candidatos,\n",
    "       SUM(CASE WHEN f.target = 0 THEN 1 ELSE 0 END) AS candidatos_retidos,\n",
    "       (SUM(CASE WHEN f.target = 0 THEN 1 ELSE 0 END) * 100.0 / COUNT(*)) AS percentual_retencao\n",
    "FROM fact_jobs f\n",
    "JOIN dim_company e ON f.id_company = e.id_company\n",
    "GROUP BY e.company_size\n",
    "ORDER BY percentual_retencao DESC;\n"
   ]
  },
  {
   "cell_type": "code",
   "execution_count": 0,
   "metadata": {
    "application/vnd.databricks.v1+cell": {
     "cellMetadata": {
      "byteLimit": 2048000,
      "implicitDf": true,
      "rowLimit": 10000
     },
     "inputWidgets": {},
     "nuid": "c878048a-804f-4d46-ade0-60cc058ed2a7",
     "showTitle": true,
     "tableResultSettingsMap": {},
     "title": "8. Empresas privadas (Pvt Ltd) perdem mais funcionários do que startups?"
    }
   },
   "outputs": [
    {
     "output_type": "display_data",
     "data": {
      "text/html": [
       "<style scoped>\n",
       "  .table-result-container {\n",
       "    max-height: 300px;\n",
       "    overflow: auto;\n",
       "  }\n",
       "  table, th, td {\n",
       "    border: 1px solid black;\n",
       "    border-collapse: collapse;\n",
       "  }\n",
       "  th, td {\n",
       "    padding: 5px;\n",
       "  }\n",
       "  th {\n",
       "    text-align: left;\n",
       "  }\n",
       "</style><div class='table-result-container'><table class='table-result'><thead style='background-color: white'><tr><th>company_type</th><th>total_candidatos</th><th>total_querem_trocar</th><th>percentual_troca</th></tr></thead><tbody><tr><td>Early Stage Startup</td><td>603</td><td>142</td><td>23.54892205638474</td></tr><tr><td>Pvt Ltd</td><td>9817</td><td>1775</td><td>18.08088010593868</td></tr><tr><td>Funded Startup</td><td>1001</td><td>140</td><td>13.98601398601399</td></tr></tbody></table></div>"
      ]
     },
     "metadata": {
      "application/vnd.databricks.v1+output": {
       "addedWidgets": {},
       "aggData": [],
       "aggError": "",
       "aggOverflow": false,
       "aggSchema": [],
       "aggSeriesLimitReached": false,
       "aggType": "",
       "arguments": {},
       "columnCustomDisplayInfos": {},
       "data": [
        [
         "Early Stage Startup",
         603,
         142,
         "23.54892205638474"
        ],
        [
         "Pvt Ltd",
         9817,
         1775,
         "18.08088010593868"
        ],
        [
         "Funded Startup",
         1001,
         140,
         "13.98601398601399"
        ]
       ],
       "datasetInfos": [],
       "dbfsResultPath": null,
       "isJsonSchema": true,
       "metadata": {},
       "overflow": false,
       "plotOptions": {
        "customPlotOptions": {},
        "displayType": "table",
        "pivotAggregation": null,
        "pivotColumns": null,
        "xColumns": null,
        "yColumns": null
       },
       "removedWidgets": [],
       "schema": [
        {
         "metadata": "{}",
         "name": "company_type",
         "type": "\"string\""
        },
        {
         "metadata": "{}",
         "name": "total_candidatos",
         "type": "\"long\""
        },
        {
         "metadata": "{}",
         "name": "total_querem_trocar",
         "type": "\"long\""
        },
        {
         "metadata": "{}",
         "name": "percentual_troca",
         "type": "\"decimal(38,14)\""
        }
       ],
       "type": "table"
      }
     },
     "output_type": "display_data"
    }
   ],
   "source": [
    "%sql\n",
    "SELECT e.company_type,\n",
    "       COUNT(*) AS total_candidatos,\n",
    "       SUM(f.target) AS total_querem_trocar,\n",
    "       (SUM(f.target) * 100.0 / COUNT(*)) AS percentual_troca\n",
    "FROM fact_jobs f\n",
    "JOIN dim_company e ON f.id_company = e.id_company\n",
    "WHERE e.company_type IN ('Pvt Ltd', 'Early Stage Startup', 'Funded Startup')\n",
    "GROUP BY e.company_type\n",
    "ORDER BY percentual_troca DESC;\n"
   ]
  },
  {
   "cell_type": "code",
   "execution_count": 0,
   "metadata": {
    "application/vnd.databricks.v1+cell": {
     "cellMetadata": {
      "byteLimit": 2048000,
      "implicitDf": true,
      "rowLimit": 10000
     },
     "inputWidgets": {},
     "nuid": "d3b402cc-242f-4b7f-bc36-ba897c7db773",
     "showTitle": true,
     "tableResultSettingsMap": {},
     "title": "9. Em quais cidades há maior concentração de profissionais de ciência de dados?"
    }
   },
   "outputs": [
    {
     "output_type": "display_data",
     "data": {
      "text/html": [
       "<style scoped>\n",
       "  .table-result-container {\n",
       "    max-height: 300px;\n",
       "    overflow: auto;\n",
       "  }\n",
       "  table, th, td {\n",
       "    border: 1px solid black;\n",
       "    border-collapse: collapse;\n",
       "  }\n",
       "  th, td {\n",
       "    padding: 5px;\n",
       "  }\n",
       "  th {\n",
       "    text-align: left;\n",
       "  }\n",
       "</style><div class='table-result-container'><table class='table-result'><thead style='background-color: white'><tr><th>id_city</th><th>city_development_index</th><th>total_candidatos</th></tr></thead><tbody><tr><td>103</td><td>0.919</td><td>4355</td></tr><tr><td>21</td><td>0.632</td><td>2702</td></tr><tr><td>16</td><td>0.91</td><td>1533</td></tr><tr><td>114</td><td>0.925</td><td>1336</td></tr><tr><td>160</td><td>0.92</td><td>845</td></tr><tr><td>136</td><td>0.897</td><td>586</td></tr><tr><td>67</td><td>0.856</td><td>431</td></tr><tr><td>75</td><td>0.938</td><td>305</td></tr><tr><td>102</td><td>0.807</td><td>304</td></tr><tr><td>104</td><td>0.923</td><td>301</td></tr></tbody></table></div>"
      ]
     },
     "metadata": {
      "application/vnd.databricks.v1+output": {
       "addedWidgets": {},
       "aggData": [],
       "aggError": "",
       "aggOverflow": false,
       "aggSchema": [],
       "aggSeriesLimitReached": false,
       "aggType": "",
       "arguments": {},
       "columnCustomDisplayInfos": {},
       "data": [
        [
         103,
         0.919,
         4355
        ],
        [
         21,
         0.632,
         2702
        ],
        [
         16,
         0.91,
         1533
        ],
        [
         114,
         0.925,
         1336
        ],
        [
         160,
         0.92,
         845
        ],
        [
         136,
         0.897,
         586
        ],
        [
         67,
         0.856,
         431
        ],
        [
         75,
         0.938,
         305
        ],
        [
         102,
         0.807,
         304
        ],
        [
         104,
         0.923,
         301
        ]
       ],
       "datasetInfos": [],
       "dbfsResultPath": null,
       "isJsonSchema": true,
       "metadata": {},
       "overflow": false,
       "plotOptions": {
        "customPlotOptions": {},
        "displayType": "table",
        "pivotAggregation": null,
        "pivotColumns": null,
        "xColumns": null,
        "yColumns": null
       },
       "removedWidgets": [],
       "schema": [
        {
         "metadata": "{}",
         "name": "id_city",
         "type": "\"integer\""
        },
        {
         "metadata": "{}",
         "name": "city_development_index",
         "type": "\"double\""
        },
        {
         "metadata": "{}",
         "name": "total_candidatos",
         "type": "\"long\""
        }
       ],
       "type": "table"
      }
     },
     "output_type": "display_data"
    }
   ],
   "source": [
    "%sql\n",
    "SELECT l.id_city, l.city_development_index, COUNT(*) AS total_candidatos\n",
    "FROM fact_jobs f\n",
    "JOIN dim_city l ON f.id_city = l.id_city\n",
    "GROUP BY l.id_city, l.city_development_index\n",
    "ORDER BY total_candidatos DESC\n",
    "LIMIT 10;\n"
   ]
  },
  {
   "cell_type": "code",
   "execution_count": 0,
   "metadata": {
    "application/vnd.databricks.v1+cell": {
     "cellMetadata": {
      "byteLimit": 2048000,
      "implicitDf": true,
      "rowLimit": 10000
     },
     "inputWidgets": {},
     "nuid": "f9b72ed8-da26-45eb-922d-c883c916984e",
     "showTitle": true,
     "tableResultSettingsMap": {},
     "title": "10. O índice de desenvolvimento da cidade (city_development_index) tem impacto na retenção de talentos?"
    }
   },
   "outputs": [
    {
     "output_type": "display_data",
     "data": {
      "text/html": [
       "<style scoped>\n",
       "  .table-result-container {\n",
       "    max-height: 300px;\n",
       "    overflow: auto;\n",
       "  }\n",
       "  table, th, td {\n",
       "    border: 1px solid black;\n",
       "    border-collapse: collapse;\n",
       "  }\n",
       "  th, td {\n",
       "    padding: 5px;\n",
       "  }\n",
       "  th {\n",
       "    text-align: left;\n",
       "  }\n",
       "</style><div class='table-result-container'><table class='table-result'><thead style='background-color: white'><tr><th>id_city</th><th>cdi_arredondado</th><th>total_candidatos</th><th>candidatos_retidos</th><th>percentual_retencao</th></tr></thead><tbody><tr><td>98</td><td>0.95</td><td>79</td><td>71</td><td>89.87341772151899</td></tr><tr><td>75</td><td>0.94</td><td>305</td><td>274</td><td>89.83606557377049</td></tr><tr><td>28</td><td>0.94</td><td>192</td><td>177</td><td>92.18750000000000</td></tr><tr><td>114</td><td>0.93</td><td>1336</td><td>1203</td><td>90.04491017964072</td></tr><tr><td>97</td><td>0.93</td><td>104</td><td>96</td><td>92.30769230769231</td></tr><tr><td>89</td><td>0.92</td><td>67</td><td>51</td><td>76.11940298507463</td></tr><tr><td>104</td><td>0.92</td><td>301</td><td>273</td><td>90.69767441860465</td></tr><tr><td>83</td><td>0.92</td><td>143</td><td>120</td><td>83.91608391608392</td></tr><tr><td>167</td><td>0.92</td><td>10</td><td>7</td><td>70.00000000000000</td></tr><tr><td>160</td><td>0.92</td><td>845</td><td>646</td><td>76.44970414201183</td></tr></tbody></table></div>"
      ]
     },
     "metadata": {
      "application/vnd.databricks.v1+output": {
       "addedWidgets": {},
       "aggData": [],
       "aggError": "",
       "aggOverflow": false,
       "aggSchema": [],
       "aggSeriesLimitReached": false,
       "aggType": "",
       "arguments": {},
       "columnCustomDisplayInfos": {},
       "data": [
        [
         98,
         0.95,
         79,
         71,
         "89.87341772151899"
        ],
        [
         75,
         0.94,
         305,
         274,
         "89.83606557377049"
        ],
        [
         28,
         0.94,
         192,
         177,
         "92.18750000000000"
        ],
        [
         114,
         0.93,
         1336,
         1203,
         "90.04491017964072"
        ],
        [
         97,
         0.93,
         104,
         96,
         "92.30769230769231"
        ],
        [
         89,
         0.92,
         67,
         51,
         "76.11940298507463"
        ],
        [
         104,
         0.92,
         301,
         273,
         "90.69767441860465"
        ],
        [
         83,
         0.92,
         143,
         120,
         "83.91608391608392"
        ],
        [
         167,
         0.92,
         10,
         7,
         "70.00000000000000"
        ],
        [
         160,
         0.92,
         845,
         646,
         "76.44970414201183"
        ]
       ],
       "datasetInfos": [],
       "dbfsResultPath": null,
       "isJsonSchema": true,
       "metadata": {},
       "overflow": false,
       "plotOptions": {
        "customPlotOptions": {},
        "displayType": "table",
        "pivotAggregation": null,
        "pivotColumns": null,
        "xColumns": null,
        "yColumns": null
       },
       "removedWidgets": [],
       "schema": [
        {
         "metadata": "{}",
         "name": "id_city",
         "type": "\"integer\""
        },
        {
         "metadata": "{}",
         "name": "cdi_arredondado",
         "type": "\"double\""
        },
        {
         "metadata": "{}",
         "name": "total_candidatos",
         "type": "\"long\""
        },
        {
         "metadata": "{}",
         "name": "candidatos_retidos",
         "type": "\"long\""
        },
        {
         "metadata": "{}",
         "name": "percentual_retencao",
         "type": "\"decimal(38,14)\""
        }
       ],
       "type": "table"
      }
     },
     "output_type": "display_data"
    }
   ],
   "source": [
    "%sql\n",
    "SELECT \n",
    "    l.id_city,\n",
    "    ROUND(l.city_development_index, 2) AS cdi_arredondado,\n",
    "    COUNT(*) AS total_candidatos,\n",
    "    SUM(CASE WHEN f.target = 0 THEN 1 ELSE 0 END) AS candidatos_retidos,\n",
    "    (SUM(CASE WHEN f.target = 0 THEN 1 ELSE 0 END) * 100.0 / COUNT(*)) AS percentual_retencao\n",
    "FROM fact_jobs f\n",
    "JOIN dim_city l ON f.id_city = l.id_city\n",
    "GROUP BY l.id_city, l.city_development_index\n",
    "ORDER BY l.city_development_index DESC\n",
    "LIMIT 10;\n"
   ]
  },
  {
   "cell_type": "code",
   "execution_count": 0,
   "metadata": {
    "application/vnd.databricks.v1+cell": {
     "cellMetadata": {
      "byteLimit": 2048000,
      "implicitDf": true,
      "rowLimit": 10000
     },
     "inputWidgets": {},
     "nuid": "24a3f1c3-6799-417a-b246-0c65ea3bab10",
     "showTitle": true,
     "tableResultSettingsMap": {},
     "title": "11.Qual o porte das empresas que mais contratam profissionais de ciência de dados?"
    }
   },
   "outputs": [
    {
     "output_type": "display_data",
     "data": {
      "text/html": [
       "<style scoped>\n",
       "  .table-result-container {\n",
       "    max-height: 300px;\n",
       "    overflow: auto;\n",
       "  }\n",
       "  table, th, td {\n",
       "    border: 1px solid black;\n",
       "    border-collapse: collapse;\n",
       "  }\n",
       "  th, td {\n",
       "    padding: 5px;\n",
       "  }\n",
       "  th {\n",
       "    text-align: left;\n",
       "  }\n",
       "</style><div class='table-result-container'><table class='table-result'><thead style='background-color: white'><tr><th>company_size</th><th>total_candidatos</th></tr></thead><tbody><tr><td>Not informed</td><td>5938</td></tr><tr><td>50-99</td><td>3083</td></tr><tr><td>100-500</td><td>2571</td></tr><tr><td>10000+</td><td>2019</td></tr><tr><td>10/49</td><td>1471</td></tr><tr><td>1000-4999</td><td>1328</td></tr><tr><td><10</td><td>1308</td></tr><tr><td>500-999</td><td>877</td></tr><tr><td>5000-9999</td><td>563</td></tr></tbody></table></div>"
      ]
     },
     "metadata": {
      "application/vnd.databricks.v1+output": {
       "addedWidgets": {},
       "aggData": [],
       "aggError": "",
       "aggOverflow": false,
       "aggSchema": [],
       "aggSeriesLimitReached": false,
       "aggType": "",
       "arguments": {},
       "columnCustomDisplayInfos": {},
       "data": [
        [
         "Not informed",
         5938
        ],
        [
         "50-99",
         3083
        ],
        [
         "100-500",
         2571
        ],
        [
         "10000+",
         2019
        ],
        [
         "10/49",
         1471
        ],
        [
         "1000-4999",
         1328
        ],
        [
         "<10",
         1308
        ],
        [
         "500-999",
         877
        ],
        [
         "5000-9999",
         563
        ]
       ],
       "datasetInfos": [],
       "dbfsResultPath": null,
       "isJsonSchema": true,
       "metadata": {},
       "overflow": false,
       "plotOptions": {
        "customPlotOptions": {},
        "displayType": "table",
        "pivotAggregation": null,
        "pivotColumns": null,
        "xColumns": null,
        "yColumns": null
       },
       "removedWidgets": [],
       "schema": [
        {
         "metadata": "{}",
         "name": "company_size",
         "type": "\"string\""
        },
        {
         "metadata": "{}",
         "name": "total_candidatos",
         "type": "\"long\""
        }
       ],
       "type": "table"
      }
     },
     "output_type": "display_data"
    }
   ],
   "source": [
    "%sql\n",
    "SELECT e.company_size, COUNT(*) AS total_candidatos\n",
    "FROM fact_jobs f\n",
    "JOIN dim_company e ON f.id_company = e.id_company\n",
    "GROUP BY e.company_size\n",
    "ORDER BY total_candidatos DESC;\n"
   ]
  },
  {
   "cell_type": "code",
   "execution_count": 0,
   "metadata": {
    "application/vnd.databricks.v1+cell": {
     "cellMetadata": {
      "byteLimit": 2048000,
      "implicitDf": true,
      "rowLimit": 10000
     },
     "inputWidgets": {},
     "nuid": "a9f4a540-8097-4367-9c87-6635da533463",
     "showTitle": true,
     "tableResultSettingsMap": {},
     "title": "12.Startups contratam mais profissionais juniores ou seniores?"
    }
   },
   "outputs": [
    {
     "output_type": "display_data",
     "data": {
      "text/html": [
       "<style scoped>\n",
       "  .table-result-container {\n",
       "    max-height: 300px;\n",
       "    overflow: auto;\n",
       "  }\n",
       "  table, th, td {\n",
       "    border: 1px solid black;\n",
       "    border-collapse: collapse;\n",
       "  }\n",
       "  th, td {\n",
       "    padding: 5px;\n",
       "  }\n",
       "  th {\n",
       "    text-align: left;\n",
       "  }\n",
       "</style><div class='table-result-container'><table class='table-result'><thead style='background-color: white'><tr><th>experience_group</th><th>total_candidatos</th></tr></thead><tbody><tr><td>Sênior</td><td>1082</td></tr><tr><td>Pleno</td><td>363</td></tr><tr><td>Júnior</td><td>159</td></tr></tbody></table></div>"
      ]
     },
     "metadata": {
      "application/vnd.databricks.v1+output": {
       "addedWidgets": {},
       "aggData": [],
       "aggError": "",
       "aggOverflow": false,
       "aggSchema": [],
       "aggSeriesLimitReached": false,
       "aggType": "",
       "arguments": {},
       "columnCustomDisplayInfos": {},
       "data": [
        [
         "Sênior",
         1082
        ],
        [
         "Pleno",
         363
        ],
        [
         "Júnior",
         159
        ]
       ],
       "datasetInfos": [],
       "dbfsResultPath": null,
       "isJsonSchema": true,
       "metadata": {},
       "overflow": false,
       "plotOptions": {
        "customPlotOptions": {},
        "displayType": "table",
        "pivotAggregation": null,
        "pivotColumns": null,
        "xColumns": null,
        "yColumns": null
       },
       "removedWidgets": [],
       "schema": [
        {
         "metadata": "{}",
         "name": "experience_group",
         "type": "\"string\""
        },
        {
         "metadata": "{}",
         "name": "total_candidatos",
         "type": "\"long\""
        }
       ],
       "type": "table"
      }
     },
     "output_type": "display_data"
    }
   ],
   "source": [
    "%sql\n",
    "SELECT p.experience_group, COUNT(*) AS total_candidatos\n",
    "FROM fact_jobs f\n",
    "JOIN dim_company e ON f.id_company = e.id_company\n",
    "JOIN dim_professional p ON f.id_professional = p.id_professional\n",
    "WHERE e.company_type IN ('Early Stage Startup', 'Funded Startup')\n",
    "GROUP BY p.experience_group\n",
    "ORDER BY total_candidatos DESC;\n"
   ]
  },
  {
   "cell_type": "code",
   "execution_count": 0,
   "metadata": {
    "application/vnd.databricks.v1+cell": {
     "cellMetadata": {
      "byteLimit": 2048000,
      "implicitDf": true,
      "rowLimit": 10000
     },
     "inputWidgets": {},
     "nuid": "4786b93a-7a6c-4082-9db8-38e2905615b8",
     "showTitle": true,
     "tableResultSettingsMap": {},
     "title": "13.Empresas grandes (5000+ funcionários) investem mais em treinamento do que empresas pequenas?"
    }
   },
   "outputs": [
    {
     "output_type": "display_data",
     "data": {
      "text/html": [
       "<style scoped>\n",
       "  .table-result-container {\n",
       "    max-height: 300px;\n",
       "    overflow: auto;\n",
       "  }\n",
       "  table, th, td {\n",
       "    border: 1px solid black;\n",
       "    border-collapse: collapse;\n",
       "  }\n",
       "  th, td {\n",
       "    padding: 5px;\n",
       "  }\n",
       "  th {\n",
       "    text-align: left;\n",
       "  }\n",
       "</style><div class='table-result-container'><table class='table-result'><thead style='background-color: white'><tr><th>porte_empresa</th><th>media_horas_treinamento</th></tr></thead><tbody><tr><td>Pequena</td><td>65.1581442114335</td></tr><tr><td>Média</td><td>64.1251300187227</td></tr><tr><td>Grande</td><td>63.51781564678544</td></tr></tbody></table></div>"
      ]
     },
     "metadata": {
      "application/vnd.databricks.v1+output": {
       "addedWidgets": {},
       "aggData": [],
       "aggError": "",
       "aggOverflow": false,
       "aggSchema": [],
       "aggSeriesLimitReached": false,
       "aggType": "",
       "arguments": {},
       "columnCustomDisplayInfos": {},
       "data": [
        [
         "Pequena",
         65.1581442114335
        ],
        [
         "Média",
         64.1251300187227
        ],
        [
         "Grande",
         63.51781564678544
        ]
       ],
       "datasetInfos": [],
       "dbfsResultPath": null,
       "isJsonSchema": true,
       "metadata": {},
       "overflow": false,
       "plotOptions": {
        "customPlotOptions": {},
        "displayType": "table",
        "pivotAggregation": null,
        "pivotColumns": null,
        "xColumns": null,
        "yColumns": null
       },
       "removedWidgets": [],
       "schema": [
        {
         "metadata": "{}",
         "name": "porte_empresa",
         "type": "\"string\""
        },
        {
         "metadata": "{}",
         "name": "media_horas_treinamento",
         "type": "\"double\""
        }
       ],
       "type": "table"
      }
     },
     "output_type": "display_data"
    }
   ],
   "source": [
    "%sql\n",
    "SELECT \n",
    "    CASE \n",
    "        WHEN e.company_size IN ('5000-9999', '10000+') THEN 'Grande'\n",
    "        WHEN e.company_size IN ('<10', '10-49', '50-99', '100-500') THEN 'Pequena'\n",
    "        ELSE 'Média'\n",
    "    END AS porte_empresa,\n",
    "    AVG(f.training_hours) AS media_horas_treinamento\n",
    "FROM fact_jobs f\n",
    "JOIN dim_company e ON f.id_company = e.id_company\n",
    "GROUP BY porte_empresa\n",
    "ORDER BY media_horas_treinamento DESC;\n"
   ]
  },
  {
   "cell_type": "code",
   "execution_count": 0,
   "metadata": {
    "application/vnd.databricks.v1+cell": {
     "cellMetadata": {
      "byteLimit": 2048000,
      "implicitDf": true,
      "rowLimit": 10000
     },
     "inputWidgets": {},
     "nuid": "8484d63b-37cf-4d30-9ab9-f78ebd77aa9e",
     "showTitle": false,
     "tableResultSettingsMap": {},
     "title": ""
    }
   },
   "outputs": [
    {
     "output_type": "display_data",
     "data": {
      "text/html": [
       "<style scoped>\n",
       "  .table-result-container {\n",
       "    max-height: 300px;\n",
       "    overflow: auto;\n",
       "  }\n",
       "  table, th, td {\n",
       "    border: 1px solid black;\n",
       "    border-collapse: collapse;\n",
       "  }\n",
       "  th, td {\n",
       "    padding: 5px;\n",
       "  }\n",
       "  th {\n",
       "    text-align: left;\n",
       "  }\n",
       "</style><div class='table-result-container'><table class='table-result'><thead style='background-color: white'><tr><th>version</th><th>timestamp</th><th>userId</th><th>userName</th><th>operation</th><th>operationParameters</th><th>job</th><th>notebook</th><th>clusterId</th><th>readVersion</th><th>isolationLevel</th><th>isBlindAppend</th><th>operationMetrics</th><th>userMetadata</th><th>engineInfo</th></tr></thead><tbody><tr><td>2</td><td>2025-04-02T01:05:04.000+0000</td><td>6455969076690851</td><td>nahanni.rodrigues@gmail.com</td><td>WRITE</td><td>Map(mode -> Append, partitionBy -> [])</td><td>null</td><td>List(569861263619356)</td><td>0402-005703-j5o9eny0</td><td>1</td><td>WriteSerializable</td><td>true</td><td>Map(numFiles -> 1, numOutputRows -> 9498, numOutputBytes -> 107705)</td><td>null</td><td>Databricks-Runtime/12.2.x-scala2.12</td></tr><tr><td>1</td><td>2025-04-02T01:04:57.000+0000</td><td>6455969076690851</td><td>nahanni.rodrigues@gmail.com</td><td>WRITE</td><td>Map(mode -> Append, partitionBy -> [])</td><td>null</td><td>List(569861263619356)</td><td>0402-005703-j5o9eny0</td><td>0</td><td>WriteSerializable</td><td>true</td><td>Map(numFiles -> 1, numOutputRows -> 9660, numOutputBytes -> 110224)</td><td>null</td><td>Databricks-Runtime/12.2.x-scala2.12</td></tr><tr><td>0</td><td>2025-04-02T01:04:46.000+0000</td><td>6455969076690851</td><td>nahanni.rodrigues@gmail.com</td><td>CREATE TABLE</td><td>Map(isManaged -> true, description -> null, partitionBy -> [], properties -> {})</td><td>null</td><td>List(569861263619356)</td><td>0402-005703-j5o9eny0</td><td>null</td><td>WriteSerializable</td><td>true</td><td>Map()</td><td>null</td><td>Databricks-Runtime/12.2.x-scala2.12</td></tr></tbody></table></div>"
      ]
     },
     "metadata": {
      "application/vnd.databricks.v1+output": {
       "addedWidgets": {},
       "aggData": [],
       "aggError": "",
       "aggOverflow": false,
       "aggSchema": [],
       "aggSeriesLimitReached": false,
       "aggType": "",
       "arguments": {},
       "columnCustomDisplayInfos": {},
       "data": [
        [
         2,
         "2025-04-02T01:05:04.000+0000",
         "6455969076690851",
         "nahanni.rodrigues@gmail.com",
         "WRITE",
         {
          "mode": "Append",
          "partitionBy": "[]"
         },
         null,
         [
          "569861263619356"
         ],
         "0402-005703-j5o9eny0",
         1,
         "WriteSerializable",
         true,
         {
          "numFiles": "1",
          "numOutputBytes": "107705",
          "numOutputRows": "9498"
         },
         null,
         "Databricks-Runtime/12.2.x-scala2.12"
        ],
        [
         1,
         "2025-04-02T01:04:57.000+0000",
         "6455969076690851",
         "nahanni.rodrigues@gmail.com",
         "WRITE",
         {
          "mode": "Append",
          "partitionBy": "[]"
         },
         null,
         [
          "569861263619356"
         ],
         "0402-005703-j5o9eny0",
         0,
         "WriteSerializable",
         true,
         {
          "numFiles": "1",
          "numOutputBytes": "110224",
          "numOutputRows": "9660"
         },
         null,
         "Databricks-Runtime/12.2.x-scala2.12"
        ],
        [
         0,
         "2025-04-02T01:04:46.000+0000",
         "6455969076690851",
         "nahanni.rodrigues@gmail.com",
         "CREATE TABLE",
         {
          "description": null,
          "isManaged": "true",
          "partitionBy": "[]",
          "properties": "{}"
         },
         null,
         [
          "569861263619356"
         ],
         "0402-005703-j5o9eny0",
         null,
         "WriteSerializable",
         true,
         {},
         null,
         "Databricks-Runtime/12.2.x-scala2.12"
        ]
       ],
       "datasetInfos": [],
       "dbfsResultPath": null,
       "isJsonSchema": true,
       "metadata": {},
       "overflow": false,
       "plotOptions": {
        "customPlotOptions": {},
        "displayType": "table",
        "pivotAggregation": null,
        "pivotColumns": null,
        "xColumns": null,
        "yColumns": null
       },
       "removedWidgets": [],
       "schema": [
        {
         "metadata": "{}",
         "name": "version",
         "type": "\"long\""
        },
        {
         "metadata": "{}",
         "name": "timestamp",
         "type": "\"timestamp\""
        },
        {
         "metadata": "{}",
         "name": "userId",
         "type": "\"string\""
        },
        {
         "metadata": "{}",
         "name": "userName",
         "type": "\"string\""
        },
        {
         "metadata": "{}",
         "name": "operation",
         "type": "\"string\""
        },
        {
         "metadata": "{}",
         "name": "operationParameters",
         "type": "{\"type\":\"map\",\"keyType\":\"string\",\"valueType\":\"string\",\"valueContainsNull\":true}"
        },
        {
         "metadata": "{}",
         "name": "job",
         "type": "{\"type\":\"struct\",\"fields\":[{\"name\":\"jobId\",\"type\":\"string\",\"nullable\":true,\"metadata\":{}},{\"name\":\"jobName\",\"type\":\"string\",\"nullable\":true,\"metadata\":{}},{\"name\":\"jobRunId\",\"type\":\"string\",\"nullable\":true,\"metadata\":{}},{\"name\":\"runId\",\"type\":\"string\",\"nullable\":true,\"metadata\":{}},{\"name\":\"jobOwnerId\",\"type\":\"string\",\"nullable\":true,\"metadata\":{}},{\"name\":\"triggerType\",\"type\":\"string\",\"nullable\":true,\"metadata\":{}}]}"
        },
        {
         "metadata": "{}",
         "name": "notebook",
         "type": "{\"type\":\"struct\",\"fields\":[{\"name\":\"notebookId\",\"type\":\"string\",\"nullable\":true,\"metadata\":{}}]}"
        },
        {
         "metadata": "{}",
         "name": "clusterId",
         "type": "\"string\""
        },
        {
         "metadata": "{}",
         "name": "readVersion",
         "type": "\"long\""
        },
        {
         "metadata": "{}",
         "name": "isolationLevel",
         "type": "\"string\""
        },
        {
         "metadata": "{}",
         "name": "isBlindAppend",
         "type": "\"boolean\""
        },
        {
         "metadata": "{}",
         "name": "operationMetrics",
         "type": "{\"type\":\"map\",\"keyType\":\"string\",\"valueType\":\"string\",\"valueContainsNull\":true}"
        },
        {
         "metadata": "{}",
         "name": "userMetadata",
         "type": "\"string\""
        },
        {
         "metadata": "{}",
         "name": "engineInfo",
         "type": "\"string\""
        }
       ],
       "type": "table"
      }
     },
     "output_type": "display_data"
    }
   ],
   "source": [
    "%sql\n",
    "DESCRIBE HISTORY fact_jobs;"
   ]
  },
  {
   "cell_type": "code",
   "execution_count": 0,
   "metadata": {
    "application/vnd.databricks.v1+cell": {
     "cellMetadata": {
      "byteLimit": 2048000,
      "implicitDf": true,
      "rowLimit": 10000
     },
     "inputWidgets": {},
     "nuid": "ef16d98b-8a1b-426a-94a8-6283a6a00b10",
     "showTitle": false,
     "tableResultSettingsMap": {},
     "title": ""
    }
   },
   "outputs": [
    {
     "output_type": "display_data",
     "data": {
      "text/html": [
       "<style scoped>\n",
       "  .table-result-container {\n",
       "    max-height: 300px;\n",
       "    overflow: auto;\n",
       "  }\n",
       "  table, th, td {\n",
       "    border: 1px solid black;\n",
       "    border-collapse: collapse;\n",
       "  }\n",
       "  th, td {\n",
       "    padding: 5px;\n",
       "  }\n",
       "  th {\n",
       "    text-align: left;\n",
       "  }\n",
       "</style><div class='table-result-container'><table class='table-result'><thead style='background-color: white'><tr><th>version</th><th>timestamp</th><th>userId</th><th>userName</th><th>operation</th><th>operationParameters</th><th>job</th><th>notebook</th><th>clusterId</th><th>readVersion</th><th>isolationLevel</th><th>isBlindAppend</th><th>operationMetrics</th><th>userMetadata</th><th>engineInfo</th></tr></thead><tbody><tr><td>0</td><td>2025-04-02T01:04:11.000+0000</td><td>6455969076690851</td><td>nahanni.rodrigues@gmail.com</td><td>CREATE TABLE AS SELECT</td><td>Map(isManaged -> true, description -> null, partitionBy -> [], properties -> {})</td><td>null</td><td>List(569861263619356)</td><td>0402-005703-j5o9eny0</td><td>null</td><td>WriteSerializable</td><td>true</td><td>Map(numFiles -> 1, numOutputRows -> 123, numOutputBytes -> 2171)</td><td>null</td><td>Databricks-Runtime/12.2.x-scala2.12</td></tr></tbody></table></div>"
      ]
     },
     "metadata": {
      "application/vnd.databricks.v1+output": {
       "addedWidgets": {},
       "aggData": [],
       "aggError": "",
       "aggOverflow": false,
       "aggSchema": [],
       "aggSeriesLimitReached": false,
       "aggType": "",
       "arguments": {},
       "columnCustomDisplayInfos": {},
       "data": [
        [
         0,
         "2025-04-02T01:04:11.000+0000",
         "6455969076690851",
         "nahanni.rodrigues@gmail.com",
         "CREATE TABLE AS SELECT",
         {
          "description": null,
          "isManaged": "true",
          "partitionBy": "[]",
          "properties": "{}"
         },
         null,
         [
          "569861263619356"
         ],
         "0402-005703-j5o9eny0",
         null,
         "WriteSerializable",
         true,
         {
          "numFiles": "1",
          "numOutputBytes": "2171",
          "numOutputRows": "123"
         },
         null,
         "Databricks-Runtime/12.2.x-scala2.12"
        ]
       ],
       "datasetInfos": [],
       "dbfsResultPath": null,
       "isJsonSchema": true,
       "metadata": {},
       "overflow": false,
       "plotOptions": {
        "customPlotOptions": {},
        "displayType": "table",
        "pivotAggregation": null,
        "pivotColumns": null,
        "xColumns": null,
        "yColumns": null
       },
       "removedWidgets": [],
       "schema": [
        {
         "metadata": "{}",
         "name": "version",
         "type": "\"long\""
        },
        {
         "metadata": "{}",
         "name": "timestamp",
         "type": "\"timestamp\""
        },
        {
         "metadata": "{}",
         "name": "userId",
         "type": "\"string\""
        },
        {
         "metadata": "{}",
         "name": "userName",
         "type": "\"string\""
        },
        {
         "metadata": "{}",
         "name": "operation",
         "type": "\"string\""
        },
        {
         "metadata": "{}",
         "name": "operationParameters",
         "type": "{\"type\":\"map\",\"keyType\":\"string\",\"valueType\":\"string\",\"valueContainsNull\":true}"
        },
        {
         "metadata": "{}",
         "name": "job",
         "type": "{\"type\":\"struct\",\"fields\":[{\"name\":\"jobId\",\"type\":\"string\",\"nullable\":true,\"metadata\":{}},{\"name\":\"jobName\",\"type\":\"string\",\"nullable\":true,\"metadata\":{}},{\"name\":\"jobRunId\",\"type\":\"string\",\"nullable\":true,\"metadata\":{}},{\"name\":\"runId\",\"type\":\"string\",\"nullable\":true,\"metadata\":{}},{\"name\":\"jobOwnerId\",\"type\":\"string\",\"nullable\":true,\"metadata\":{}},{\"name\":\"triggerType\",\"type\":\"string\",\"nullable\":true,\"metadata\":{}}]}"
        },
        {
         "metadata": "{}",
         "name": "notebook",
         "type": "{\"type\":\"struct\",\"fields\":[{\"name\":\"notebookId\",\"type\":\"string\",\"nullable\":true,\"metadata\":{}}]}"
        },
        {
         "metadata": "{}",
         "name": "clusterId",
         "type": "\"string\""
        },
        {
         "metadata": "{}",
         "name": "readVersion",
         "type": "\"long\""
        },
        {
         "metadata": "{}",
         "name": "isolationLevel",
         "type": "\"string\""
        },
        {
         "metadata": "{}",
         "name": "isBlindAppend",
         "type": "\"boolean\""
        },
        {
         "metadata": "{}",
         "name": "operationMetrics",
         "type": "{\"type\":\"map\",\"keyType\":\"string\",\"valueType\":\"string\",\"valueContainsNull\":true}"
        },
        {
         "metadata": "{}",
         "name": "userMetadata",
         "type": "\"string\""
        },
        {
         "metadata": "{}",
         "name": "engineInfo",
         "type": "\"string\""
        }
       ],
       "type": "table"
      }
     },
     "output_type": "display_data"
    }
   ],
   "source": [
    "%sql\n",
    "DESCRIBE HISTORY dim_city;"
   ]
  },
  {
   "cell_type": "code",
   "execution_count": 0,
   "metadata": {
    "application/vnd.databricks.v1+cell": {
     "cellMetadata": {
      "byteLimit": 2048000,
      "rowLimit": 10000
     },
     "inputWidgets": {},
     "nuid": "788744c0-8f73-4c0d-b512-22e7e219ddcb",
     "showTitle": false,
     "tableResultSettingsMap": {},
     "title": ""
    }
   },
   "outputs": [
    {
     "output_type": "stream",
     "name": "stdout",
     "output_type": "stream",
     "text": [
      "Python interpreter will be restarted.\nCollecting networkx\n  Downloading networkx-3.2.1-py3-none-any.whl (1.6 MB)\nRequirement already satisfied: matplotlib in /databricks/python3/lib/python3.9/site-packages (3.5.1)\nRequirement already satisfied: pyparsing>=2.2.1 in /databricks/python3/lib/python3.9/site-packages (from matplotlib) (3.0.4)\nRequirement already satisfied: packaging>=20.0 in /databricks/python3/lib/python3.9/site-packages (from matplotlib) (21.3)\nRequirement already satisfied: numpy>=1.17 in /databricks/python3/lib/python3.9/site-packages (from matplotlib) (1.21.5)\nRequirement already satisfied: cycler>=0.10 in /databricks/python3/lib/python3.9/site-packages (from matplotlib) (0.11.0)\nRequirement already satisfied: kiwisolver>=1.0.1 in /databricks/python3/lib/python3.9/site-packages (from matplotlib) (1.3.2)\nRequirement already satisfied: pillow>=6.2.0 in /databricks/python3/lib/python3.9/site-packages (from matplotlib) (9.0.1)\nRequirement already satisfied: python-dateutil>=2.7 in /databricks/python3/lib/python3.9/site-packages (from matplotlib) (2.8.2)\nRequirement already satisfied: fonttools>=4.22.0 in /databricks/python3/lib/python3.9/site-packages (from matplotlib) (4.25.0)\nRequirement already satisfied: six>=1.5 in /databricks/python3/lib/python3.9/site-packages (from python-dateutil>=2.7->matplotlib) (1.16.0)\nInstalling collected packages: networkx\nSuccessfully installed networkx-3.2.1\nPython interpreter will be restarted.\n"
     ]
    }
   ],
   "source": [
    "%pip install networkx matplotlib\n"
   ]
  },
  {
   "cell_type": "code",
   "execution_count": 0,
   "metadata": {
    "application/vnd.databricks.v1+cell": {
     "cellMetadata": {
      "byteLimit": 2048000,
      "rowLimit": 10000
     },
     "inputWidgets": {},
     "nuid": "3e098f6f-44c0-4851-b88f-db03eea080b4",
     "showTitle": false,
     "tableResultSettingsMap": {},
     "title": ""
    }
   },
   "outputs": [
    {
     "output_type": "display_data",
     "data": {
      "image/png": "[encoded data removed]"
     },
     "metadata": {
      "application/vnd.databricks.v1+output": {
       "addedWidgets": {},
       "arguments": {},
       "data": "data:image/png;base64,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\n",
       "datasetInfos": [],
       "metadata": {},
       "removedWidgets": [],
       "type": "image"
      }
     },
     "output_type": "display_data"
    }
   ],
   "source": [
    "import networkx as nx\n",
    "import matplotlib.pyplot as plt\n",
    "\n",
    "G = nx.DiGraph()\n",
    "\n",
    "# Adicionando as tabelas e processos ao grafo\n",
    "G.add_edges_from([\n",
    "    (\"data_science_jobs.csv\", \"data_science_jobs_table\"),\n",
    "    (\"data_science_jobs_table\", \"dim_professional\"),\n",
    "    (\"data_science_jobs_table\", \"dim_company\"),\n",
    "    (\"data_science_jobs_table\", \"dim_city\"),\n",
    "    (\"dim_professional\", \"fact_jobs\"),\n",
    "    (\"dim_company\", \"fact_jobs\"),\n",
    "    (\"dim_city\", \"fact_jobs\")\n",
    "])\n",
    "\n",
    "plt.figure(figsize=(10, 5))\n",
    "nx.draw(G, with_labels=True, node_color='lightblue', edge_color='gray', node_size=3000, font_size=10)\n",
    "plt.show()\n"
   ]
  }
 ],
 "metadata": {
  "application/vnd.databricks.v1+notebook": {
   "computePreferences": null,
   "dashboards": [],
   "environmentMetadata": null,
   "inputWidgetPreferences": null,
   "language": "python",
   "notebookMetadata": {
    "mostRecentlyExecutedCommandWithImplicitDF": {
     "commandId": 2175607616659866,
     "dataframes": [
      "_sqldf"
     ]
    },
    "pythonIndentUnit": 4
   },
   "notebookName": "MVP - Engenharia de Dados - PUC Rio",
   "widgets": {}
  }
 },
 "nbformat": 4,
 "nbformat_minor": 0
}